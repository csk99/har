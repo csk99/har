{
  "cells": [
    {
      "cell_type": "markdown",
      "metadata": {
        "id": "uMQoWI7kzxfl"
      },
      "source": [
        "**HUMAN ACTIVITY RECOGNITION**\n",
        "\n",
        "\n",
        "\n",
        "\n"
      ]
    },
    {
      "cell_type": "markdown",
      "metadata": {
        "id": "EEtO9YeSJI7f"
      },
      "source": [
        "This project is about building a Human Activity recognition  system to be deployed in a web application.                                                For computing resources constraints, we used only 10 classes from [UCF-101](https://www.crcv.ucf.edu/data/UCF101.php)."
      ]
    },
    {
      "cell_type": "markdown",
      "metadata": {
        "id": "pwKFOvgCxsUD"
      },
      "source": [
        "Import the necessary libraries"
      ]
    },
    {
      "cell_type": "code",
      "execution_count": 1,
      "metadata": {
        "id": "pSLYEhc64m9M"
      },
      "outputs": [
        {
          "name": "stderr",
          "output_type": "stream",
          "text": [
            "2023-12-28 23:05:56.301075: I tensorflow/tsl/cuda/cudart_stub.cc:28] Could not find cuda drivers on your machine, GPU will not be used.\n",
            "2023-12-28 23:05:56.344836: I tensorflow/tsl/cuda/cudart_stub.cc:28] Could not find cuda drivers on your machine, GPU will not be used.\n",
            "2023-12-28 23:05:56.345580: I tensorflow/core/platform/cpu_feature_guard.cc:182] This TensorFlow binary is optimized to use available CPU instructions in performance-critical operations.\n",
            "To enable the following instructions: AVX2 FMA, in other operations, rebuild TensorFlow with the appropriate compiler flags.\n",
            "2023-12-28 23:05:57.087476: W tensorflow/compiler/tf2tensorrt/utils/py_utils.cc:38] TF-TRT Warning: Could not find TensorRT\n"
          ]
        }
      ],
      "source": [
        "import numpy as np\n",
        "import pandas as pd\n",
        "import matplotlib.pyplot as plt\n",
        "import os\n",
        "import pickle\n",
        "import time\n",
        "import keras\n",
        "import tensorflow as tf\n",
        "import seaborn as sns\n",
        "import os\n",
        "import warnings\n",
        "warnings.filterwarnings(action=\"ignore\")\n",
        "from sklearn.metrics import classification_report,confusion_matrix\n",
        "from sklearn.model_selection import train_test_split\n",
        "from utility import utility\n",
        "from typing import Optional, Tuple, List\n",
        "from concurrent.futures import ThreadPoolExecutor\n",
        "from tqdm import tqdm\n"
      ]
    },
    {
      "cell_type": "code",
      "execution_count": 6,
      "metadata": {
        "id": "wDzMeZsD6gic"
      },
      "outputs": [],
      "source": [
        "BASE_PATH = 'dataset/' #the folder that already contains the videos of interest\n",
        "IMG_SIZE = 224 # SIZE of each frame\n",
        "N_CPU_CORES = os.cpu_count() -1 # the number of cpu to use for paralization \n",
        "TEST_SIZE_RATIO = 0.2\n",
        "IMG_SIZE = 224 #frame size\n",
        "BATCH_SIZE = 64\n",
        "EPOCHS = 40\n",
        "#N_CLASSES = np.unique(dataset_train[\"Label\"])\n",
        "\n",
        "\n",
        "MAX_SEQ_LENGTH = 20 #max number of frame to collect per videos\n",
        "NUM_FEATURES = 2048  #size of the feature embedding resulting from convolution\n",
        "\n",
        "\n"
      ]
    },
    {
      "cell_type": "markdown",
      "metadata": {
        "id": "nK5lShRPH8Wz"
      },
      "source": [
        "# **1. Overview of the data**"
      ]
    },
    {
      "cell_type": "markdown",
      "metadata": {
        "id": "G26H4wAWH_eY"
      },
      "source": [
        "To accomplish this task, we developed a function that go through the folders, extracting various characteristics such as **frame count, frames per second (fps), and duration** for each video and return them as a Dataframe object."
      ]
    },
    {
      "cell_type": "code",
      "execution_count": 7,
      "metadata": {
        "id": "UKuMv6sf9tCH"
      },
      "outputs": [],
      "source": [
        "#get an overview of the dataset\n",
        "dataset = utility.reading_data(BASE_PATH)"
      ]
    },
    {
      "cell_type": "code",
      "execution_count": 8,
      "metadata": {
        "colab": {
          "base_uri": "https://localhost:8080/",
          "height": 206
        },
        "id": "WQEHneTxJshX",
        "outputId": "fa457c3d-3e80-4970-a98c-0cdc9545ef88"
      },
      "outputs": [
        {
          "data": {
            "text/html": [
              "<div>\n",
              "<style scoped>\n",
              "    .dataframe tbody tr th:only-of-type {\n",
              "        vertical-align: middle;\n",
              "    }\n",
              "\n",
              "    .dataframe tbody tr th {\n",
              "        vertical-align: top;\n",
              "    }\n",
              "\n",
              "    .dataframe thead th {\n",
              "        text-align: right;\n",
              "    }\n",
              "</style>\n",
              "<table border=\"1\" class=\"dataframe\">\n",
              "  <thead>\n",
              "    <tr style=\"text-align: right;\">\n",
              "      <th></th>\n",
              "      <th>Label</th>\n",
              "      <th>video_path</th>\n",
              "      <th>Frame_count</th>\n",
              "      <th>fps</th>\n",
              "      <th>Duration (s)</th>\n",
              "    </tr>\n",
              "  </thead>\n",
              "  <tbody>\n",
              "    <tr>\n",
              "      <th>0</th>\n",
              "      <td>TrampolineJumping</td>\n",
              "      <td>dataset/TrampolineJumping/v_TrampolineJumping_...</td>\n",
              "      <td>201</td>\n",
              "      <td>29.97003</td>\n",
              "      <td>6.706700</td>\n",
              "    </tr>\n",
              "    <tr>\n",
              "      <th>1</th>\n",
              "      <td>TrampolineJumping</td>\n",
              "      <td>dataset/TrampolineJumping/v_TrampolineJumping_...</td>\n",
              "      <td>151</td>\n",
              "      <td>29.97003</td>\n",
              "      <td>5.038367</td>\n",
              "    </tr>\n",
              "    <tr>\n",
              "      <th>2</th>\n",
              "      <td>TrampolineJumping</td>\n",
              "      <td>dataset/TrampolineJumping/v_TrampolineJumping_...</td>\n",
              "      <td>151</td>\n",
              "      <td>29.97003</td>\n",
              "      <td>5.038367</td>\n",
              "    </tr>\n",
              "    <tr>\n",
              "      <th>3</th>\n",
              "      <td>TrampolineJumping</td>\n",
              "      <td>dataset/TrampolineJumping/v_TrampolineJumping_...</td>\n",
              "      <td>296</td>\n",
              "      <td>29.97003</td>\n",
              "      <td>9.876533</td>\n",
              "    </tr>\n",
              "    <tr>\n",
              "      <th>4</th>\n",
              "      <td>TrampolineJumping</td>\n",
              "      <td>dataset/TrampolineJumping/v_TrampolineJumping_...</td>\n",
              "      <td>187</td>\n",
              "      <td>29.97003</td>\n",
              "      <td>6.239567</td>\n",
              "    </tr>\n",
              "  </tbody>\n",
              "</table>\n",
              "</div>"
            ],
            "text/plain": [
              "               Label                                         video_path  \\\n",
              "0  TrampolineJumping  dataset/TrampolineJumping/v_TrampolineJumping_...   \n",
              "1  TrampolineJumping  dataset/TrampolineJumping/v_TrampolineJumping_...   \n",
              "2  TrampolineJumping  dataset/TrampolineJumping/v_TrampolineJumping_...   \n",
              "3  TrampolineJumping  dataset/TrampolineJumping/v_TrampolineJumping_...   \n",
              "4  TrampolineJumping  dataset/TrampolineJumping/v_TrampolineJumping_...   \n",
              "\n",
              "   Frame_count       fps  Duration (s)  \n",
              "0          201  29.97003      6.706700  \n",
              "1          151  29.97003      5.038367  \n",
              "2          151  29.97003      5.038367  \n",
              "3          296  29.97003      9.876533  \n",
              "4          187  29.97003      6.239567  "
            ]
          },
          "execution_count": 8,
          "metadata": {},
          "output_type": "execute_result"
        }
      ],
      "source": [
        "dataset.head()"
      ]
    },
    {
      "cell_type": "code",
      "execution_count": 9,
      "metadata": {
        "colab": {
          "base_uri": "https://localhost:8080/"
        },
        "id": "hgd2shLIAvRH",
        "outputId": "7c39575e-2d76-4719-a38e-00807e6045e0"
      },
      "outputs": [
        {
          "data": {
            "text/plain": [
              "10"
            ]
          },
          "execution_count": 9,
          "metadata": {},
          "output_type": "execute_result"
        }
      ],
      "source": [
        "number_classes = len(dataset[\"Label\"].unique())\n",
        "number_classes"
      ]
    },
    {
      "cell_type": "markdown",
      "metadata": {
        "id": "NUEnBMWUKnx9"
      },
      "source": [
        "Are we dealing with an imbalanced dataset ?"
      ]
    },
    {
      "cell_type": "code",
      "execution_count": 10,
      "metadata": {
        "colab": {
          "base_uri": "https://localhost:8080/"
        },
        "id": "waxKIKCxB8Me",
        "outputId": "d0e7ac70-cbf1-4163-9557-a6575947af7c"
      },
      "outputs": [
        {
          "name": "stdout",
          "output_type": "stream",
          "text": [
            "Percentage of video per classes\n"
          ]
        },
        {
          "data": {
            "text/plain": [
              "Label\n",
              "ApplyEyeMakeup       0.112142\n",
              "BabyCrawling         0.102088\n",
              "Biking               0.103635\n",
              "Billiards            0.116009\n",
              "BrushingTeeth        0.101315\n",
              "PizzaTossing         0.087394\n",
              "PushUps              0.078886\n",
              "Swing                0.101315\n",
              "TrampolineJumping    0.092034\n",
              "Typing               0.105182\n",
              "Name: video_path, dtype: float64"
            ]
          },
          "execution_count": 10,
          "metadata": {},
          "output_type": "execute_result"
        }
      ],
      "source": [
        "print(\"Percentage of video per classes\")\n",
        "dataset.groupby(\"Label\").count()[\"video_path\"] / dataset.shape[0]"
      ]
    },
    {
      "cell_type": "markdown",
      "metadata": {
        "id": "PbjxDA6yPNMC"
      },
      "source": [
        "# **2.Preparing the data**"
      ]
    },
    {
      "cell_type": "markdown",
      "metadata": {
        "id": "TomPjWPnU8ID"
      },
      "source": [
        "## 2.1 Utility functions"
      ]
    },
    {
      "cell_type": "markdown",
      "metadata": {
        "id": "zfJIssSvPR99"
      },
      "source": [
        "To achieve that, we will define some utility functions that will make our job easier."
      ]
    },
    {
      "cell_type": "markdown",
      "metadata": {
        "id": "NSHuWDr2dSKd"
      },
      "source": [
        "## 2.2 Feature extraction using a pre-trained CNN\n",
        "\n",
        "\n",
        "\n"
      ]
    },
    {
      "cell_type": "code",
      "execution_count": 8,
      "metadata": {
        "id": "hwlhjBevo71Z"
      },
      "outputs": [
        {
          "name": "stderr",
          "output_type": "stream",
          "text": [
            "extracting frames from videos: 1293it [00:08, 151.94it/s]\n"
          ]
        }
      ],
      "source": [
        "with ThreadPoolExecutor(max_workers=N_CPU_CORES) as executor:\n",
        "  #load the videos in parallel on mutiple threads\n",
        "  frames = tqdm(executor.map(utility.load_video,dataset['video_path']),desc=\"extracting frames from videos\")\n",
        "  #save the frames as dataframe\n",
        "  videos_frames = np.array(list(frames))\n",
        "   \n"
      ]
    },
    {
      "cell_type": "code",
      "execution_count": 11,
      "metadata": {
        "colab": {
          "base_uri": "https://localhost:8080/"
        },
        "id": "ocPwnk1R-DA9",
        "outputId": "692cfb84-824c-446e-84e1-c3274db5a3c5"
      },
      "outputs": [
        {
          "name": "stderr",
          "output_type": "stream",
          "text": [
            "extracting features from each frames: 0it [00:00, ?it/s]"
          ]
        },
        {
          "name": "stdout",
          "output_type": "stream",
          "text": [
            "1/1 [==============================] - 6s 6s/step\n",
            "1/1 [==============================] - 7s 7s/step\n",
            "1/1 [==============================] - 7s 7s/step\n",
            "1/1 [==============================] - 7s 7s/step\n",
            "1/1 [==============================] - 7s 7s/step\n",
            "1/1 [==============================] - 7s 7s/step\n",
            "1/1 [==============================] - 7s 7s/step\n",
            "1/1 [==============================] - 7s 7s/step\n",
            "1/1 [==============================] - 7s 7s/step\n",
            "1/1 [==============================] - 7s 7s/step\n",
            "1/1 [==============================] - 7s 7s/step\n"
          ]
        },
        {
          "name": "stderr",
          "output_type": "stream",
          "text": [
            "extracting features from each frames: 1it [00:06,  6.85s/it]"
          ]
        },
        {
          "name": "stdout",
          "output_type": "stream",
          "text": [
            "1/1 [==============================] - 1s 929ms/step\n"
          ]
        },
        {
          "name": "stderr",
          "output_type": "stream",
          "text": [
            "extracting features from each frames: 12it [00:07,  2.15it/s]"
          ]
        },
        {
          "name": "stdout",
          "output_type": "stream",
          "text": [
            "1/1 [==============================] - 5s 5s/step\n",
            "1/1 [==============================] - 5s 5s/step\n",
            "1/1 [==============================] - 5s 5s/step\n",
            "1/1 [==============================] - 6s 6s/step\n",
            "1/1 [==============================] - 6s 6s/step\n",
            "1/1 [==============================] - 6s 6s/step\n",
            "1/1 [==============================] - 6s 6s/step\n",
            "1/1 [==============================] - 6s 6s/step\n",
            "1/1 [==============================] - 6s 6s/step\n"
          ]
        },
        {
          "name": "stderr",
          "output_type": "stream",
          "text": [
            "extracting features from each frames: 14it [00:13,  1.04it/s]"
          ]
        },
        {
          "name": "stdout",
          "output_type": "stream",
          "text": [
            "1/1 [==============================] - 6s 6s/step\n",
            "1/1 [==============================] - 6s 6s/step\n",
            "1/1 [==============================] - 2s 2s/step\n",
            "1/1 [==============================] - 3s 3s/step\n",
            "1/1 [==============================] - 4s 4s/step\n",
            "1/1 [==============================] - 4s 4s/step\n"
          ]
        },
        {
          "name": "stderr",
          "output_type": "stream",
          "text": [
            "extracting features from each frames: 15it [00:18,  1.42s/it]"
          ]
        },
        {
          "name": "stdout",
          "output_type": "stream",
          "text": [
            "1/1 [==============================] - 4s 4s/step\n",
            "1/1 [==============================] - 4s 4s/step\n"
          ]
        },
        {
          "name": "stderr",
          "output_type": "stream",
          "text": [
            "extracting features from each frames: 23it [00:18,  1.67it/s]"
          ]
        },
        {
          "name": "stdout",
          "output_type": "stream",
          "text": [
            "1/1 [==============================] - 4s 4s/step\n",
            "1/1 [==============================] - 4s 4s/step\n"
          ]
        },
        {
          "name": "stderr",
          "output_type": "stream",
          "text": [
            "extracting features from each frames: 29it [00:18,  2.59it/s]"
          ]
        },
        {
          "name": "stdout",
          "output_type": "stream",
          "text": [
            "1/1 [==============================] - 4s 4s/step\n",
            "1/1 [==============================] - 3s 3s/step\n"
          ]
        },
        {
          "name": "stderr",
          "output_type": "stream",
          "text": [
            "extracting features from each frames: 33it [00:19,  2.79it/s]"
          ]
        },
        {
          "name": "stdout",
          "output_type": "stream",
          "text": [
            "1/1 [==============================] - 4s 4s/step\n",
            "1/1 [==============================] - 5s 5s/step\n"
          ]
        },
        {
          "name": "stderr",
          "output_type": "stream",
          "text": [
            "extracting features from each frames: 35it [00:23,  1.68it/s]"
          ]
        },
        {
          "name": "stdout",
          "output_type": "stream",
          "text": [
            "1/1 [==============================] - 5s 5s/step\n",
            "1/1 [==============================] - 5s 5s/step\n",
            "1/1 [==============================] - 5s 5s/step\n",
            "1/1 [==============================] - 5s 5s/step\n",
            "1/1 [==============================] - 6s 6s/step\n",
            "1/1 [==============================] - 6s 6s/step\n"
          ]
        },
        {
          "name": "stderr",
          "output_type": "stream",
          "text": [
            "extracting features from each frames: 37it [00:24,  1.67it/s]"
          ]
        },
        {
          "name": "stdout",
          "output_type": "stream",
          "text": [
            "1/1 [==============================] - 5s 5s/step\n",
            "1/1 [==============================] - 5s 5s/step\n",
            "1/1 [==============================] - 6s 6s/step\n"
          ]
        },
        {
          "name": "stderr",
          "output_type": "stream",
          "text": [
            "extracting features from each frames: 40it [00:25,  2.09it/s]"
          ]
        },
        {
          "name": "stdout",
          "output_type": "stream",
          "text": [
            "1/1 [==============================] - 4s 4s/step\n",
            "1/1 [==============================] - 5s 5s/step\n"
          ]
        },
        {
          "name": "stderr",
          "output_type": "stream",
          "text": [
            "extracting features from each frames: 45it [00:28,  1.69it/s]"
          ]
        },
        {
          "name": "stdout",
          "output_type": "stream",
          "text": [
            "1/1 [==============================] - 5s 5s/step\n",
            "1/1 [==============================] - 5s 5s/step\n"
          ]
        },
        {
          "name": "stderr",
          "output_type": "stream",
          "text": [
            "extracting features from each frames: 47it [00:30,  1.69it/s]"
          ]
        },
        {
          "name": "stdout",
          "output_type": "stream",
          "text": [
            "1/1 [==============================] - 5s 5s/step\n",
            "1/1 [==============================] - 5s 5s/step\n"
          ]
        },
        {
          "name": "stderr",
          "output_type": "stream",
          "text": [
            "extracting features from each frames: 49it [00:30,  2.05it/s]"
          ]
        },
        {
          "name": "stdout",
          "output_type": "stream",
          "text": [
            "1/1 [==============================] - 5s 5s/step\n",
            "1/1 [==============================] - 5s 5s/step\n",
            "1/1 [==============================] - 5s 5s/step\n"
          ]
        },
        {
          "name": "stderr",
          "output_type": "stream",
          "text": [
            "extracting features from each frames: 50it [00:30,  2.16it/s]"
          ]
        },
        {
          "name": "stdout",
          "output_type": "stream",
          "text": [
            "1/1 [==============================] - 5s 5s/step\n"
          ]
        },
        {
          "name": "stderr",
          "output_type": "stream",
          "text": [
            "extracting features from each frames: 53it [00:30,  3.20it/s]"
          ]
        },
        {
          "name": "stdout",
          "output_type": "stream",
          "text": [
            "1/1 [==============================] - 5s 5s/step\n"
          ]
        },
        {
          "name": "stderr",
          "output_type": "stream",
          "text": [
            "extracting features from each frames: 55it [00:30,  4.01it/s]"
          ]
        },
        {
          "name": "stdout",
          "output_type": "stream",
          "text": [
            "1/1 [==============================] - 5s 5s/step\n",
            "1/1 [==============================] - 5s 5s/step\n"
          ]
        },
        {
          "name": "stderr",
          "output_type": "stream",
          "text": [
            "extracting features from each frames: 57it [00:34,  1.57it/s]"
          ]
        },
        {
          "name": "stdout",
          "output_type": "stream",
          "text": [
            "1/1 [==============================] - 5s 5s/step\n",
            "1/1 [==============================] - 5s 5s/step\n"
          ]
        },
        {
          "name": "stderr",
          "output_type": "stream",
          "text": [
            "extracting features from each frames: 58it [00:35,  1.25it/s]"
          ]
        },
        {
          "name": "stdout",
          "output_type": "stream",
          "text": [
            "1/1 [==============================] - 6s 6s/step\n"
          ]
        },
        {
          "name": "stderr",
          "output_type": "stream",
          "text": [
            "extracting features from each frames: 59it [00:36,  1.38it/s]"
          ]
        },
        {
          "name": "stdout",
          "output_type": "stream",
          "text": [
            "1/1 [==============================] - 5s 5s/step\n",
            "1/1 [==============================] - 5s 5s/step\n"
          ]
        },
        {
          "name": "stderr",
          "output_type": "stream",
          "text": [
            "extracting features from each frames: 61it [00:36,  2.02it/s]"
          ]
        },
        {
          "name": "stdout",
          "output_type": "stream",
          "text": [
            "1/1 [==============================] - 6s 6s/step\n",
            "1/1 [==============================] - 6s 6s/step\n",
            "1/1 [==============================] - ETA: 0s"
          ]
        },
        {
          "name": "stderr",
          "output_type": "stream",
          "text": [
            "extracting features from each frames: 62it [00:36,  2.11it/s]"
          ]
        },
        {
          "name": "stdout",
          "output_type": "stream",
          "text": [
            "1/1 [==============================] - 6s 6s/step\n",
            "1/1 [==============================] - 6s 6s/step\n",
            "1/1 [==============================] - 5s 5s/step\n"
          ]
        },
        {
          "name": "stderr",
          "output_type": "stream",
          "text": [
            "extracting features from each frames: 67it [00:39,  2.05it/s]"
          ]
        },
        {
          "name": "stdout",
          "output_type": "stream",
          "text": [
            "1/1 [==============================] - 6s 6s/step\n",
            "1/1 [==============================] - 6s 6s/step\n",
            "1/1 [==============================] - 6s 6s/step\n",
            "1/1 [==============================] - 5s 5s/step\n",
            "1/1 [==============================] - 6s 6s/step\n",
            "1/1 [==============================] - 6s 6s/step\n",
            "1/1 [==============================] - 5s 5s/step\n",
            "1/1 [==============================] - 5s 5s/step\n",
            "1/1 [==============================] - 5s 5s/step\n",
            "1/1 [==============================] - 5s 5s/step\n",
            "1/1 [==============================] - 3s 3s/step\n"
          ]
        },
        {
          "name": "stderr",
          "output_type": "stream",
          "text": [
            "extracting features from each frames: 68it [00:44,  1.22s/it]"
          ]
        },
        {
          "name": "stdout",
          "output_type": "stream",
          "text": [
            "1/1 [==============================] - 3s 3s/step\n",
            "1/1 [==============================] - 3s 3s/step\n",
            "1/1 [==============================] - 4s 4s/step\n",
            "1/1 [==============================] - 4s 4s/step\n",
            "1/1 [==============================] - 3s 3s/step\n",
            "1/1 [==============================] - 4s 4s/step\n",
            "1/1 [==============================] - 2s 2s/step\n"
          ]
        },
        {
          "name": "stderr",
          "output_type": "stream",
          "text": [
            "extracting features from each frames: 73it [00:47,  1.48it/s]"
          ]
        },
        {
          "name": "stdout",
          "output_type": "stream",
          "text": [
            "1/1 [==============================] - 4s 4s/step\n"
          ]
        },
        {
          "name": "stderr",
          "output_type": "stream",
          "text": [
            "extracting features from each frames: 86it [00:50,  2.66it/s]"
          ]
        },
        {
          "name": "stdout",
          "output_type": "stream",
          "text": [
            "1/1 [==============================] - 5s 5s/step\n"
          ]
        },
        {
          "name": "stderr",
          "output_type": "stream",
          "text": [
            "extracting features from each frames: 87it [00:51,  2.52it/s]"
          ]
        },
        {
          "name": "stdout",
          "output_type": "stream",
          "text": [
            "1/1 [==============================] - 5s 5s/step\n"
          ]
        },
        {
          "name": "stderr",
          "output_type": "stream",
          "text": [
            "extracting features from each frames: 88it [00:52,  2.42it/s]"
          ]
        },
        {
          "name": "stdout",
          "output_type": "stream",
          "text": [
            "1/1 [==============================] - 5s 5s/step\n",
            "1/1 [==============================] - 6s 6s/step\n",
            "1/1 [==============================] - 6s 6s/step\n"
          ]
        },
        {
          "name": "stderr",
          "output_type": "stream",
          "text": [
            "extracting features from each frames: 89it [00:52,  2.23it/s]"
          ]
        },
        {
          "name": "stdout",
          "output_type": "stream",
          "text": [
            "1/1 [==============================] - 6s 6s/step\n",
            "1/1 [==============================] - 5s 5s/step\n",
            "1/1 [==============================] - 6s 6s/step\n"
          ]
        },
        {
          "name": "stderr",
          "output_type": "stream",
          "text": [
            "extracting features from each frames: 90it [00:52,  2.42it/s]"
          ]
        },
        {
          "name": "stdout",
          "output_type": "stream",
          "text": [
            "1/1 [==============================] - 6s 6s/step\n",
            "1/1 [==============================] - 6s 6s/step\n",
            "1/1 [==============================] - 5s 5s/step\n",
            "1/1 [==============================] - 5s 5s/step\n"
          ]
        },
        {
          "name": "stderr",
          "output_type": "stream",
          "text": [
            "extracting features from each frames: 91it [00:57,  1.11s/it]"
          ]
        },
        {
          "name": "stdout",
          "output_type": "stream",
          "text": [
            "1/1 [==============================] - 5s 5s/step\n",
            "1/1 [==============================] - 6s 6s/step\n"
          ]
        },
        {
          "name": "stderr",
          "output_type": "stream",
          "text": [
            "extracting features from each frames: 99it [00:57,  2.39it/s]"
          ]
        },
        {
          "name": "stdout",
          "output_type": "stream",
          "text": [
            "1/1 [==============================] - 5s 5s/step\n"
          ]
        },
        {
          "name": "stderr",
          "output_type": "stream",
          "text": [
            "extracting features from each frames: 101it [00:58,  2.59it/s]"
          ]
        },
        {
          "name": "stdout",
          "output_type": "stream",
          "text": [
            "1/1 [==============================] - 5s 5s/step\n",
            "1/1 [==============================] - 6s 6s/step\n",
            "1/1 [==============================] - 6s 6s/step\n"
          ]
        },
        {
          "name": "stderr",
          "output_type": "stream",
          "text": [
            "extracting features from each frames: 102it [00:59,  2.34it/s]"
          ]
        },
        {
          "name": "stdout",
          "output_type": "stream",
          "text": [
            "1/1 [==============================] - 6s 6s/step\n",
            "1/1 [==============================] - 6s 6s/step\n"
          ]
        },
        {
          "name": "stderr",
          "output_type": "stream",
          "text": [
            "extracting features from each frames: 104it [00:59,  2.95it/s]"
          ]
        },
        {
          "name": "stdout",
          "output_type": "stream",
          "text": [
            "1/1 [==============================] - 5s 5s/step\n",
            "1/1 [==============================] - 5s 5s/step\n",
            "1/1 [==============================] - 6s 6s/step\n",
            "1/1 [==============================] - 5s 5s/step\n",
            "1/1 [==============================] - 5s 5s/step\n",
            "1/1 [==============================] - 5s 5s/step\n"
          ]
        },
        {
          "name": "stderr",
          "output_type": "stream",
          "text": [
            "extracting features from each frames: 106it [01:03,  1.16it/s]"
          ]
        },
        {
          "name": "stdout",
          "output_type": "stream",
          "text": [
            "1/1 [==============================] - 5s 5s/step\n",
            "1/1 [==============================] - 5s 5s/step\n",
            "1/1 [==============================] - 5s 5s/step\n",
            "1/1 [==============================] - 5s 5s/step\n",
            "1/1 [==============================] - 5s 5s/step\n",
            "1/1 [==============================] - 5s 5s/step\n"
          ]
        },
        {
          "name": "stderr",
          "output_type": "stream",
          "text": [
            "extracting features from each frames: 109it [01:08,  1.05s/it]"
          ]
        },
        {
          "name": "stdout",
          "output_type": "stream",
          "text": [
            "1/1 [==============================] - 6s 6s/step\n",
            "1/1 [==============================] - 5s 5s/step\n",
            "1/1 [==============================] - 6s 6s/step\n"
          ]
        },
        {
          "name": "stderr",
          "output_type": "stream",
          "text": [
            "extracting features from each frames: 119it [01:09,  2.10it/s]"
          ]
        },
        {
          "name": "stdout",
          "output_type": "stream",
          "text": [
            "1/1 [==============================] - 5s 5s/step\n",
            "1/1 [==============================] - 5s 5s/step\n",
            "1/1 [==============================] - 6s 6s/step\n",
            "1/1 [==============================] - 6s 6s/step\n",
            "1/1 [==============================] - 6s 6s/step\n"
          ]
        },
        {
          "name": "stderr",
          "output_type": "stream",
          "text": [
            "extracting features from each frames: 121it [01:10,  2.19it/s]"
          ]
        },
        {
          "name": "stdout",
          "output_type": "stream",
          "text": [
            "1/1 [==============================] - ETA: 0s"
          ]
        },
        {
          "name": "stderr",
          "output_type": "stream",
          "text": [
            "extracting features from each frames: 122it [01:10,  2.38it/s]"
          ]
        },
        {
          "name": "stdout",
          "output_type": "stream",
          "text": [
            "1/1 [==============================] - 4s 4s/step\n",
            "1/1 [==============================] - 4s 4s/step\n",
            "1/1 [==============================] - ETA: 0s"
          ]
        },
        {
          "name": "stderr",
          "output_type": "stream",
          "text": [
            "extracting features from each frames: 127it [01:10,  3.84it/s]"
          ]
        },
        {
          "name": "stdout",
          "output_type": "stream",
          "text": [
            "1/1 [==============================] - 2s 2s/step\n"
          ]
        },
        {
          "name": "stderr",
          "output_type": "stream",
          "text": [
            "extracting features from each frames: 129it [01:10,  4.49it/s]"
          ]
        },
        {
          "name": "stdout",
          "output_type": "stream",
          "text": [
            "1/1 [==============================] - 5s 5s/step\n",
            "1/1 [==============================] - 5s 5s/step\n",
            "1/1 [==============================] - 6s 6s/step\n",
            "1/1 [==============================] - 6s 6s/step\n",
            "1/1 [==============================] - 6s 6s/step\n",
            "1/1 [==============================] - 6s 6s/step\n",
            "1/1 [==============================] - 6s 6s/step\n",
            "1/1 [==============================] - 5s 5s/step\n",
            "1/1 [==============================] - 6s 6s/step\n",
            "1/1 [==============================] - 6s 6s/step\n",
            "1/1 [==============================] - 6s 6s/step\n"
          ]
        },
        {
          "name": "stderr",
          "output_type": "stream",
          "text": [
            "extracting features from each frames: 131it [01:16,  1.17it/s]"
          ]
        },
        {
          "name": "stdout",
          "output_type": "stream",
          "text": [
            "1/1 [==============================] - 3s 3s/step\n",
            "1/1 [==============================] - 4s 4s/step\n"
          ]
        },
        {
          "name": "stderr",
          "output_type": "stream",
          "text": [
            "extracting features from each frames: 137it [01:21,  1.27it/s]"
          ]
        },
        {
          "name": "stdout",
          "output_type": "stream",
          "text": [
            "1/1 [==============================] - 5s 5s/step\n"
          ]
        },
        {
          "name": "stderr",
          "output_type": "stream",
          "text": [
            "extracting features from each frames: 142it [01:21,  1.92it/s]"
          ]
        },
        {
          "name": "stdout",
          "output_type": "stream",
          "text": [
            "1/1 [==============================] - 5s 5s/step\n",
            "1/1 [==============================] - 6s 6s/step\n"
          ]
        },
        {
          "name": "stderr",
          "output_type": "stream",
          "text": [
            "extracting features from each frames: 144it [01:22,  1.85it/s]"
          ]
        },
        {
          "name": "stdout",
          "output_type": "stream",
          "text": [
            "1/1 [==============================] - 5s 5s/step\n",
            "1/1 [==============================] - 5s 5s/step\n",
            "1/1 [==============================] - ETA: 0s"
          ]
        },
        {
          "name": "stderr",
          "output_type": "stream",
          "text": [
            "extracting features from each frames: 146it [01:22,  2.22it/s]"
          ]
        },
        {
          "name": "stdout",
          "output_type": "stream",
          "text": [
            "1/1 [==============================] - 5s 5s/step\n",
            "1/1 [==============================] - 6s 6s/step\n"
          ]
        },
        {
          "name": "stderr",
          "output_type": "stream",
          "text": [
            "extracting features from each frames: 149it [01:23,  2.96it/s]"
          ]
        },
        {
          "name": "stdout",
          "output_type": "stream",
          "text": [
            "1/1 [==============================] - 6s 6s/step\n",
            "1/1 [==============================] - 5s 5s/step\n"
          ]
        },
        {
          "name": "stderr",
          "output_type": "stream",
          "text": [
            "extracting features from each frames: 151it [01:26,  1.72it/s]"
          ]
        },
        {
          "name": "stdout",
          "output_type": "stream",
          "text": [
            "1/1 [==============================] - 5s 5s/step\n",
            "1/1 [==============================] - 6s 6s/step\n"
          ]
        },
        {
          "name": "stderr",
          "output_type": "stream",
          "text": [
            "extracting features from each frames: 152it [01:27,  1.47it/s]"
          ]
        },
        {
          "name": "stdout",
          "output_type": "stream",
          "text": [
            "1/1 [==============================] - 6s 6s/step\n",
            "1/1 [==============================] - 5s 5s/step\n"
          ]
        },
        {
          "name": "stderr",
          "output_type": "stream",
          "text": [
            "extracting features from each frames: 155it [01:28,  1.95it/s]"
          ]
        },
        {
          "name": "stdout",
          "output_type": "stream",
          "text": [
            "1/1 [==============================] - 6s 6s/step\n"
          ]
        },
        {
          "name": "stderr",
          "output_type": "stream",
          "text": [
            "extracting features from each frames: 156it [01:28,  1.73it/s]"
          ]
        },
        {
          "name": "stdout",
          "output_type": "stream",
          "text": [
            "1/1 [==============================] - 6s 6s/step\n",
            "1/1 [==============================] - 6s 6s/step\n",
            "1/1 [==============================] - 6s 6s/step\n",
            "1/1 [==============================] - 6s 6s/step\n",
            "1/1 [==============================] - 6s 6s/step\n",
            "1/1 [==============================] - 5s 5s/step\n",
            "1/1 [==============================] - 5s 5s/step\n",
            "1/1 [==============================] - 5s 5s/step\n",
            "1/1 [==============================] - 5s 5s/step\n",
            "1/1 [==============================] - 4s 4s/step\n",
            "1/1 [==============================] - 4s 4s/step\n",
            "1/1 [==============================] - 4s 4s/step\n"
          ]
        },
        {
          "name": "stderr",
          "output_type": "stream",
          "text": [
            "extracting features from each frames: 161it [01:34,  1.45it/s]"
          ]
        },
        {
          "name": "stdout",
          "output_type": "stream",
          "text": [
            "1/1 [==============================] - 4s 4s/step\n"
          ]
        },
        {
          "name": "stderr",
          "output_type": "stream",
          "text": [
            "extracting features from each frames: 168it [01:34,  3.19it/s]"
          ]
        },
        {
          "name": "stdout",
          "output_type": "stream",
          "text": [
            "1/1 [==============================] - 4s 4s/step\n",
            "1/1 [==============================] - 4s 4s/step\n"
          ]
        },
        {
          "name": "stderr",
          "output_type": "stream",
          "text": [
            "extracting features from each frames: 171it [01:36,  2.34it/s]"
          ]
        },
        {
          "name": "stdout",
          "output_type": "stream",
          "text": [
            "1/1 [==============================] - 5s 5s/step\n",
            "1/1 [==============================] - 5s 5s/step\n",
            "1/1 [==============================] - 5s 5s/step\n",
            "1/1 [==============================] - 6s 6s/step\n"
          ]
        },
        {
          "name": "stderr",
          "output_type": "stream",
          "text": [
            "extracting features from each frames: 174it [01:39,  1.76it/s]"
          ]
        },
        {
          "name": "stdout",
          "output_type": "stream",
          "text": [
            "1/1 [==============================] - 5s 5s/step\n",
            "1/1 [==============================] - 5s 5s/step\n",
            "1/1 [==============================] - 6s 6s/step\n",
            "1/1 [==============================] - 6s 6s/step\n",
            "1/1 [==============================] - 5s 5s/step\n",
            "1/1 [==============================] - 5s 5s/step\n",
            "1/1 [==============================] - 5s 5s/step\n",
            "1/1 [==============================] - 4s 4s/step\n",
            "1/1 [==============================] - 5s 5s/step\n",
            "1/1 [==============================] - 4s 4s/step\n",
            "1/1 [==============================] - 4s 4s/step\n",
            "1/1 [==============================] - 3s 3s/step\n",
            "1/1 [==============================] - 3s 3s/step\n"
          ]
        },
        {
          "name": "stderr",
          "output_type": "stream",
          "text": [
            "extracting features from each frames: 187it [01:46,  2.37it/s]"
          ]
        },
        {
          "name": "stdout",
          "output_type": "stream",
          "text": [
            "1/1 [==============================] - 4s 4s/step\n"
          ]
        },
        {
          "name": "stderr",
          "output_type": "stream",
          "text": [
            "extracting features from each frames: 189it [01:46,  2.75it/s]"
          ]
        },
        {
          "name": "stdout",
          "output_type": "stream",
          "text": [
            "1/1 [==============================] - 4s 4s/step\n",
            "1/1 [==============================] - 4s 4s/step\n",
            "1/1 [==============================] - 4s 4s/step\n"
          ]
        },
        {
          "name": "stderr",
          "output_type": "stream",
          "text": [
            "extracting features from each frames: 191it [01:46,  2.92it/s]"
          ]
        },
        {
          "name": "stdout",
          "output_type": "stream",
          "text": [
            "1/1 [==============================] - 4s 4s/step\n"
          ]
        },
        {
          "name": "stderr",
          "output_type": "stream",
          "text": [
            "extracting features from each frames: 193it [01:47,  3.17it/s]"
          ]
        },
        {
          "name": "stdout",
          "output_type": "stream",
          "text": [
            "1/1 [==============================] - 5s 5s/step\n"
          ]
        },
        {
          "name": "stderr",
          "output_type": "stream",
          "text": [
            "extracting features from each frames: 194it [01:50,  1.58it/s]"
          ]
        },
        {
          "name": "stdout",
          "output_type": "stream",
          "text": [
            "1/1 [==============================] - 5s 5s/step\n",
            "1/1 [==============================] - 6s 6s/step\n"
          ]
        },
        {
          "name": "stderr",
          "output_type": "stream",
          "text": [
            "extracting features from each frames: 195it [01:50,  1.51it/s]"
          ]
        },
        {
          "name": "stdout",
          "output_type": "stream",
          "text": [
            "1/1 [==============================] - 6s 6s/step\n",
            "1/1 [==============================] - 6s 6s/step\n",
            "1/1 [==============================] - 6s 6s/step\n",
            "1/1 [==============================] - 6s 6s/step\n",
            "1/1 [==============================] - 5s 5s/step\n",
            "1/1 [==============================] - 5s 5s/step\n",
            "1/1 [==============================] - 5s 5s/step\n",
            "1/1 [==============================] - 6s 6s/step\n",
            "1/1 [==============================] - 5s 5s/step\n"
          ]
        },
        {
          "name": "stderr",
          "output_type": "stream",
          "text": [
            "extracting features from each frames: 196it [01:55,  1.36s/it]"
          ]
        },
        {
          "name": "stdout",
          "output_type": "stream",
          "text": [
            "1/1 [==============================] - 4s 4s/step\n",
            "1/1 [==============================] - 4s 4s/step\n"
          ]
        },
        {
          "name": "stderr",
          "output_type": "stream",
          "text": [
            "extracting features from each frames: 199it [01:57,  1.03s/it]"
          ]
        },
        {
          "name": "stdout",
          "output_type": "stream",
          "text": [
            "1/1 [==============================] - 5s 5s/step\n"
          ]
        },
        {
          "name": "stderr",
          "output_type": "stream",
          "text": [
            "extracting features from each frames: 208it [01:57,  2.69it/s]"
          ]
        },
        {
          "name": "stdout",
          "output_type": "stream",
          "text": [
            "1/1 [==============================] - 5s 5s/step\n",
            "1/1 [==============================] - 5s 5s/step\n",
            "1/1 [==============================] - 6s 6s/step\n"
          ]
        },
        {
          "name": "stderr",
          "output_type": "stream",
          "text": [
            "extracting features from each frames: 210it [01:58,  2.40it/s]"
          ]
        },
        {
          "name": "stdout",
          "output_type": "stream",
          "text": [
            "1/1 [==============================] - 6s 6s/step\n",
            "1/1 [==============================] - 6s 6s/step\n",
            "1/1 [==============================] - 5s 5s/step\n",
            "1/1 [==============================] - 5s 5s/step\n",
            "1/1 [==============================] - 5s 5s/step\n",
            "1/1 [==============================] - 6s 6s/step\n",
            "1/1 [==============================] - 5s 5s/step\n",
            "1/1 [==============================] - 6s 6s/step\n",
            "1/1 [==============================] - 5s 5s/step\n"
          ]
        },
        {
          "name": "stderr",
          "output_type": "stream",
          "text": [
            "extracting features from each frames: 212it [02:03,  1.22it/s]"
          ]
        },
        {
          "name": "stdout",
          "output_type": "stream",
          "text": [
            "1/1 [==============================] - 5s 5s/step\n"
          ]
        },
        {
          "name": "stderr",
          "output_type": "stream",
          "text": [
            "extracting features from each frames: 221it [02:03,  2.64it/s]"
          ]
        },
        {
          "name": "stdout",
          "output_type": "stream",
          "text": [
            "1/1 [==============================] - 6s 6s/step\n",
            "1/1 [==============================] - 6s 6s/step\n",
            "1/1 [==============================] - 5s 5s/step\n",
            "1/1 [==============================] - 5s 5s/step\n",
            "1/1 [==============================] - 5s 5s/step\n",
            "1/1 [==============================] - 5s 5s/step\n",
            "1/1 [==============================] - 5s 5s/step\n",
            "1/1 [==============================] - 6s 6s/step\n",
            "1/1 [==============================] - 5s 5s/step\n",
            "1/1 [==============================] - 6s 6s/step\n",
            "1/1 [==============================] - 5s 5s/step\n"
          ]
        },
        {
          "name": "stderr",
          "output_type": "stream",
          "text": [
            "extracting features from each frames: 223it [02:09,  1.32it/s]"
          ]
        },
        {
          "name": "stdout",
          "output_type": "stream",
          "text": [
            "1/1 [==============================] - 5s 5s/step\n"
          ]
        },
        {
          "name": "stderr",
          "output_type": "stream",
          "text": [
            "extracting features from each frames: 233it [02:10,  2.52it/s]"
          ]
        },
        {
          "name": "stdout",
          "output_type": "stream",
          "text": [
            "1/1 [==============================] - 6s 6s/step\n",
            "1/1 [==============================] - 5s 5s/step\n",
            "1/1 [==============================] - 5s 5s/step\n"
          ]
        },
        {
          "name": "stderr",
          "output_type": "stream",
          "text": [
            "extracting features from each frames: 235it [02:12,  2.08it/s]"
          ]
        },
        {
          "name": "stdout",
          "output_type": "stream",
          "text": [
            "1/1 [==============================] - 5s 5s/step\n"
          ]
        },
        {
          "name": "stderr",
          "output_type": "stream",
          "text": [
            "extracting features from each frames: 237it [02:12,  2.41it/s]"
          ]
        },
        {
          "name": "stdout",
          "output_type": "stream",
          "text": [
            "1/1 [==============================] - 6s 6s/step\n",
            "1/1 [==============================] - 6s 6s/step\n",
            "1/1 [==============================] - 6s 6s/step\n"
          ]
        },
        {
          "name": "stderr",
          "output_type": "stream",
          "text": [
            "extracting features from each frames: 239it [02:15,  1.74it/s]"
          ]
        },
        {
          "name": "stdout",
          "output_type": "stream",
          "text": [
            "1/1 [==============================] - 6s 6s/step\n",
            "1/1 [==============================] - 6s 6s/step\n",
            "1/1 [==============================] - 6s 6s/step\n",
            "1/1 [==============================] - 5s 5s/step\n",
            "1/1 [==============================] - 5s 5s/step\n",
            "1/1 [==============================] - 5s 5s/step\n",
            "1/1 [==============================] - 5s 5s/step\n",
            "1/1 [==============================] - 6s 6s/step\n"
          ]
        },
        {
          "name": "stderr",
          "output_type": "stream",
          "text": [
            "extracting features from each frames: 241it [02:19,  1.08it/s]"
          ]
        },
        {
          "name": "stdout",
          "output_type": "stream",
          "text": [
            "1/1 [==============================] - 5s 5s/step\n",
            "1/1 [==============================] - 5s 5s/step\n",
            "1/1 [==============================] - 5s 5s/step\n",
            "1/1 [==============================] - 5s 5s/step\n",
            "1/1 [==============================] - 5s 5s/step\n"
          ]
        },
        {
          "name": "stderr",
          "output_type": "stream",
          "text": [
            "extracting features from each frames: 244it [02:21,  1.27it/s]"
          ]
        },
        {
          "name": "stdout",
          "output_type": "stream",
          "text": [
            "1/1 [==============================] - 5s 5s/step\n"
          ]
        },
        {
          "name": "stderr",
          "output_type": "stream",
          "text": [
            "extracting features from each frames: 254it [02:23,  2.28it/s]"
          ]
        },
        {
          "name": "stdout",
          "output_type": "stream",
          "text": [
            "1/1 [==============================] - 5s 5s/step\n",
            "1/1 [==============================] - 6s 6s/step\n",
            "1/1 [==============================] - 6s 6s/step\n",
            "1/1 [==============================] - 6s 6s/step\n",
            "1/1 [==============================] - 5s 5s/step\n",
            "1/1 [==============================] - 5s 5s/step\n",
            "1/1 [==============================] - 5s 5s/step\n",
            "1/1 [==============================] - 6s 6s/step\n",
            "1/1 [==============================] - 6s 6s/step\n",
            "1/1 [==============================] - 6s 6s/step\n",
            "1/1 [==============================] - 4s 4s/step\n"
          ]
        },
        {
          "name": "stderr",
          "output_type": "stream",
          "text": [
            "extracting features from each frames: 255it [02:28,  1.24it/s]"
          ]
        },
        {
          "name": "stdout",
          "output_type": "stream",
          "text": [
            "1/1 [==============================] - 4s 4s/step\n",
            "1/1 [==============================] - 4s 4s/step\n",
            "1/1 [==============================] - 4s 4s/step\n"
          ]
        },
        {
          "name": "stderr",
          "output_type": "stream",
          "text": [
            "extracting features from each frames: 260it [02:30,  1.44it/s]"
          ]
        },
        {
          "name": "stdout",
          "output_type": "stream",
          "text": [
            "1/1 [==============================] - 5s 5s/step\n"
          ]
        },
        {
          "name": "stderr",
          "output_type": "stream",
          "text": [
            "extracting features from each frames: 269it [02:31,  2.92it/s]"
          ]
        },
        {
          "name": "stdout",
          "output_type": "stream",
          "text": [
            "1/1 [==============================] - 5s 5s/step\n",
            "1/1 [==============================] - 5s 5s/step\n",
            "1/1 [==============================] - 5s 5s/step\n"
          ]
        },
        {
          "name": "stderr",
          "output_type": "stream",
          "text": [
            "extracting features from each frames: 271it [02:31,  3.02it/s]"
          ]
        },
        {
          "name": "stdout",
          "output_type": "stream",
          "text": [
            "1/1 [==============================] - 5s 5s/step\n"
          ]
        },
        {
          "name": "stderr",
          "output_type": "stream",
          "text": [
            "extracting features from each frames: 273it [02:32,  3.10it/s]"
          ]
        },
        {
          "name": "stdout",
          "output_type": "stream",
          "text": [
            "1/1 [==============================] - 5s 5s/step\n",
            "1/1 [==============================] - 6s 6s/step\n",
            "1/1 [==============================] - 5s 5s/step\n",
            "1/1 [==============================] - 6s 6s/step\n",
            "1/1 [==============================] - 6s 6s/step\n",
            "1/1 [==============================] - 5s 5s/step\n",
            "1/1 [==============================] - 5s 5s/step\n",
            "1/1 [==============================] - 5s 5s/step\n",
            "1/1 [==============================] - 6s 6s/step\n",
            "1/1 [==============================] - 5s 5s/step\n",
            "1/1 [==============================] - 6s 6s/step\n"
          ]
        },
        {
          "name": "stderr",
          "output_type": "stream",
          "text": [
            "extracting features from each frames: 274it [02:38,  1.00it/s]"
          ]
        },
        {
          "name": "stdout",
          "output_type": "stream",
          "text": [
            "1/1 [==============================] - 5s 5s/step\n",
            "1/1 [==============================] - 5s 5s/step\n",
            "1/1 [==============================] - 4s 4s/step\n",
            "1/1 [==============================] - 5s 5s/step\n"
          ]
        },
        {
          "name": "stderr",
          "output_type": "stream",
          "text": [
            "extracting features from each frames: 279it [02:41,  1.27it/s]"
          ]
        },
        {
          "name": "stdout",
          "output_type": "stream",
          "text": [
            "1/1 [==============================] - 5s 5s/step\n",
            "1/1 [==============================] - 4s 4s/step\n",
            "1/1 [==============================] - 5s 5s/step\n"
          ]
        },
        {
          "name": "stderr",
          "output_type": "stream",
          "text": [
            "extracting features from each frames: 283it [02:42,  1.57it/s]"
          ]
        },
        {
          "name": "stdout",
          "output_type": "stream",
          "text": [
            "1/1 [==============================] - 5s 5s/step\n"
          ]
        },
        {
          "name": "stderr",
          "output_type": "stream",
          "text": [
            "extracting features from each frames: 292it [02:43,  3.04it/s]"
          ]
        },
        {
          "name": "stdout",
          "output_type": "stream",
          "text": [
            "1/1 [==============================] - 5s 5s/step\n"
          ]
        },
        {
          "name": "stderr",
          "output_type": "stream",
          "text": [
            "extracting features from each frames: 293it [02:44,  2.65it/s]"
          ]
        },
        {
          "name": "stdout",
          "output_type": "stream",
          "text": [
            "1/1 [==============================] - 5s 5s/step\n"
          ]
        },
        {
          "name": "stderr",
          "output_type": "stream",
          "text": [
            "extracting features from each frames: 294it [02:44,  2.57it/s]"
          ]
        },
        {
          "name": "stdout",
          "output_type": "stream",
          "text": [
            "1/1 [==============================] - 5s 5s/step\n"
          ]
        },
        {
          "name": "stderr",
          "output_type": "stream",
          "text": [
            "extracting features from each frames: 295it [02:45,  2.58it/s]"
          ]
        },
        {
          "name": "stdout",
          "output_type": "stream",
          "text": [
            "1/1 [==============================] - 6s 6s/step\n"
          ]
        },
        {
          "name": "stderr",
          "output_type": "stream",
          "text": [
            "extracting features from each frames: 296it [02:46,  1.85it/s]"
          ]
        },
        {
          "name": "stdout",
          "output_type": "stream",
          "text": [
            "1/1 [==============================] - 6s 6s/step\n"
          ]
        },
        {
          "name": "stderr",
          "output_type": "stream",
          "text": [
            "extracting features from each frames: 297it [02:47,  1.71it/s]"
          ]
        },
        {
          "name": "stdout",
          "output_type": "stream",
          "text": [
            "1/1 [==============================] - 6s 6s/step\n"
          ]
        },
        {
          "name": "stderr",
          "output_type": "stream",
          "text": [
            "extracting features from each frames: 298it [02:47,  2.03it/s]"
          ]
        },
        {
          "name": "stdout",
          "output_type": "stream",
          "text": [
            "1/1 [==============================] - 6s 6s/step\n",
            "1/1 [==============================] - 6s 6s/step\n",
            "1/1 [==============================] - 6s 6s/step\n",
            "1/1 [==============================] - 6s 6s/step\n",
            "1/1 [==============================] - 6s 6s/step\n",
            "1/1 [==============================] - 5s 5s/step\n",
            "1/1 [==============================] - 6s 6s/step\n",
            "1/1 [==============================] - 5s 5s/step\n",
            "1/1 [==============================] - 5s 5s/step\n",
            "1/1 [==============================] - 4s 4s/step\n",
            "1/1 [==============================] - 4s 4s/step\n"
          ]
        },
        {
          "name": "stderr",
          "output_type": "stream",
          "text": [
            "extracting features from each frames: 299it [02:52,  1.49s/it]"
          ]
        },
        {
          "name": "stdout",
          "output_type": "stream",
          "text": [
            "1/1 [==============================] - 4s 4s/step\n",
            "1/1 [==============================] - 4s 4s/step\n"
          ]
        },
        {
          "name": "stderr",
          "output_type": "stream",
          "text": [
            "extracting features from each frames: 303it [02:53,  1.21it/s]"
          ]
        },
        {
          "name": "stdout",
          "output_type": "stream",
          "text": [
            "1/1 [==============================] - 4s 4s/step\n"
          ]
        },
        {
          "name": "stderr",
          "output_type": "stream",
          "text": [
            "extracting features from each frames: 312it [02:54,  3.34it/s]"
          ]
        },
        {
          "name": "stdout",
          "output_type": "stream",
          "text": [
            "1/1 [==============================] - 4s 4s/step\n"
          ]
        },
        {
          "name": "stderr",
          "output_type": "stream",
          "text": [
            "extracting features from each frames: 313it [02:54,  3.27it/s]"
          ]
        },
        {
          "name": "stdout",
          "output_type": "stream",
          "text": [
            "1/1 [==============================] - 4s 4s/step\n",
            "1/1 [==============================] - 4s 4s/step\n"
          ]
        },
        {
          "name": "stderr",
          "output_type": "stream",
          "text": [
            "extracting features from each frames: 315it [02:57,  2.13it/s]"
          ]
        },
        {
          "name": "stdout",
          "output_type": "stream",
          "text": [
            "1/1 [==============================] - 5s 5s/step\n"
          ]
        },
        {
          "name": "stderr",
          "output_type": "stream",
          "text": [
            "extracting features from each frames: 316it [02:57,  2.07it/s]"
          ]
        },
        {
          "name": "stdout",
          "output_type": "stream",
          "text": [
            "1/1 [==============================] - 6s 6s/step\n"
          ]
        },
        {
          "name": "stderr",
          "output_type": "stream",
          "text": [
            "extracting features from each frames: 317it [02:58,  1.58it/s]"
          ]
        },
        {
          "name": "stdout",
          "output_type": "stream",
          "text": [
            "1/1 [==============================] - 6s 6s/step\n"
          ]
        },
        {
          "name": "stderr",
          "output_type": "stream",
          "text": [
            "extracting features from each frames: 318it [02:59,  1.66it/s]"
          ]
        },
        {
          "name": "stdout",
          "output_type": "stream",
          "text": [
            "1/1 [==============================] - 6s 6s/step\n",
            "1/1 [==============================] - 6s 6s/step\n",
            "1/1 [==============================] - 6s 6s/step\n",
            "1/1 [==============================] - 7s 7s/step\n"
          ]
        },
        {
          "name": "stderr",
          "output_type": "stream",
          "text": [
            "extracting features from each frames: 319it [03:00,  1.44it/s]"
          ]
        },
        {
          "name": "stdout",
          "output_type": "stream",
          "text": [
            "1/1 [==============================] - 5s 5s/step\n",
            "1/1 [==============================] - 6s 6s/step\n",
            "1/1 [==============================] - 6s 6s/step\n",
            "1/1 [==============================] - 5s 5s/step\n",
            "1/1 [==============================] - 5s 5s/step\n",
            "1/1 [==============================] - 5s 5s/step\n"
          ]
        },
        {
          "name": "stderr",
          "output_type": "stream",
          "text": [
            "extracting features from each frames: 321it [03:04,  1.16s/it]"
          ]
        },
        {
          "name": "stdout",
          "output_type": "stream",
          "text": [
            "1/1 [==============================] - 5s 5s/step\n"
          ]
        },
        {
          "name": "stderr",
          "output_type": "stream",
          "text": [
            "extracting features from each frames: 322it [03:04,  1.03it/s]"
          ]
        },
        {
          "name": "stdout",
          "output_type": "stream",
          "text": [
            "1/1 [==============================] - 5s 5s/step\n"
          ]
        },
        {
          "name": "stderr",
          "output_type": "stream",
          "text": [
            "extracting features from each frames: 329it [03:04,  2.90it/s]"
          ]
        },
        {
          "name": "stdout",
          "output_type": "stream",
          "text": [
            "1/1 [==============================] - 5s 5s/step\n",
            "1/1 [==============================] - 5s 5s/step\n",
            "1/1 [==============================] - 5s 5s/step\n"
          ]
        },
        {
          "name": "stderr",
          "output_type": "stream",
          "text": [
            "extracting features from each frames: 331it [03:06,  2.49it/s]"
          ]
        },
        {
          "name": "stdout",
          "output_type": "stream",
          "text": [
            "1/1 [==============================] - 5s 5s/step\n"
          ]
        },
        {
          "name": "stderr",
          "output_type": "stream",
          "text": [
            "extracting features from each frames: 334it [03:06,  3.48it/s]"
          ]
        },
        {
          "name": "stdout",
          "output_type": "stream",
          "text": [
            "1/1 [==============================] - 5s 5s/step\n",
            "1/1 [==============================] - 5s 5s/step\n"
          ]
        },
        {
          "name": "stderr",
          "output_type": "stream",
          "text": [
            "extracting features from each frames: 336it [03:08,  2.27it/s]"
          ]
        },
        {
          "name": "stdout",
          "output_type": "stream",
          "text": [
            "1/1 [==============================] - 6s 6s/step\n",
            "1/1 [==============================] - 6s 6s/step\n",
            "1/1 [==============================] - 6s 6s/step\n",
            "1/1 [==============================] - 6s 6s/step\n",
            "1/1 [==============================] - 5s 5s/step\n",
            "1/1 [==============================] - 5s 5s/step\n",
            "1/1 [==============================] - 7s 7s/step\n",
            "1/1 [==============================] - 6s 6s/step\n",
            "1/1 [==============================] - 6s 6s/step\n",
            "1/1 [==============================] - 5s 5s/step\n",
            "1/1 [==============================] - 5s 5s/step\n"
          ]
        },
        {
          "name": "stderr",
          "output_type": "stream",
          "text": [
            "extracting features from each frames: 337it [03:14,  1.28s/it]"
          ]
        },
        {
          "name": "stdout",
          "output_type": "stream",
          "text": [
            "1/1 [==============================] - 5s 5s/step\n",
            "1/1 [==============================] - 5s 5s/step\n"
          ]
        },
        {
          "name": "stderr",
          "output_type": "stream",
          "text": [
            "extracting features from each frames: 342it [03:16,  1.23it/s]"
          ]
        },
        {
          "name": "stdout",
          "output_type": "stream",
          "text": [
            "1/1 [==============================] - 5s 5s/step\n",
            "1/1 [==============================] - 5s 5s/step\n"
          ]
        },
        {
          "name": "stderr",
          "output_type": "stream",
          "text": [
            "extracting features from each frames: 351it [03:17,  2.40it/s]"
          ]
        },
        {
          "name": "stdout",
          "output_type": "stream",
          "text": [
            "1/1 [==============================] - 6s 6s/step\n",
            "1/1 [==============================] - 5s 5s/step\n",
            "1/1 [==============================] - 6s 6s/step\n"
          ]
        },
        {
          "name": "stderr",
          "output_type": "stream",
          "text": [
            "extracting features from each frames: 352it [03:18,  2.08it/s]"
          ]
        },
        {
          "name": "stdout",
          "output_type": "stream",
          "text": [
            "1/1 [==============================] - 6s 6s/step\n"
          ]
        },
        {
          "name": "stderr",
          "output_type": "stream",
          "text": [
            "extracting features from each frames: 355it [03:18,  2.71it/s]"
          ]
        },
        {
          "name": "stdout",
          "output_type": "stream",
          "text": [
            "1/1 [==============================] - 5s 5s/step\n"
          ]
        },
        {
          "name": "stderr",
          "output_type": "stream",
          "text": [
            "extracting features from each frames: 356it [03:19,  2.65it/s]"
          ]
        },
        {
          "name": "stdout",
          "output_type": "stream",
          "text": [
            "1/1 [==============================] - 5s 5s/step\n"
          ]
        },
        {
          "name": "stderr",
          "output_type": "stream",
          "text": [
            "extracting features from each frames: 357it [03:20,  2.10it/s]"
          ]
        },
        {
          "name": "stdout",
          "output_type": "stream",
          "text": [
            "1/1 [==============================] - 6s 6s/step\n",
            "1/1 [==============================] - 6s 6s/step\n",
            "1/1 [==============================] - 6s 6s/step\n",
            "1/1 [==============================] - 6s 6s/step\n",
            "1/1 [==============================] - 6s 6s/step\n",
            "1/1 [==============================] - 6s 6s/step\n",
            "1/1 [==============================] - 5s 5s/step\n",
            "1/1 [==============================] - 5s 5s/step\n",
            "1/1 [==============================] - 5s 5s/step\n",
            "1/1 [==============================] - 5s 5s/step\n",
            "1/1 [==============================] - 5s 5s/step\n",
            "1/1 [==============================] - 4s 4s/step\n"
          ]
        },
        {
          "name": "stderr",
          "output_type": "stream",
          "text": [
            "extracting features from each frames: 358it [03:26,  1.45s/it]"
          ]
        },
        {
          "name": "stdout",
          "output_type": "stream",
          "text": [
            "1/1 [==============================] - 4s 4s/step\n",
            "1/1 [==============================] - 4s 4s/step\n"
          ]
        },
        {
          "name": "stderr",
          "output_type": "stream",
          "text": [
            "extracting features from each frames: 361it [03:27,  1.08it/s]"
          ]
        },
        {
          "name": "stdout",
          "output_type": "stream",
          "text": [
            "1/1 [==============================] - 4s 4s/step\n",
            "1/1 [==============================] - 4s 4s/step\n",
            "1/1 [==============================] - 4s 4s/step\n"
          ]
        },
        {
          "name": "stderr",
          "output_type": "stream",
          "text": [
            "extracting features from each frames: 366it [03:29,  1.57it/s]"
          ]
        },
        {
          "name": "stdout",
          "output_type": "stream",
          "text": [
            "1/1 [==============================] - 4s 4s/step\n"
          ]
        },
        {
          "name": "stderr",
          "output_type": "stream",
          "text": [
            "extracting features from each frames: 375it [03:31,  2.65it/s]"
          ]
        },
        {
          "name": "stdout",
          "output_type": "stream",
          "text": [
            "1/1 [==============================] - 5s 5s/step\n"
          ]
        },
        {
          "name": "stderr",
          "output_type": "stream",
          "text": [
            "extracting features from each frames: 376it [03:31,  2.49it/s]"
          ]
        },
        {
          "name": "stdout",
          "output_type": "stream",
          "text": [
            "1/1 [==============================] - 5s 5s/step\n",
            "1/1 [==============================] - 5s 5s/step\n"
          ]
        },
        {
          "name": "stderr",
          "output_type": "stream",
          "text": [
            "extracting features from each frames: 377it [03:32,  2.14it/s]"
          ]
        },
        {
          "name": "stdout",
          "output_type": "stream",
          "text": [
            "1/1 [==============================] - 5s 5s/step\n"
          ]
        },
        {
          "name": "stderr",
          "output_type": "stream",
          "text": [
            "extracting features from each frames: 379it [03:32,  2.79it/s]"
          ]
        },
        {
          "name": "stdout",
          "output_type": "stream",
          "text": [
            "1/1 [==============================] - 5s 5s/step\n"
          ]
        },
        {
          "name": "stderr",
          "output_type": "stream",
          "text": [
            "extracting features from each frames: 380it [03:33,  2.75it/s]"
          ]
        },
        {
          "name": "stdout",
          "output_type": "stream",
          "text": [
            "1/1 [==============================] - 6s 6s/step\n"
          ]
        },
        {
          "name": "stderr",
          "output_type": "stream",
          "text": [
            "extracting features from each frames: 381it [03:33,  2.28it/s]"
          ]
        },
        {
          "name": "stdout",
          "output_type": "stream",
          "text": [
            "1/1 [==============================] - 6s 6s/step\n",
            "1/1 [==============================] - 6s 6s/step\n",
            "1/1 [==============================] - 5s 5s/step\n",
            "1/1 [==============================] - 6s 6s/step\n",
            "1/1 [==============================] - 5s 5s/step\n",
            "1/1 [==============================] - 5s 5s/step\n",
            "1/1 [==============================] - 5s 5s/step\n",
            "1/1 [==============================] - 5s 5s/step\n",
            "1/1 [==============================] - 5s 5s/step\n",
            "1/1 [==============================] - 5s 5s/step\n",
            "1/1 [==============================] - 5s 5s/step\n",
            "1/1 [==============================] - 4s 4s/step\n"
          ]
        },
        {
          "name": "stderr",
          "output_type": "stream",
          "text": [
            "extracting features from each frames: 385it [03:40,  1.03it/s]"
          ]
        },
        {
          "name": "stdout",
          "output_type": "stream",
          "text": [
            "1/1 [==============================] - 4s 4s/step\n"
          ]
        },
        {
          "name": "stderr",
          "output_type": "stream",
          "text": [
            "extracting features from each frames: 393it [03:41,  2.66it/s]"
          ]
        },
        {
          "name": "stdout",
          "output_type": "stream",
          "text": [
            "1/1 [==============================] - 5s 5s/step\n",
            "1/1 [==============================] - 5s 5s/step\n",
            "1/1 [==============================] - 5s 5s/step\n"
          ]
        },
        {
          "name": "stderr",
          "output_type": "stream",
          "text": [
            "extracting features from each frames: 395it [03:42,  2.08it/s]"
          ]
        },
        {
          "name": "stdout",
          "output_type": "stream",
          "text": [
            "1/1 [==============================] - 5s 5s/step\n"
          ]
        },
        {
          "name": "stderr",
          "output_type": "stream",
          "text": [
            "extracting features from each frames: 398it [03:43,  2.83it/s]"
          ]
        },
        {
          "name": "stdout",
          "output_type": "stream",
          "text": [
            "1/1 [==============================] - 5s 5s/step\n",
            "1/1 [==============================] - 6s 6s/step\n",
            "1/1 [==============================] - 5s 5s/step\n",
            "1/1 [==============================] - 6s 6s/step\n",
            "1/1 [==============================] - 6s 6s/step\n",
            "1/1 [==============================] - 7s 7s/step\n"
          ]
        },
        {
          "name": "stderr",
          "output_type": "stream",
          "text": [
            "extracting features from each frames: 400it [03:46,  1.44it/s]"
          ]
        },
        {
          "name": "stdout",
          "output_type": "stream",
          "text": [
            "1/1 [==============================] - 6s 6s/step\n",
            "1/1 [==============================] - 5s 5s/step\n",
            "1/1 [==============================] - 6s 6s/step\n",
            "1/1 [==============================] - 6s 6s/step\n",
            "1/1 [==============================] - 6s 6s/step\n",
            "1/1 [==============================] - 5s 5s/step\n"
          ]
        },
        {
          "name": "stderr",
          "output_type": "stream",
          "text": [
            "extracting features from each frames: 401it [03:50,  1.10s/it]"
          ]
        },
        {
          "name": "stdout",
          "output_type": "stream",
          "text": [
            "1/1 [==============================] - 5s 5s/step\n",
            "1/1 [==============================] - 5s 5s/step\n",
            "1/1 [==============================] - 5s 5s/step\n",
            "1/1 [==============================] - 5s 5s/step\n",
            "1/1 [==============================] - 5s 5s/step\n"
          ]
        },
        {
          "name": "stderr",
          "output_type": "stream",
          "text": [
            "extracting features from each frames: 407it [03:53,  1.27it/s]"
          ]
        },
        {
          "name": "stdout",
          "output_type": "stream",
          "text": [
            "1/1 [==============================] - 5s 5s/step\n",
            "1/1 [==============================] - 5s 5s/step\n"
          ]
        },
        {
          "name": "stderr",
          "output_type": "stream",
          "text": [
            "extracting features from each frames: 416it [03:54,  2.55it/s]"
          ]
        },
        {
          "name": "stdout",
          "output_type": "stream",
          "text": [
            "1/1 [==============================] - 5s 5s/step\n",
            "1/1 [==============================] - 5s 5s/step\n"
          ]
        },
        {
          "name": "stderr",
          "output_type": "stream",
          "text": [
            "extracting features from each frames: 419it [03:56,  2.16it/s]"
          ]
        },
        {
          "name": "stdout",
          "output_type": "stream",
          "text": [
            "1/1 [==============================] - 6s 6s/step\n",
            "1/1 [==============================] - 6s 6s/step\n"
          ]
        },
        {
          "name": "stderr",
          "output_type": "stream",
          "text": [
            "extracting features from each frames: 420it [03:57,  1.84it/s]"
          ]
        },
        {
          "name": "stdout",
          "output_type": "stream",
          "text": [
            "1/1 [==============================] - 6s 6s/step\n",
            "1/1 [==============================] - 6s 6s/step\n",
            "1/1 [==============================] - 6s 6s/step\n",
            "1/1 [==============================] - 5s 5s/step\n",
            "1/1 [==============================] - 6s 6s/step\n",
            "1/1 [==============================] - 6s 6s/step\n",
            "1/1 [==============================] - 6s 6s/step\n",
            "1/1 [==============================] - 6s 6s/step\n",
            "1/1 [==============================] - 5s 5s/step\n"
          ]
        },
        {
          "name": "stderr",
          "output_type": "stream",
          "text": [
            "extracting features from each frames: 421it [04:01,  1.05it/s]"
          ]
        },
        {
          "name": "stdout",
          "output_type": "stream",
          "text": [
            "1/1 [==============================] - 4s 4s/step\n",
            "1/1 [==============================] - 4s 4s/step\n",
            "1/1 [==============================] - 4s 4s/step\n",
            "1/1 [==============================] - 4s 4s/step\n",
            "1/1 [==============================] - 3s 3s/step\n"
          ]
        },
        {
          "name": "stderr",
          "output_type": "stream",
          "text": [
            "extracting features from each frames: 426it [04:04,  1.34it/s]"
          ]
        },
        {
          "name": "stdout",
          "output_type": "stream",
          "text": [
            "1/1 [==============================] - 3s 3s/step\n"
          ]
        },
        {
          "name": "stderr",
          "output_type": "stream",
          "text": [
            "extracting features from each frames: 428it [04:05,  1.54it/s]"
          ]
        },
        {
          "name": "stdout",
          "output_type": "stream",
          "text": [
            "1/1 [==============================] - 5s 5s/step\n"
          ]
        },
        {
          "name": "stderr",
          "output_type": "stream",
          "text": [
            "extracting features from each frames: 437it [04:07,  2.65it/s]"
          ]
        },
        {
          "name": "stdout",
          "output_type": "stream",
          "text": [
            "1/1 [==============================] - 5s 5s/step\n",
            "1/1 [==============================] - ETA: 0s"
          ]
        },
        {
          "name": "stderr",
          "output_type": "stream",
          "text": [
            "extracting features from each frames: 438it [04:07,  2.81it/s]"
          ]
        },
        {
          "name": "stdout",
          "output_type": "stream",
          "text": [
            "1/1 [==============================] - 5s 5s/step\n",
            "1/1 [==============================] - 5s 5s/step\n",
            "1/1 [==============================] - 5s 5s/step\n"
          ]
        },
        {
          "name": "stderr",
          "output_type": "stream",
          "text": [
            "extracting features from each frames: 439it [04:07,  2.67it/s]"
          ]
        },
        {
          "name": "stdout",
          "output_type": "stream",
          "text": [
            "1/1 [==============================] - 6s 6s/step\n"
          ]
        },
        {
          "name": "stderr",
          "output_type": "stream",
          "text": [
            "extracting features from each frames: 442it [04:09,  2.41it/s]"
          ]
        },
        {
          "name": "stdout",
          "output_type": "stream",
          "text": [
            "1/1 [==============================] - 6s 6s/step\n"
          ]
        },
        {
          "name": "stderr",
          "output_type": "stream",
          "text": [
            "extracting features from each frames: 443it [04:10,  1.76it/s]"
          ]
        },
        {
          "name": "stdout",
          "output_type": "stream",
          "text": [
            "1/1 [==============================] - 6s 6s/step\n",
            "1/1 [==============================] - 6s 6s/step\n",
            "1/1 [==============================] - 6s 6s/step\n"
          ]
        },
        {
          "name": "stderr",
          "output_type": "stream",
          "text": [
            "extracting features from each frames: 444it [04:11,  1.82it/s]"
          ]
        },
        {
          "name": "stdout",
          "output_type": "stream",
          "text": [
            "1/1 [==============================] - 6s 6s/step\n",
            "1/1 [==============================] - 5s 5s/step\n",
            "1/1 [==============================] - 6s 6s/step\n",
            "1/1 [==============================] - 5s 5s/step\n",
            "1/1 [==============================] - 6s 6s/step\n",
            "1/1 [==============================] - 6s 6s/step\n",
            "1/1 [==============================] - 6s 6s/step\n"
          ]
        },
        {
          "name": "stderr",
          "output_type": "stream",
          "text": [
            "extracting features from each frames: 445it [04:15,  1.26s/it]"
          ]
        },
        {
          "name": "stdout",
          "output_type": "stream",
          "text": [
            "1/1 [==============================] - 5s 5s/step\n",
            "1/1 [==============================] - 5s 5s/step\n",
            "1/1 [==============================] - 5s 5s/step\n",
            "1/1 [==============================] - 6s 6s/step\n",
            "1/1 [==============================] - 5s 5s/step\n",
            "1/1 [==============================] - 5s 5s/step\n",
            "1/1 [==============================] - 5s 5s/step\n",
            "1/1 [==============================] - 5s 5s/step\n",
            "1/1 [==============================] - 5s 5s/step\n"
          ]
        },
        {
          "name": "stderr",
          "output_type": "stream",
          "text": [
            "extracting features from each frames: 453it [04:19,  1.32it/s]"
          ]
        },
        {
          "name": "stdout",
          "output_type": "stream",
          "text": [
            "1/1 [==============================] - 5s 5s/step\n"
          ]
        },
        {
          "name": "stderr",
          "output_type": "stream",
          "text": [
            "extracting features from each frames: 463it [04:21,  2.37it/s]"
          ]
        },
        {
          "name": "stdout",
          "output_type": "stream",
          "text": [
            "1/1 [==============================] - 5s 5s/step\n",
            "1/1 [==============================] - 5s 5s/step\n",
            "1/1 [==============================] - 6s 6s/step\n",
            "1/1 [==============================] - 6s 6s/step\n",
            "1/1 [==============================] - 6s 6s/step\n",
            "1/1 [==============================] - 6s 6s/step\n",
            "1/1 [==============================] - 6s 6s/step\n",
            "1/1 [==============================] - 6s 6s/step\n",
            "1/1 [==============================] - 6s 6s/step\n",
            "1/1 [==============================] - 5s 5s/step\n",
            "1/1 [==============================] - 5s 5s/step\n",
            "1/1 [==============================] - 4s 4s/step\n",
            "1/1 [==============================] - 4s 4s/step\n",
            "1/1 [==============================] - 4s 4s/step\n"
          ]
        },
        {
          "name": "stderr",
          "output_type": "stream",
          "text": [
            "extracting features from each frames: 464it [04:27,  1.14it/s]"
          ]
        },
        {
          "name": "stdout",
          "output_type": "stream",
          "text": [
            "1/1 [==============================] - 3s 3s/step\n",
            "1/1 [==============================] - 3s 3s/step\n"
          ]
        },
        {
          "name": "stderr",
          "output_type": "stream",
          "text": [
            "extracting features from each frames: 470it [04:29,  1.60it/s]"
          ]
        },
        {
          "name": "stdout",
          "output_type": "stream",
          "text": [
            "1/1 [==============================] - 4s 4s/step\n"
          ]
        },
        {
          "name": "stderr",
          "output_type": "stream",
          "text": [
            "extracting features from each frames: 478it [04:30,  2.64it/s]"
          ]
        },
        {
          "name": "stdout",
          "output_type": "stream",
          "text": [
            "1/1 [==============================] - 4s 4s/step\n"
          ]
        },
        {
          "name": "stderr",
          "output_type": "stream",
          "text": [
            "extracting features from each frames: 481it [04:30,  3.24it/s]"
          ]
        },
        {
          "name": "stdout",
          "output_type": "stream",
          "text": [
            "1/1 [==============================] - 4s 4s/step\n",
            "1/1 [==============================] - 4s 4s/step\n"
          ]
        },
        {
          "name": "stderr",
          "output_type": "stream",
          "text": [
            "extracting features from each frames: 483it [04:32,  2.46it/s]"
          ]
        },
        {
          "name": "stdout",
          "output_type": "stream",
          "text": [
            "1/1 [==============================] - 5s 5s/step\n",
            "1/1 [==============================] - 6s 6s/step\n",
            "1/1 [==============================] - 6s 6s/step\n",
            "1/1 [==============================] - 6s 6s/step\n",
            "1/1 [==============================] - 5s 5s/step\n",
            "1/1 [==============================] - 6s 6s/step\n",
            "1/1 [==============================] - 6s 6s/step\n",
            "1/1 [==============================] - 5s 5s/step\n",
            "1/1 [==============================] - 5s 5s/step\n",
            "1/1 [==============================] - 4s 4s/step\n",
            "1/1 [==============================] - 4s 4s/step\n",
            "1/1 [==============================] - 3s 3s/step\n",
            "1/1 [==============================] - 3s 3s/step\n"
          ]
        },
        {
          "name": "stderr",
          "output_type": "stream",
          "text": [
            "extracting features from each frames: 484it [04:39,  1.05s/it]"
          ]
        },
        {
          "name": "stdout",
          "output_type": "stream",
          "text": [
            "1/1 [==============================] - 3s 3s/step\n",
            "1/1 [==============================] - 3s 3s/step\n",
            "1/1 [==============================] - 3s 3s/step\n"
          ]
        },
        {
          "name": "stderr",
          "output_type": "stream",
          "text": [
            "extracting features from each frames: 489it [04:40,  1.54it/s]"
          ]
        },
        {
          "name": "stdout",
          "output_type": "stream",
          "text": [
            "1/1 [==============================] - 4s 4s/step\n"
          ]
        },
        {
          "name": "stderr",
          "output_type": "stream",
          "text": [
            "extracting features from each frames: 500it [04:42,  3.06it/s]"
          ]
        },
        {
          "name": "stdout",
          "output_type": "stream",
          "text": [
            "1/1 [==============================] - 4s 4s/step\n"
          ]
        },
        {
          "name": "stderr",
          "output_type": "stream",
          "text": [
            "extracting features from each frames: 501it [04:42,  3.05it/s]"
          ]
        },
        {
          "name": "stdout",
          "output_type": "stream",
          "text": [
            "1/1 [==============================] - 6s 6s/step\n"
          ]
        },
        {
          "name": "stderr",
          "output_type": "stream",
          "text": [
            "extracting features from each frames: 502it [04:45,  1.80it/s]"
          ]
        },
        {
          "name": "stdout",
          "output_type": "stream",
          "text": [
            "1/1 [==============================] - 6s 6s/step\n",
            "1/1 [==============================] - 6s 6s/step\n",
            "1/1 [==============================] - 6s 6s/step\n",
            "1/1 [==============================] - 6s 6s/step\n",
            "1/1 [==============================] - 6s 6s/step\n",
            "1/1 [==============================] - 6s 6s/step\n",
            "1/1 [==============================] - 6s 6s/step\n",
            "1/1 [==============================] - 6s 6s/step\n",
            "1/1 [==============================] - 5s 5s/step\n",
            "1/1 [==============================] - 5s 5s/step\n"
          ]
        },
        {
          "name": "stderr",
          "output_type": "stream",
          "text": [
            "extracting features from each frames: 503it [04:49,  1.09s/it]"
          ]
        },
        {
          "name": "stdout",
          "output_type": "stream",
          "text": [
            "1/1 [==============================] - 4s 4s/step\n"
          ]
        },
        {
          "name": "stderr",
          "output_type": "stream",
          "text": [
            "extracting features from each frames: 506it [04:50,  1.35it/s]"
          ]
        },
        {
          "name": "stdout",
          "output_type": "stream",
          "text": [
            "1/1 [==============================] - 5s 5s/step\n",
            "1/1 [==============================] - 5s 5s/step\n",
            "1/1 [==============================] - 5s 5s/step\n"
          ]
        },
        {
          "name": "stderr",
          "output_type": "stream",
          "text": [
            "extracting features from each frames: 514it [04:51,  2.91it/s]"
          ]
        },
        {
          "name": "stdout",
          "output_type": "stream",
          "text": [
            "1/1 [==============================] - 5s 5s/step\n"
          ]
        },
        {
          "name": "stderr",
          "output_type": "stream",
          "text": [
            "extracting features from each frames: 517it [04:51,  3.43it/s]"
          ]
        },
        {
          "name": "stdout",
          "output_type": "stream",
          "text": [
            "1/1 [==============================] - 5s 5s/step\n"
          ]
        },
        {
          "name": "stderr",
          "output_type": "stream",
          "text": [
            "extracting features from each frames: 518it [04:51,  3.46it/s]"
          ]
        },
        {
          "name": "stdout",
          "output_type": "stream",
          "text": [
            "1/1 [==============================] - 5s 5s/step\n"
          ]
        },
        {
          "name": "stderr",
          "output_type": "stream",
          "text": [
            "extracting features from each frames: 519it [04:53,  2.12it/s]"
          ]
        },
        {
          "name": "stdout",
          "output_type": "stream",
          "text": [
            "1/1 [==============================] - 5s 5s/step\n",
            "1/1 [==============================] - 5s 5s/step\n",
            "1/1 [==============================] - 5s 5s/step\n",
            "1/1 [==============================] - 6s 6s/step\n",
            "1/1 [==============================] - 6s 6s/step\n",
            "1/1 [==============================] - 6s 6s/step\n",
            "1/1 [==============================] - 6s 6s/step\n",
            "1/1 [==============================] - 7s 7s/step\n",
            "1/1 [==============================] - 5s 5s/step\n",
            "1/1 [==============================] - 6s 6s/step\n",
            "1/1 [==============================] - 4s 4s/step\n",
            "1/1 [==============================] - 3s 3s/step\n"
          ]
        },
        {
          "name": "stderr",
          "output_type": "stream",
          "text": [
            "extracting features from each frames: 520it [04:58,  1.32s/it]"
          ]
        },
        {
          "name": "stdout",
          "output_type": "stream",
          "text": [
            "1/1 [==============================] - 3s 3s/step\n",
            "1/1 [==============================] - 2s 2s/step\n",
            "1/1 [==============================] - 2s 2s/step\n"
          ]
        },
        {
          "name": "stderr",
          "output_type": "stream",
          "text": [
            "extracting features from each frames: 528it [05:02,  1.80it/s]"
          ]
        },
        {
          "name": "stdout",
          "output_type": "stream",
          "text": [
            "1/1 [==============================] - 4s 4s/step\n"
          ]
        },
        {
          "name": "stderr",
          "output_type": "stream",
          "text": [
            "extracting features from each frames: 535it [05:02,  3.54it/s]"
          ]
        },
        {
          "name": "stdout",
          "output_type": "stream",
          "text": [
            "1/1 [==============================] - 4s 4s/step\n"
          ]
        },
        {
          "name": "stderr",
          "output_type": "stream",
          "text": [
            "extracting features from each frames: 536it [05:03,  3.45it/s]"
          ]
        },
        {
          "name": "stdout",
          "output_type": "stream",
          "text": [
            "1/1 [==============================] - 4s 4s/step\n",
            "1/1 [==============================] - 4s 4s/step\n"
          ]
        },
        {
          "name": "stderr",
          "output_type": "stream",
          "text": [
            "extracting features from each frames: 537it [05:04,  2.18it/s]"
          ]
        },
        {
          "name": "stdout",
          "output_type": "stream",
          "text": [
            "1/1 [==============================] - 5s 5s/step\n"
          ]
        },
        {
          "name": "stderr",
          "output_type": "stream",
          "text": [
            "extracting features from each frames: 539it [05:04,  2.81it/s]"
          ]
        },
        {
          "name": "stdout",
          "output_type": "stream",
          "text": [
            "1/1 [==============================] - 6s 6s/step\n",
            "1/1 [==============================] - 6s 6s/step\n",
            "1/1 [==============================] - 6s 6s/step\n",
            "1/1 [==============================] - 6s 6s/step\n",
            "1/1 [==============================] - 6s 6s/step\n",
            "1/1 [==============================] - 6s 6s/step\n",
            "1/1 [==============================] - 5s 5s/step\n",
            "1/1 [==============================] - 5s 5s/step\n",
            "1/1 [==============================] - 5s 5s/step\n",
            "1/1 [==============================] - 5s 5s/step\n",
            "1/1 [==============================] - 5s 5s/step\n"
          ]
        },
        {
          "name": "stderr",
          "output_type": "stream",
          "text": [
            "extracting features from each frames: 540it [05:11,  1.44s/it]"
          ]
        },
        {
          "name": "stdout",
          "output_type": "stream",
          "text": [
            "1/1 [==============================] - 4s 4s/step\n"
          ]
        },
        {
          "name": "stderr",
          "output_type": "stream",
          "text": [
            "extracting features from each frames: 542it [05:11,  1.00it/s]"
          ]
        },
        {
          "name": "stdout",
          "output_type": "stream",
          "text": [
            "1/1 [==============================] - 4s 4s/step\n",
            "1/1 [==============================] - 4s 4s/step\n",
            "1/1 [==============================] - 4s 4s/step\n",
            "1/1 [==============================] - 4s 4s/step\n"
          ]
        },
        {
          "name": "stderr",
          "output_type": "stream",
          "text": [
            "extracting features from each frames: 546it [05:13,  1.42it/s]"
          ]
        },
        {
          "name": "stdout",
          "output_type": "stream",
          "text": [
            "1/1 [==============================] - 4s 4s/step\n",
            "1/1 [==============================] - 5s 5s/step\n"
          ]
        },
        {
          "name": "stderr",
          "output_type": "stream",
          "text": [
            "extracting features from each frames: 557it [05:15,  2.93it/s]"
          ]
        },
        {
          "name": "stdout",
          "output_type": "stream",
          "text": [
            "1/1 [==============================] - 6s 6s/step\n"
          ]
        },
        {
          "name": "stderr",
          "output_type": "stream",
          "text": [
            "extracting features from each frames: 558it [05:17,  1.67it/s]"
          ]
        },
        {
          "name": "stdout",
          "output_type": "stream",
          "text": [
            "1/1 [==============================] - 6s 6s/step\n",
            "1/1 [==============================] - 6s 6s/step\n",
            "1/1 [==============================] - 6s 6s/step\n",
            "1/1 [==============================] - 6s 6s/step\n",
            "1/1 [==============================] - 6s 6s/step\n",
            "1/1 [==============================] - 7s 7s/step\n"
          ]
        },
        {
          "name": "stderr",
          "output_type": "stream",
          "text": [
            "extracting features from each frames: 559it [05:18,  1.55it/s]"
          ]
        },
        {
          "name": "stdout",
          "output_type": "stream",
          "text": [
            "1/1 [==============================] - 6s 6s/step\n"
          ]
        },
        {
          "name": "stderr",
          "output_type": "stream",
          "text": [
            "extracting features from each frames: 564it [05:19,  2.79it/s]"
          ]
        },
        {
          "name": "stdout",
          "output_type": "stream",
          "text": [
            "1/1 [==============================] - 6s 6s/step\n"
          ]
        },
        {
          "name": "stderr",
          "output_type": "stream",
          "text": [
            "extracting features from each frames: 566it [05:19,  3.30it/s]"
          ]
        },
        {
          "name": "stdout",
          "output_type": "stream",
          "text": [
            "1/1 [==============================] - 5s 5s/step\n"
          ]
        },
        {
          "name": "stderr",
          "output_type": "stream",
          "text": [
            "extracting features from each frames: 567it [05:20,  2.64it/s]"
          ]
        },
        {
          "name": "stdout",
          "output_type": "stream",
          "text": [
            "1/1 [==============================] - 6s 6s/step\n",
            "1/1 [==============================] - 5s 5s/step\n",
            "1/1 [==============================] - 6s 6s/step\n",
            "1/1 [==============================] - 5s 5s/step\n",
            "1/1 [==============================] - 6s 6s/step\n",
            "1/1 [==============================] - 6s 6s/step\n",
            "1/1 [==============================] - 6s 6s/step\n",
            "1/1 [==============================] - 6s 6s/step\n",
            "1/1 [==============================] - 6s 6s/step\n",
            "1/1 [==============================] - 5s 5s/step\n",
            "1/1 [==============================] - 6s 6s/step\n"
          ]
        },
        {
          "name": "stderr",
          "output_type": "stream",
          "text": [
            "extracting features from each frames: 568it [05:26,  1.29s/it]"
          ]
        },
        {
          "name": "stdout",
          "output_type": "stream",
          "text": [
            "1/1 [==============================] - 5s 5s/step\n",
            "1/1 [==============================] - 5s 5s/step\n",
            "1/1 [==============================] - 5s 5s/step\n"
          ]
        },
        {
          "name": "stderr",
          "output_type": "stream",
          "text": [
            "extracting features from each frames: 578it [05:30,  1.54it/s]"
          ]
        },
        {
          "name": "stdout",
          "output_type": "stream",
          "text": [
            "1/1 [==============================] - 6s 6s/step\n"
          ]
        },
        {
          "name": "stderr",
          "output_type": "stream",
          "text": [
            "extracting features from each frames: 582it [05:31,  2.17it/s]"
          ]
        },
        {
          "name": "stdout",
          "output_type": "stream",
          "text": [
            "1/1 [==============================] - 6s 6s/step\n"
          ]
        },
        {
          "name": "stderr",
          "output_type": "stream",
          "text": [
            "extracting features from each frames: 583it [05:31,  2.29it/s]"
          ]
        },
        {
          "name": "stdout",
          "output_type": "stream",
          "text": [
            "1/1 [==============================] - 5s 5s/step\n",
            "1/1 [==============================] - 6s 6s/step\n",
            "1/1 [==============================] - 6s 6s/step\n",
            "1/1 [==============================] - 6s 6s/step\n"
          ]
        },
        {
          "name": "stderr",
          "output_type": "stream",
          "text": [
            "extracting features from each frames: 584it [05:32,  2.09it/s]"
          ]
        },
        {
          "name": "stdout",
          "output_type": "stream",
          "text": [
            "1/1 [==============================] - 6s 6s/step\n"
          ]
        },
        {
          "name": "stderr",
          "output_type": "stream",
          "text": [
            "extracting features from each frames: 588it [05:34,  1.80it/s]"
          ]
        },
        {
          "name": "stdout",
          "output_type": "stream",
          "text": [
            "1/1 [==============================] - 6s 6s/step\n",
            "1/1 [==============================] - 6s 6s/step\n"
          ]
        },
        {
          "name": "stderr",
          "output_type": "stream",
          "text": [
            "extracting features from each frames: 589it [05:35,  1.65it/s]"
          ]
        },
        {
          "name": "stdout",
          "output_type": "stream",
          "text": [
            "1/1 [==============================] - 6s 6s/step\n"
          ]
        },
        {
          "name": "stderr",
          "output_type": "stream",
          "text": [
            "extracting features from each frames: 591it [05:36,  1.79it/s]"
          ]
        },
        {
          "name": "stdout",
          "output_type": "stream",
          "text": [
            "1/1 [==============================] - 7s 7s/step\n"
          ]
        },
        {
          "name": "stderr",
          "output_type": "stream",
          "text": [
            "extracting features from each frames: 592it [05:37,  1.55it/s]"
          ]
        },
        {
          "name": "stdout",
          "output_type": "stream",
          "text": [
            "1/1 [==============================] - 6s 6s/step\n",
            "1/1 [==============================] - 7s 7s/step\n"
          ]
        },
        {
          "name": "stderr",
          "output_type": "stream",
          "text": [
            "extracting features from each frames: 593it [05:37,  1.74it/s]"
          ]
        },
        {
          "name": "stdout",
          "output_type": "stream",
          "text": [
            "1/1 [==============================] - 6s 6s/step\n",
            "1/1 [==============================] - 6s 6s/step\n",
            "1/1 [==============================] - ETA: 0s"
          ]
        },
        {
          "name": "stderr",
          "output_type": "stream",
          "text": [
            "extracting features from each frames: 595it [05:37,  2.53it/s]"
          ]
        },
        {
          "name": "stdout",
          "output_type": "stream",
          "text": [
            "1/1 [==============================] - 6s 6s/step\n",
            "1/1 [==============================] - 6s 6s/step\n"
          ]
        },
        {
          "name": "stderr",
          "output_type": "stream",
          "text": [
            "extracting features from each frames: 596it [05:38,  2.68it/s]"
          ]
        },
        {
          "name": "stdout",
          "output_type": "stream",
          "text": [
            "1/1 [==============================] - 5s 5s/step\n",
            "1/1 [==============================] - 5s 5s/step\n",
            "1/1 [==============================] - 5s 5s/step\n",
            "1/1 [==============================] - 6s 6s/step\n",
            "1/1 [==============================] - 5s 5s/step\n",
            "1/1 [==============================] - 5s 5s/step\n",
            "1/1 [==============================] - 5s 5s/step\n",
            "1/1 [==============================] - 5s 5s/step\n",
            "1/1 [==============================] - 6s 6s/step\n",
            "1/1 [==============================] - 6s 6s/step\n",
            "1/1 [==============================] - 6s 6s/step\n"
          ]
        },
        {
          "name": "stderr",
          "output_type": "stream",
          "text": [
            "extracting features from each frames: 599it [05:45,  1.27s/it]"
          ]
        },
        {
          "name": "stdout",
          "output_type": "stream",
          "text": [
            "1/1 [==============================] - 5s 5s/step\n",
            "1/1 [==============================] - 5s 5s/step\n"
          ]
        },
        {
          "name": "stderr",
          "output_type": "stream",
          "text": [
            "extracting features from each frames: 602it [05:47,  1.02s/it]"
          ]
        },
        {
          "name": "stdout",
          "output_type": "stream",
          "text": [
            "1/1 [==============================] - 4s 4s/step\n"
          ]
        },
        {
          "name": "stderr",
          "output_type": "stream",
          "text": [
            "extracting features from each frames: 607it [05:48,  1.43it/s]"
          ]
        },
        {
          "name": "stdout",
          "output_type": "stream",
          "text": [
            "1/1 [==============================] - 5s 5s/step\n"
          ]
        },
        {
          "name": "stderr",
          "output_type": "stream",
          "text": [
            "extracting features from each frames: 613it [05:49,  2.49it/s]"
          ]
        },
        {
          "name": "stdout",
          "output_type": "stream",
          "text": [
            "1/1 [==============================] - 6s 6s/step\n",
            "1/1 [==============================] - 6s 6s/step\n",
            "1/1 [==============================] - 6s 6s/step\n"
          ]
        },
        {
          "name": "stderr",
          "output_type": "stream",
          "text": [
            "extracting features from each frames: 614it [05:50,  2.07it/s]"
          ]
        },
        {
          "name": "stdout",
          "output_type": "stream",
          "text": [
            "1/1 [==============================] - 6s 6s/step\n",
            "1/1 [==============================] - 5s 5s/step\n",
            "1/1 [==============================] - 6s 6s/step\n",
            "1/1 [==============================] - 6s 6s/step\n",
            "1/1 [==============================] - 6s 6s/step\n",
            "1/1 [==============================] - 5s 5s/step\n",
            "1/1 [==============================] - 5s 5s/step\n",
            "1/1 [==============================] - 5s 5s/step\n",
            "1/1 [==============================] - 4s 4s/step\n"
          ]
        },
        {
          "name": "stderr",
          "output_type": "stream",
          "text": [
            "extracting features from each frames: 615it [05:54,  1.02it/s]"
          ]
        },
        {
          "name": "stdout",
          "output_type": "stream",
          "text": [
            "1/1 [==============================] - 5s 5s/step\n",
            "1/1 [==============================] - 5s 5s/step\n"
          ]
        },
        {
          "name": "stderr",
          "output_type": "stream",
          "text": [
            "extracting features from each frames: 620it [05:56,  1.43it/s]"
          ]
        },
        {
          "name": "stdout",
          "output_type": "stream",
          "text": [
            "1/1 [==============================] - 5s 5s/step\n",
            "1/1 [==============================] - 5s 5s/step\n",
            "1/1 [==============================] - 4s 4s/step\n"
          ]
        },
        {
          "name": "stderr",
          "output_type": "stream",
          "text": [
            "extracting features from each frames: 622it [05:58,  1.41it/s]"
          ]
        },
        {
          "name": "stdout",
          "output_type": "stream",
          "text": [
            "1/1 [==============================] - 5s 5s/step\n",
            "1/1 [==============================] - 5s 5s/step\n",
            "1/1 [==============================] - 5s 5s/step\n",
            "1/1 [==============================] - 5s 5s/step\n",
            "1/1 [==============================] - 5s 5s/step\n"
          ]
        },
        {
          "name": "stderr",
          "output_type": "stream",
          "text": [
            "extracting features from each frames: 627it [06:01,  1.44it/s]"
          ]
        },
        {
          "name": "stdout",
          "output_type": "stream",
          "text": [
            "1/1 [==============================] - 6s 6s/step\n",
            "1/1 [==============================] - 6s 6s/step\n",
            "1/1 [==============================] - 6s 6s/step\n",
            "1/1 [==============================] - 6s 6s/step\n",
            "1/1 [==============================] - 5s 5s/step\n",
            "1/1 [==============================] - 5s 5s/step\n",
            "1/1 [==============================] - 5s 5s/step\n"
          ]
        },
        {
          "name": "stderr",
          "output_type": "stream",
          "text": [
            "extracting features from each frames: 633it [06:05,  1.50it/s]"
          ]
        },
        {
          "name": "stdout",
          "output_type": "stream",
          "text": [
            "1/1 [==============================] - 5s 5s/step\n",
            "1/1 [==============================] - 5s 5s/step\n",
            "1/1 [==============================] - 5s 5s/step\n"
          ]
        },
        {
          "name": "stderr",
          "output_type": "stream",
          "text": [
            "extracting features from each frames: 638it [06:07,  1.67it/s]"
          ]
        },
        {
          "name": "stdout",
          "output_type": "stream",
          "text": [
            "1/1 [==============================] - 5s 5s/step\n",
            "1/1 [==============================] - 5s 5s/step\n"
          ]
        },
        {
          "name": "stderr",
          "output_type": "stream",
          "text": [
            "extracting features from each frames: 646it [06:08,  2.76it/s]"
          ]
        },
        {
          "name": "stdout",
          "output_type": "stream",
          "text": [
            "1/1 [==============================] - 5s 5s/step\n"
          ]
        },
        {
          "name": "stderr",
          "output_type": "stream",
          "text": [
            "extracting features from each frames: 648it [06:08,  2.95it/s]"
          ]
        },
        {
          "name": "stdout",
          "output_type": "stream",
          "text": [
            "1/1 [==============================] - 5s 5s/step\n"
          ]
        },
        {
          "name": "stderr",
          "output_type": "stream",
          "text": [
            "extracting features from each frames: 649it [06:08,  2.94it/s]"
          ]
        },
        {
          "name": "stdout",
          "output_type": "stream",
          "text": [
            "1/1 [==============================] - 5s 5s/step\n",
            "1/1 [==============================] - 6s 6s/step\n",
            "1/1 [==============================] - 6s 6s/step\n",
            "1/1 [==============================] - 5s 5s/step\n",
            "1/1 [==============================] - 5s 5s/step\n",
            "1/1 [==============================] - 6s 6s/step\n",
            "1/1 [==============================] - 5s 5s/step\n",
            "1/1 [==============================] - 4s 4s/step\n",
            "1/1 [==============================] - 4s 4s/step\n",
            "1/1 [==============================] - 4s 4s/step\n",
            "1/1 [==============================] - 4s 4s/step\n"
          ]
        },
        {
          "name": "stderr",
          "output_type": "stream",
          "text": [
            "extracting features from each frames: 652it [06:16,  1.15it/s]"
          ]
        },
        {
          "name": "stdout",
          "output_type": "stream",
          "text": [
            "1/1 [==============================] - 4s 4s/step\n",
            "1/1 [==============================] - 4s 4s/step\n",
            "1/1 [==============================] - 5s 5s/step\n"
          ]
        },
        {
          "name": "stderr",
          "output_type": "stream",
          "text": [
            "extracting features from each frames: 661it [06:17,  2.40it/s]"
          ]
        },
        {
          "name": "stdout",
          "output_type": "stream",
          "text": [
            "1/1 [==============================] - 5s 5s/step\n",
            "1/1 [==============================] - 5s 5s/step\n",
            "1/1 [==============================] - 5s 5s/step\n",
            "1/1 [==============================] - 6s 6s/step\n",
            "1/1 [==============================] - 5s 5s/step\n",
            "1/1 [==============================] - 5s 5s/step\n",
            "1/1 [==============================] - 5s 5s/step\n",
            "1/1 [==============================] - 5s 5s/step\n",
            "1/1 [==============================] - 4s 4s/step\n",
            "1/1 [==============================] - 4s 4s/step\n",
            "1/1 [==============================] - 4s 4s/step\n",
            "1/1 [==============================] - 4s 4s/step\n",
            "1/1 [==============================] - 3s 3s/step\n",
            "1/1 [==============================] - 3s 3s/step\n"
          ]
        },
        {
          "name": "stderr",
          "output_type": "stream",
          "text": [
            "extracting features from each frames: 668it [06:24,  1.58it/s]"
          ]
        },
        {
          "name": "stdout",
          "output_type": "stream",
          "text": [
            "1/1 [==============================] - 4s 4s/step\n",
            "1/1 [==============================] - 4s 4s/step\n"
          ]
        },
        {
          "name": "stderr",
          "output_type": "stream",
          "text": [
            "extracting features from each frames: 670it [06:25,  1.71it/s]"
          ]
        },
        {
          "name": "stdout",
          "output_type": "stream",
          "text": [
            "1/1 [==============================] - 4s 4s/step\n"
          ]
        },
        {
          "name": "stderr",
          "output_type": "stream",
          "text": [
            "extracting features from each frames: 678it [06:27,  2.95it/s]"
          ]
        },
        {
          "name": "stdout",
          "output_type": "stream",
          "text": [
            "1/1 [==============================] - 4s 4s/step\n",
            "1/1 [==============================] - 4s 4s/step\n"
          ]
        },
        {
          "name": "stderr",
          "output_type": "stream",
          "text": [
            "extracting features from each frames: 680it [06:27,  2.96it/s]"
          ]
        },
        {
          "name": "stdout",
          "output_type": "stream",
          "text": [
            "1/1 [==============================] - 5s 5s/step\n"
          ]
        },
        {
          "name": "stderr",
          "output_type": "stream",
          "text": [
            "extracting features from each frames: 683it [06:28,  3.03it/s]"
          ]
        },
        {
          "name": "stdout",
          "output_type": "stream",
          "text": [
            "1/1 [==============================] - 6s 6s/step\n"
          ]
        },
        {
          "name": "stderr",
          "output_type": "stream",
          "text": [
            "extracting features from each frames: 684it [06:29,  2.56it/s]"
          ]
        },
        {
          "name": "stdout",
          "output_type": "stream",
          "text": [
            "1/1 [==============================] - 6s 6s/step\n"
          ]
        },
        {
          "name": "stderr",
          "output_type": "stream",
          "text": [
            "extracting features from each frames: 685it [06:30,  2.40it/s]"
          ]
        },
        {
          "name": "stdout",
          "output_type": "stream",
          "text": [
            "1/1 [==============================] - 6s 6s/step\n"
          ]
        },
        {
          "name": "stderr",
          "output_type": "stream",
          "text": [
            "extracting features from each frames: 686it [06:30,  2.23it/s]"
          ]
        },
        {
          "name": "stdout",
          "output_type": "stream",
          "text": [
            "1/1 [==============================] - 6s 6s/step\n",
            "1/1 [==============================] - 6s 6s/step\n",
            "1/1 [==============================] - 6s 6s/step\n",
            "1/1 [==============================] - 6s 6s/step\n",
            "1/1 [==============================] - 6s 6s/step\n",
            "1/1 [==============================] - 6s 6s/step\n",
            "1/1 [==============================] - 6s 6s/step\n",
            "1/1 [==============================] - 5s 5s/step\n",
            "1/1 [==============================] - 6s 6s/step\n",
            "1/1 [==============================] - 5s 5s/step\n",
            "1/1 [==============================] - 5s 5s/step\n"
          ]
        },
        {
          "name": "stderr",
          "output_type": "stream",
          "text": [
            "extracting features from each frames: 687it [06:35,  1.36s/it]"
          ]
        },
        {
          "name": "stdout",
          "output_type": "stream",
          "text": [
            "1/1 [==============================] - 5s 5s/step\n",
            "1/1 [==============================] - 5s 5s/step\n",
            "1/1 [==============================] - 5s 5s/step\n"
          ]
        },
        {
          "name": "stderr",
          "output_type": "stream",
          "text": [
            "extracting features from each frames: 692it [06:38,  1.21it/s]"
          ]
        },
        {
          "name": "stdout",
          "output_type": "stream",
          "text": [
            "1/1 [==============================] - 5s 5s/step\n",
            "1/1 [==============================] - 5s 5s/step\n",
            "1/1 [==============================] - 5s 5s/step\n"
          ]
        },
        {
          "name": "stderr",
          "output_type": "stream",
          "text": [
            "extracting features from each frames: 695it [06:40,  1.26it/s]"
          ]
        },
        {
          "name": "stdout",
          "output_type": "stream",
          "text": [
            "1/1 [==============================] - 5s 5s/step\n"
          ]
        },
        {
          "name": "stderr",
          "output_type": "stream",
          "text": [
            "extracting features from each frames: 704it [06:40,  2.72it/s]"
          ]
        },
        {
          "name": "stdout",
          "output_type": "stream",
          "text": [
            "1/1 [==============================] - 5s 5s/step\n"
          ]
        },
        {
          "name": "stderr",
          "output_type": "stream",
          "text": [
            "extracting features from each frames: 705it [06:41,  2.80it/s]"
          ]
        },
        {
          "name": "stdout",
          "output_type": "stream",
          "text": [
            "1/1 [==============================] - 5s 5s/step\n"
          ]
        },
        {
          "name": "stderr",
          "output_type": "stream",
          "text": [
            "extracting features from each frames: 706it [06:41,  2.81it/s]"
          ]
        },
        {
          "name": "stdout",
          "output_type": "stream",
          "text": [
            "1/1 [==============================] - 6s 6s/step\n"
          ]
        },
        {
          "name": "stderr",
          "output_type": "stream",
          "text": [
            "extracting features from each frames: 707it [06:43,  1.87it/s]"
          ]
        },
        {
          "name": "stdout",
          "output_type": "stream",
          "text": [
            "1/1 [==============================] - 6s 6s/step\n"
          ]
        },
        {
          "name": "stderr",
          "output_type": "stream",
          "text": [
            "extracting features from each frames: 708it [06:43,  2.01it/s]"
          ]
        },
        {
          "name": "stdout",
          "output_type": "stream",
          "text": [
            "1/1 [==============================] - 6s 6s/step\n"
          ]
        },
        {
          "name": "stderr",
          "output_type": "stream",
          "text": [
            "extracting features from each frames: 709it [06:44,  1.96it/s]"
          ]
        },
        {
          "name": "stdout",
          "output_type": "stream",
          "text": [
            "1/1 [==============================] - 6s 6s/step\n"
          ]
        },
        {
          "name": "stderr",
          "output_type": "stream",
          "text": [
            "extracting features from each frames: 710it [06:44,  2.32it/s]"
          ]
        },
        {
          "name": "stdout",
          "output_type": "stream",
          "text": [
            "1/1 [==============================] - 7s 7s/step\n",
            "1/1 [==============================] - 7s 7s/step\n",
            "1/1 [==============================] - 6s 6s/step\n",
            "1/1 [==============================] - 6s 6s/step\n",
            "1/1 [==============================] - 5s 5s/step\n",
            "1/1 [==============================] - 6s 6s/step\n",
            "1/1 [==============================] - 5s 5s/step\n",
            "1/1 [==============================] - 4s 4s/step\n",
            "1/1 [==============================] - 5s 5s/step\n",
            "1/1 [==============================] - 5s 5s/step\n"
          ]
        },
        {
          "name": "stderr",
          "output_type": "stream",
          "text": [
            "extracting features from each frames: 712it [06:49,  1.19s/it]"
          ]
        },
        {
          "name": "stdout",
          "output_type": "stream",
          "text": [
            "1/1 [==============================] - 5s 5s/step\n"
          ]
        },
        {
          "name": "stderr",
          "output_type": "stream",
          "text": [
            "extracting features from each frames: 721it [06:49,  3.41it/s]"
          ]
        },
        {
          "name": "stdout",
          "output_type": "stream",
          "text": [
            "1/1 [==============================] - 4s 4s/step\n",
            "1/1 [==============================] - 6s 6s/step\n",
            "1/1 [==============================] - 6s 6s/step\n",
            "1/1 [==============================] - 6s 6s/step\n",
            "1/1 [==============================] - 6s 6s/step\n",
            "1/1 [==============================] - 6s 6s/step\n",
            "1/1 [==============================] - 5s 5s/step\n",
            "1/1 [==============================] - 6s 6s/step\n",
            "1/1 [==============================] - 6s 6s/step\n",
            "1/1 [==============================] - 6s 6s/step\n",
            "1/1 [==============================] - 6s 6s/step\n",
            "1/1 [==============================] - 6s 6s/step\n"
          ]
        },
        {
          "name": "stderr",
          "output_type": "stream",
          "text": [
            "extracting features from each frames: 724it [06:57,  1.10it/s]"
          ]
        },
        {
          "name": "stdout",
          "output_type": "stream",
          "text": [
            "1/1 [==============================] - 6s 6s/step\n"
          ]
        },
        {
          "name": "stderr",
          "output_type": "stream",
          "text": [
            "extracting features from each frames: 734it [06:58,  2.13it/s]"
          ]
        },
        {
          "name": "stdout",
          "output_type": "stream",
          "text": [
            "1/1 [==============================] - 5s 5s/step\n",
            "1/1 [==============================] - 6s 6s/step\n",
            "1/1 [==============================] - 6s 6s/step\n",
            "1/1 [==============================] - 6s 6s/step\n",
            "1/1 [==============================] - 5s 5s/step\n",
            "1/1 [==============================] - 6s 6s/step\n",
            "1/1 [==============================] - 5s 5s/step\n",
            "1/1 [==============================] - 6s 6s/step\n",
            "1/1 [==============================] - 5s 5s/step\n",
            "1/1 [==============================] - 5s 5s/step\n"
          ]
        },
        {
          "name": "stderr",
          "output_type": "stream",
          "text": [
            "extracting features from each frames: 736it [07:03,  1.34it/s]"
          ]
        },
        {
          "name": "stdout",
          "output_type": "stream",
          "text": [
            "1/1 [==============================] - 5s 5s/step\n",
            "1/1 [==============================] - 5s 5s/step\n"
          ]
        },
        {
          "name": "stderr",
          "output_type": "stream",
          "text": [
            "extracting features from each frames: 738it [07:05,  1.31it/s]"
          ]
        },
        {
          "name": "stdout",
          "output_type": "stream",
          "text": [
            "1/1 [==============================] - 5s 5s/step\n"
          ]
        },
        {
          "name": "stderr",
          "output_type": "stream",
          "text": [
            "extracting features from each frames: 747it [07:05,  2.50it/s]"
          ]
        },
        {
          "name": "stdout",
          "output_type": "stream",
          "text": [
            "1/1 [==============================] - 5s 5s/step\n",
            "1/1 [==============================] - 5s 5s/step\n"
          ]
        },
        {
          "name": "stderr",
          "output_type": "stream",
          "text": [
            "extracting features from each frames: 749it [07:06,  2.63it/s]"
          ]
        },
        {
          "name": "stdout",
          "output_type": "stream",
          "text": [
            "1/1 [==============================] - 5s 5s/step\n",
            "1/1 [==============================] - 5s 5s/step\n"
          ]
        },
        {
          "name": "stderr",
          "output_type": "stream",
          "text": [
            "extracting features from each frames: 750it [07:06,  2.55it/s]"
          ]
        },
        {
          "name": "stdout",
          "output_type": "stream",
          "text": [
            "1/1 [==============================] - 6s 6s/step\n",
            "1/1 [==============================] - 6s 6s/step\n"
          ]
        },
        {
          "name": "stderr",
          "output_type": "stream",
          "text": [
            "extracting features from each frames: 752it [07:08,  1.99it/s]"
          ]
        },
        {
          "name": "stdout",
          "output_type": "stream",
          "text": [
            "1/1 [==============================] - 6s 6s/step\n",
            "1/1 [==============================] - 6s 6s/step\n",
            "1/1 [==============================] - 7s 7s/step\n"
          ]
        },
        {
          "name": "stderr",
          "output_type": "stream",
          "text": [
            "extracting features from each frames: 754it [07:10,  1.63it/s]"
          ]
        },
        {
          "name": "stdout",
          "output_type": "stream",
          "text": [
            "1/1 [==============================] - 6s 6s/step\n",
            "1/1 [==============================] - 6s 6s/step\n",
            "1/1 [==============================] - 6s 6s/step\n",
            "1/1 [==============================] - 7s 7s/step\n",
            "1/1 [==============================] - 6s 6s/step\n",
            "1/1 [==============================] - 6s 6s/step\n",
            "1/1 [==============================] - 5s 5s/step\n",
            "1/1 [==============================] - 5s 5s/step\n",
            "1/1 [==============================] - 5s 5s/step\n",
            "1/1 [==============================] - 5s 5s/step\n",
            "1/1 [==============================] - 4s 4s/step\n"
          ]
        },
        {
          "name": "stderr",
          "output_type": "stream",
          "text": [
            "extracting features from each frames: 759it [07:16,  1.13it/s]"
          ]
        },
        {
          "name": "stdout",
          "output_type": "stream",
          "text": [
            "1/1 [==============================] - 4s 4s/step\n"
          ]
        },
        {
          "name": "stderr",
          "output_type": "stream",
          "text": [
            "extracting features from each frames: 761it [07:17,  1.46it/s]"
          ]
        },
        {
          "name": "stdout",
          "output_type": "stream",
          "text": [
            "1/1 [==============================] - 5s 5s/step\n"
          ]
        },
        {
          "name": "stderr",
          "output_type": "stream",
          "text": [
            "extracting features from each frames: 768it [07:17,  3.21it/s]"
          ]
        },
        {
          "name": "stdout",
          "output_type": "stream",
          "text": [
            "1/1 [==============================] - 5s 5s/step\n",
            "1/1 [==============================] - 4s 4s/step\n",
            "1/1 [==============================] - 5s 5s/step\n"
          ]
        },
        {
          "name": "stderr",
          "output_type": "stream",
          "text": [
            "extracting features from each frames: 771it [07:19,  2.56it/s]"
          ]
        },
        {
          "name": "stdout",
          "output_type": "stream",
          "text": [
            "1/1 [==============================] - 5s 5s/step\n"
          ]
        },
        {
          "name": "stderr",
          "output_type": "stream",
          "text": [
            "extracting features from each frames: 773it [07:20,  2.15it/s]"
          ]
        },
        {
          "name": "stdout",
          "output_type": "stream",
          "text": [
            "1/1 [==============================] - 5s 5s/step\n",
            "1/1 [==============================] - 6s 6s/step\n",
            "1/1 [==============================] - 6s 6s/step\n",
            "1/1 [==============================] - 5s 5s/step\n",
            "1/1 [==============================] - 6s 6s/step\n",
            "1/1 [==============================] - 6s 6s/step\n",
            "1/1 [==============================] - 6s 6s/step\n",
            "1/1 [==============================] - 6s 6s/step\n",
            "1/1 [==============================] - 5s 5s/step\n",
            "1/1 [==============================] - 5s 5s/step\n",
            "1/1 [==============================] - 4s 4s/step\n",
            "1/1 [==============================] - 4s 4s/step\n",
            "1/1 [==============================] - 4s 4s/step\n"
          ]
        },
        {
          "name": "stderr",
          "output_type": "stream",
          "text": [
            "extracting features from each frames: 775it [07:25,  1.07it/s]"
          ]
        },
        {
          "name": "stdout",
          "output_type": "stream",
          "text": [
            "1/1 [==============================] - 3s 3s/step\n",
            "1/1 [==============================] - 3s 3s/step\n",
            "1/1 [==============================] - 3s 3s/step\n"
          ]
        },
        {
          "name": "stderr",
          "output_type": "stream",
          "text": [
            "extracting features from each frames: 783it [07:29,  1.43it/s]"
          ]
        },
        {
          "name": "stdout",
          "output_type": "stream",
          "text": [
            "1/1 [==============================] - 4s 4s/step\n",
            "1/1 [==============================] - 4s 4s/step\n"
          ]
        },
        {
          "name": "stderr",
          "output_type": "stream",
          "text": [
            "extracting features from each frames: 791it [07:30,  3.74it/s]"
          ]
        },
        {
          "name": "stdout",
          "output_type": "stream",
          "text": [
            "1/1 [==============================] - 5s 5s/step\n",
            "1/1 [==============================] - 5s 5s/step\n"
          ]
        },
        {
          "name": "stderr",
          "output_type": "stream",
          "text": [
            "extracting features from each frames: 793it [07:31,  2.95it/s]"
          ]
        },
        {
          "name": "stdout",
          "output_type": "stream",
          "text": [
            "1/1 [==============================] - 5s 5s/step\n",
            "1/1 [==============================] - 5s 5s/step\n",
            "1/1 [==============================] - 5s 5s/step\n",
            "1/1 [==============================] - 6s 6s/step\n",
            "1/1 [==============================] - 6s 6s/step\n",
            "1/1 [==============================] - 5s 5s/step\n",
            "1/1 [==============================] - 5s 5s/step\n",
            "1/1 [==============================] - 5s 5s/step\n",
            "1/1 [==============================] - 6s 6s/step\n",
            "1/1 [==============================] - 5s 5s/step\n",
            "1/1 [==============================] - 5s 5s/step\n",
            "1/1 [==============================] - 4s 4s/step\n",
            "1/1 [==============================] - 4s 4s/step\n"
          ]
        },
        {
          "name": "stderr",
          "output_type": "stream",
          "text": [
            "extracting features from each frames: 797it [07:38,  1.23it/s]"
          ]
        },
        {
          "name": "stdout",
          "output_type": "stream",
          "text": [
            "1/1 [==============================] - 4s 4s/step\n"
          ]
        },
        {
          "name": "stderr",
          "output_type": "stream",
          "text": [
            "extracting features from each frames: 807it [07:39,  2.93it/s]"
          ]
        },
        {
          "name": "stdout",
          "output_type": "stream",
          "text": [
            "1/1 [==============================] - 5s 5s/step\n"
          ]
        },
        {
          "name": "stderr",
          "output_type": "stream",
          "text": [
            "extracting features from each frames: 808it [07:40,  2.18it/s]"
          ]
        },
        {
          "name": "stdout",
          "output_type": "stream",
          "text": [
            "1/1 [==============================] - 5s 5s/step\n",
            "1/1 [==============================] - 5s 5s/step\n",
            "1/1 [==============================] - 5s 5s/step\n",
            "1/1 [==============================] - 6s 6s/step\n",
            "1/1 [==============================] - 6s 6s/step\n",
            "1/1 [==============================] - 6s 6s/step\n",
            "1/1 [==============================] - 6s 6s/step\n",
            "1/1 [==============================] - 5s 5s/step\n",
            "1/1 [==============================] - 5s 5s/step\n",
            "1/1 [==============================] - 5s 5s/step\n",
            "1/1 [==============================] - 5s 5s/step\n"
          ]
        },
        {
          "name": "stderr",
          "output_type": "stream",
          "text": [
            "extracting features from each frames: 809it [07:46,  1.00s/it]"
          ]
        },
        {
          "name": "stdout",
          "output_type": "stream",
          "text": [
            "1/1 [==============================] - 4s 4s/step\n"
          ]
        },
        {
          "name": "stderr",
          "output_type": "stream",
          "text": [
            "extracting features from each frames: 810it [07:46,  1.08it/s]"
          ]
        },
        {
          "name": "stdout",
          "output_type": "stream",
          "text": [
            "1/1 [==============================] - 5s 5s/step\n",
            "1/1 [==============================] - 5s 5s/step\n",
            "1/1 [==============================] - 5s 5s/step\n"
          ]
        },
        {
          "name": "stderr",
          "output_type": "stream",
          "text": [
            "extracting features from each frames: 816it [07:49,  1.58it/s]"
          ]
        },
        {
          "name": "stdout",
          "output_type": "stream",
          "text": [
            "1/1 [==============================] - 5s 5s/step\n",
            "1/1 [==============================] - 5s 5s/step\n"
          ]
        },
        {
          "name": "stderr",
          "output_type": "stream",
          "text": [
            "extracting features from each frames: 824it [07:49,  3.07it/s]"
          ]
        },
        {
          "name": "stdout",
          "output_type": "stream",
          "text": [
            "1/1 [==============================] - 5s 5s/step\n",
            "1/1 [==============================] - 5s 5s/step\n"
          ]
        },
        {
          "name": "stderr",
          "output_type": "stream",
          "text": [
            "extracting features from each frames: 827it [07:51,  2.35it/s]"
          ]
        },
        {
          "name": "stdout",
          "output_type": "stream",
          "text": [
            "1/1 [==============================] - 5s 5s/step\n",
            "1/1 [==============================] - 5s 5s/step\n",
            "1/1 [==============================] - 5s 5s/step\n",
            "1/1 [==============================] - 5s 5s/step\n",
            "1/1 [==============================] - 6s 6s/step\n",
            "1/1 [==============================] - 6s 6s/step\n",
            "1/1 [==============================] - 5s 5s/step\n",
            "1/1 [==============================] - 5s 5s/step\n",
            "1/1 [==============================] - 5s 5s/step\n",
            "1/1 [==============================] - 5s 5s/step\n",
            "1/1 [==============================] - 4s 4s/step\n",
            "1/1 [==============================] - 4s 4s/step\n",
            "1/1 [==============================] - 4s 4s/step\n",
            "1/1 [==============================] - 4s 4s/step\n"
          ]
        },
        {
          "name": "stderr",
          "output_type": "stream",
          "text": [
            "extracting features from each frames: 829it [07:57,  1.20it/s]"
          ]
        },
        {
          "name": "stdout",
          "output_type": "stream",
          "text": [
            "1/1 [==============================] - 5s 5s/step\n"
          ]
        },
        {
          "name": "stderr",
          "output_type": "stream",
          "text": [
            "extracting features from each frames: 841it [07:58,  2.48it/s]"
          ]
        },
        {
          "name": "stdout",
          "output_type": "stream",
          "text": [
            "1/1 [==============================] - 6s 6s/step\n",
            "1/1 [==============================] - 6s 6s/step\n",
            "1/1 [==============================] - 6s 6s/step\n",
            "1/1 [==============================] - 6s 6s/step\n",
            "1/1 [==============================] - 6s 6s/step\n",
            "1/1 [==============================] - 6s 6s/step\n",
            "1/1 [==============================] - 5s 5s/step\n",
            "1/1 [==============================] - 5s 5s/step\n",
            "1/1 [==============================] - 5s 5s/step\n",
            "1/1 [==============================] - 4s 4s/step\n",
            "1/1 [==============================] - 3s 3s/step\n",
            "1/1 [==============================] - 3s 3s/step\n",
            "1/1 [==============================] - 3s 3s/step\n"
          ]
        },
        {
          "name": "stderr",
          "output_type": "stream",
          "text": [
            "extracting features from each frames: 843it [08:05,  1.28it/s]"
          ]
        },
        {
          "name": "stdout",
          "output_type": "stream",
          "text": [
            "1/1 [==============================] - 3s 3s/step\n",
            "1/1 [==============================] - 3s 3s/step\n",
            "1/1 [==============================] - 3s 3s/step\n",
            "1/1 [==============================] - 2s 2s/step\n"
          ]
        },
        {
          "name": "stderr",
          "output_type": "stream",
          "text": [
            "extracting features from each frames: 855it [08:07,  2.74it/s]"
          ]
        },
        {
          "name": "stdout",
          "output_type": "stream",
          "text": [
            "1/1 [==============================] - 5s 5s/step\n",
            "1/1 [==============================] - 6s 6s/step\n",
            "1/1 [==============================] - 6s 6s/step\n",
            "1/1 [==============================] - 6s 6s/step\n",
            "1/1 [==============================] - 6s 6s/step\n",
            "1/1 [==============================] - 6s 6s/step\n"
          ]
        },
        {
          "name": "stderr",
          "output_type": "stream",
          "text": [
            "extracting features from each frames: 860it [08:12,  1.75it/s]"
          ]
        },
        {
          "name": "stdout",
          "output_type": "stream",
          "text": [
            "1/1 [==============================] - 6s 6s/step\n",
            "1/1 [==============================] - 6s 6s/step\n",
            "1/1 [==============================] - 6s 6s/step\n",
            "1/1 [==============================] - 5s 5s/step\n",
            "1/1 [==============================] - 5s 5s/step\n",
            "1/1 [==============================] - 2s 2s/step\n"
          ]
        },
        {
          "name": "stderr",
          "output_type": "stream",
          "text": [
            "extracting features from each frames: 862it [08:16,  1.23it/s]"
          ]
        },
        {
          "name": "stdout",
          "output_type": "stream",
          "text": [
            "1/1 [==============================] - 4s 4s/step\n"
          ]
        },
        {
          "name": "stderr",
          "output_type": "stream",
          "text": [
            "extracting features from each frames: 872it [08:18,  2.23it/s]"
          ]
        },
        {
          "name": "stdout",
          "output_type": "stream",
          "text": [
            "1/1 [==============================] - 5s 5s/step\n"
          ]
        },
        {
          "name": "stderr",
          "output_type": "stream",
          "text": [
            "extracting features from each frames: 873it [08:18,  2.24it/s]"
          ]
        },
        {
          "name": "stdout",
          "output_type": "stream",
          "text": [
            "1/1 [==============================] - 6s 6s/step\n",
            "1/1 [==============================] - 6s 6s/step\n",
            "1/1 [==============================] - 6s 6s/step\n",
            "1/1 [==============================] - 6s 6s/step\n",
            "1/1 [==============================] - 6s 6s/step\n",
            "1/1 [==============================] - 6s 6s/step\n",
            "1/1 [==============================] - 6s 6s/step\n",
            "1/1 [==============================] - 6s 6s/step\n",
            "1/1 [==============================] - 5s 5s/step\n",
            "1/1 [==============================] - 5s 5s/step\n",
            "1/1 [==============================] - 5s 5s/step\n"
          ]
        },
        {
          "name": "stderr",
          "output_type": "stream",
          "text": [
            "extracting features from each frames: 884it [08:24,  3.00it/s]"
          ]
        },
        {
          "name": "stdout",
          "output_type": "stream",
          "text": [
            "1/1 [==============================] - 5s 5s/step\n",
            "1/1 [==============================] - 5s 5s/step\n",
            "1/1 [==============================] - 5s 5s/step\n",
            "1/1 [==============================] - 6s 6s/step\n"
          ]
        },
        {
          "name": "stderr",
          "output_type": "stream",
          "text": [
            "extracting features from each frames: 886it [08:25,  2.63it/s]"
          ]
        },
        {
          "name": "stdout",
          "output_type": "stream",
          "text": [
            "1/1 [==============================] - 6s 6s/step\n"
          ]
        },
        {
          "name": "stderr",
          "output_type": "stream",
          "text": [
            "extracting features from each frames: 889it [08:25,  3.30it/s]"
          ]
        },
        {
          "name": "stdout",
          "output_type": "stream",
          "text": [
            "1/1 [==============================] - 6s 6s/step\n",
            "1/1 [==============================] - 5s 5s/step\n"
          ]
        },
        {
          "name": "stderr",
          "output_type": "stream",
          "text": [
            "extracting features from each frames: 891it [08:27,  2.54it/s]"
          ]
        },
        {
          "name": "stdout",
          "output_type": "stream",
          "text": [
            "1/1 [==============================] - 7s 7s/step\n",
            "1/1 [==============================] - 6s 6s/step\n",
            "1/1 [==============================] - 6s 6s/step\n",
            "1/1 [==============================] - 6s 6s/step\n",
            "1/1 [==============================] - 6s 6s/step\n",
            "1/1 [==============================] - 5s 5s/step\n",
            "1/1 [==============================] - 6s 6s/step\n",
            "1/1 [==============================] - 6s 6s/step\n",
            "1/1 [==============================] - 6s 6s/step\n",
            "1/1 [==============================] - 5s 5s/step\n",
            "1/1 [==============================] - 5s 5s/step\n"
          ]
        },
        {
          "name": "stderr",
          "output_type": "stream",
          "text": [
            "extracting features from each frames: 892it [08:33,  1.16s/it]"
          ]
        },
        {
          "name": "stdout",
          "output_type": "stream",
          "text": [
            "1/1 [==============================] - 4s 4s/step\n",
            "1/1 [==============================] - 4s 4s/step\n",
            "1/1 [==============================] - 4s 4s/step\n",
            "1/1 [==============================] - 3s 3s/step\n",
            "1/1 [==============================] - 4s 4s/step\n"
          ]
        },
        {
          "name": "stderr",
          "output_type": "stream",
          "text": [
            "extracting features from each frames: 896it [08:35,  1.19it/s]"
          ]
        },
        {
          "name": "stdout",
          "output_type": "stream",
          "text": [
            "1/1 [==============================] - ETA: 0s"
          ]
        },
        {
          "name": "stderr",
          "output_type": "stream",
          "text": [
            "extracting features from each frames: 897it [08:35,  1.26it/s]"
          ]
        },
        {
          "name": "stdout",
          "output_type": "stream",
          "text": [
            "1/1 [==============================] - 3s 3s/step\n"
          ]
        },
        {
          "name": "stderr",
          "output_type": "stream",
          "text": [
            "extracting features from each frames: 907it [08:36,  3.59it/s]"
          ]
        },
        {
          "name": "stdout",
          "output_type": "stream",
          "text": [
            "1/1 [==============================] - 4s 4s/step\n"
          ]
        },
        {
          "name": "stderr",
          "output_type": "stream",
          "text": [
            "extracting features from each frames: 909it [08:38,  2.90it/s]"
          ]
        },
        {
          "name": "stdout",
          "output_type": "stream",
          "text": [
            "1/1 [==============================] - 5s 5s/step\n",
            "1/1 [==============================] - 6s 6s/step\n"
          ]
        },
        {
          "name": "stderr",
          "output_type": "stream",
          "text": [
            "extracting features from each frames: 910it [08:39,  1.90it/s]"
          ]
        },
        {
          "name": "stdout",
          "output_type": "stream",
          "text": [
            "1/1 [==============================] - 6s 6s/step\n",
            "1/1 [==============================] - 5s 5s/step\n",
            "1/1 [==============================] - 6s 6s/step\n",
            "1/1 [==============================] - 6s 6s/step\n",
            "1/1 [==============================] - 6s 6s/step\n",
            "1/1 [==============================] - 6s 6s/step\n",
            "1/1 [==============================] - 6s 6s/step\n",
            "1/1 [==============================] - 5s 5s/step\n",
            "1/1 [==============================] - 4s 4s/step\n",
            "1/1 [==============================] - 3s 3s/step\n",
            "1/1 [==============================] - 3s 3s/step\n",
            "1/1 [==============================] - 2s 2s/step\n",
            "1/1 [==============================] - 2s 2s/step\n"
          ]
        },
        {
          "name": "stderr",
          "output_type": "stream",
          "text": [
            "extracting features from each frames: 912it [08:44,  1.07s/it]"
          ]
        },
        {
          "name": "stdout",
          "output_type": "stream",
          "text": [
            "1/1 [==============================] - 2s 2s/step\n"
          ]
        },
        {
          "name": "stderr",
          "output_type": "stream",
          "text": [
            "extracting features from each frames: 913it [08:45,  1.01it/s]"
          ]
        },
        {
          "name": "stdout",
          "output_type": "stream",
          "text": [
            "1/1 [==============================] - 2s 2s/step\n"
          ]
        },
        {
          "name": "stderr",
          "output_type": "stream",
          "text": [
            "extracting features from each frames: 918it [08:46,  2.11it/s]"
          ]
        },
        {
          "name": "stdout",
          "output_type": "stream",
          "text": [
            "1/1 [==============================] - 3s 3s/step\n"
          ]
        },
        {
          "name": "stderr",
          "output_type": "stream",
          "text": [
            "extracting features from each frames: 927it [08:46,  6.03it/s]"
          ]
        },
        {
          "name": "stdout",
          "output_type": "stream",
          "text": [
            "1/1 [==============================] - 5s 5s/step\n",
            "1/1 [==============================] - 6s 6s/step\n",
            "1/1 [==============================] - 6s 6s/step\n",
            "1/1 [==============================] - 6s 6s/step\n",
            "1/1 [==============================] - 6s 6s/step\n",
            "1/1 [==============================] - 6s 6s/step\n",
            "1/1 [==============================] - 6s 6s/step\n",
            "1/1 [==============================] - 5s 5s/step\n",
            "1/1 [==============================] - 6s 6s/step\n",
            "1/1 [==============================] - 5s 5s/step\n",
            "1/1 [==============================] - 6s 6s/step\n",
            "1/1 [==============================] - 4s 4s/step\n",
            "1/1 [==============================] - 4s 4s/step\n"
          ]
        },
        {
          "name": "stderr",
          "output_type": "stream",
          "text": [
            "extracting features from each frames: 930it [08:55,  1.19it/s]"
          ]
        },
        {
          "name": "stdout",
          "output_type": "stream",
          "text": [
            "1/1 [==============================] - 4s 4s/step\n",
            "1/1 [==============================] - 4s 4s/step\n"
          ]
        },
        {
          "name": "stderr",
          "output_type": "stream",
          "text": [
            "extracting features from each frames: 932it [08:56,  1.39it/s]"
          ]
        },
        {
          "name": "stdout",
          "output_type": "stream",
          "text": [
            "1/1 [==============================] - 4s 4s/step\n"
          ]
        },
        {
          "name": "stderr",
          "output_type": "stream",
          "text": [
            "extracting features from each frames: 934it [08:56,  1.71it/s]"
          ]
        },
        {
          "name": "stdout",
          "output_type": "stream",
          "text": [
            "1/1 [==============================] - 4s 4s/step\n",
            "1/1 [==============================] - 4s 4s/step\n"
          ]
        },
        {
          "name": "stderr",
          "output_type": "stream",
          "text": [
            "extracting features from each frames: 942it [08:57,  2.94it/s]"
          ]
        },
        {
          "name": "stdout",
          "output_type": "stream",
          "text": [
            "1/1 [==============================] - 5s 5s/step\n"
          ]
        },
        {
          "name": "stderr",
          "output_type": "stream",
          "text": [
            "extracting features from each frames: 946it [09:00,  2.12it/s]"
          ]
        },
        {
          "name": "stdout",
          "output_type": "stream",
          "text": [
            "1/1 [==============================] - 5s 5s/step\n",
            "1/1 [==============================] - 6s 6s/step\n",
            "1/1 [==============================] - 5s 5s/step\n",
            "1/1 [==============================] - 6s 6s/step\n",
            "1/1 [==============================] - 6s 6s/step\n",
            "1/1 [==============================] - 7s 7s/step\n",
            "1/1 [==============================] - 6s 6s/step\n",
            "1/1 [==============================] - 6s 6s/step\n",
            "1/1 [==============================] - 6s 6s/step\n",
            "1/1 [==============================] - 6s 6s/step\n",
            "1/1 [==============================] - 4s 4s/step\n",
            "1/1 [==============================] - 3s 3s/step\n",
            "1/1 [==============================] - 3s 3s/step\n",
            "1/1 [==============================] - 3s 3s/step\n",
            "1/1 [==============================] - 2s 2s/step\n"
          ]
        },
        {
          "name": "stderr",
          "output_type": "stream",
          "text": [
            "extracting features from each frames: 949it [09:06,  1.28it/s]"
          ]
        },
        {
          "name": "stdout",
          "output_type": "stream",
          "text": [
            "1/1 [==============================] - 2s 2s/step\n"
          ]
        },
        {
          "name": "stderr",
          "output_type": "stream",
          "text": [
            "extracting features from each frames: 959it [09:07,  2.95it/s]"
          ]
        },
        {
          "name": "stdout",
          "output_type": "stream",
          "text": [
            "1/1 [==============================] - 4s 4s/step\n",
            "1/1 [==============================] - 3s 3s/step\n"
          ]
        },
        {
          "name": "stderr",
          "output_type": "stream",
          "text": [
            "extracting features from each frames: 964it [09:11,  2.17it/s]"
          ]
        },
        {
          "name": "stdout",
          "output_type": "stream",
          "text": [
            "1/1 [==============================] - 5s 5s/step\n",
            "1/1 [==============================] - 5s 5s/step\n",
            "1/1 [==============================] - 6s 6s/step\n",
            "1/1 [==============================] - 6s 6s/step\n",
            "1/1 [==============================] - 5s 5s/step\n",
            "1/1 [==============================] - 6s 6s/step\n",
            "1/1 [==============================] - 5s 5s/step\n",
            "1/1 [==============================] - 6s 6s/step\n",
            "1/1 [==============================] - 6s 6s/step\n",
            "1/1 [==============================] - 4s 4s/step\n",
            "1/1 [==============================] - 4s 4s/step\n",
            "1/1 [==============================] - 5s 5s/step\n",
            "1/1 [==============================] - 4s 4s/step\n"
          ]
        },
        {
          "name": "stderr",
          "output_type": "stream",
          "text": [
            "extracting features from each frames: 972it [09:18,  1.86it/s]"
          ]
        },
        {
          "name": "stdout",
          "output_type": "stream",
          "text": [
            "1/1 [==============================] - 5s 5s/step\n",
            "1/1 [==============================] - 5s 5s/step\n",
            "1/1 [==============================] - 5s 5s/step\n",
            "1/1 [==============================] - 5s 5s/step\n"
          ]
        },
        {
          "name": "stderr",
          "output_type": "stream",
          "text": [
            "extracting features from each frames: 981it [09:19,  3.47it/s]"
          ]
        },
        {
          "name": "stdout",
          "output_type": "stream",
          "text": [
            "1/1 [==============================] - 5s 5s/step\n"
          ]
        },
        {
          "name": "stderr",
          "output_type": "stream",
          "text": [
            "extracting features from each frames: 982it [09:21,  1.98it/s]"
          ]
        },
        {
          "name": "stdout",
          "output_type": "stream",
          "text": [
            "1/1 [==============================] - 6s 6s/step\n"
          ]
        },
        {
          "name": "stderr",
          "output_type": "stream",
          "text": [
            "extracting features from each frames: 983it [09:22,  1.84it/s]"
          ]
        },
        {
          "name": "stdout",
          "output_type": "stream",
          "text": [
            "1/1 [==============================] - 6s 6s/step\n",
            "1/1 [==============================] - 6s 6s/step\n",
            "1/1 [==============================] - 6s 6s/step\n",
            "1/1 [==============================] - 6s 6s/step\n"
          ]
        },
        {
          "name": "stderr",
          "output_type": "stream",
          "text": [
            "extracting features from each frames: 984it [09:22,  1.71it/s]"
          ]
        },
        {
          "name": "stdout",
          "output_type": "stream",
          "text": [
            "1/1 [==============================] - 5s 5s/step\n",
            "1/1 [==============================] - 6s 6s/step\n",
            "1/1 [==============================] - 6s 6s/step\n",
            "1/1 [==============================] - 6s 6s/step\n",
            "1/1 [==============================] - 6s 6s/step\n",
            "1/1 [==============================] - 4s 4s/step\n",
            "1/1 [==============================] - 5s 5s/step\n"
          ]
        },
        {
          "name": "stderr",
          "output_type": "stream",
          "text": [
            "extracting features from each frames: 985it [09:26,  1.20s/it]"
          ]
        },
        {
          "name": "stdout",
          "output_type": "stream",
          "text": [
            "1/1 [==============================] - 4s 4s/step\n",
            "1/1 [==============================] - 4s 4s/step\n",
            "1/1 [==============================] - 4s 4s/step\n"
          ]
        },
        {
          "name": "stderr",
          "output_type": "stream",
          "text": [
            "extracting features from each frames: 988it [09:28,  1.11it/s]"
          ]
        },
        {
          "name": "stdout",
          "output_type": "stream",
          "text": [
            "1/1 [==============================] - 4s 4s/step\n",
            "1/1 [==============================] - 4s 4s/step\n"
          ]
        },
        {
          "name": "stderr",
          "output_type": "stream",
          "text": [
            "extracting features from each frames: 999it [09:30,  3.57it/s]"
          ]
        },
        {
          "name": "stdout",
          "output_type": "stream",
          "text": [
            "1/1 [==============================] - 6s 6s/step\n"
          ]
        },
        {
          "name": "stderr",
          "output_type": "stream",
          "text": [
            "extracting features from each frames: 1000it [09:32,  1.99it/s]"
          ]
        },
        {
          "name": "stdout",
          "output_type": "stream",
          "text": [
            "1/1 [==============================] - 5s 5s/step\n",
            "1/1 [==============================] - 6s 6s/step\n"
          ]
        },
        {
          "name": "stderr",
          "output_type": "stream",
          "text": [
            "extracting features from each frames: 1001it [09:32,  2.14it/s]"
          ]
        },
        {
          "name": "stdout",
          "output_type": "stream",
          "text": [
            "1/1 [==============================] - 6s 6s/step\n",
            "1/1 [==============================] - 6s 6s/step\n",
            "1/1 [==============================] - 6s 6s/step\n",
            "1/1 [==============================] - 6s 6s/step\n",
            "1/1 [==============================] - 6s 6s/step\n",
            "1/1 [==============================] - 5s 5s/step\n",
            "1/1 [==============================] - 6s 6s/step\n",
            "1/1 [==============================] - 5s 5s/step\n",
            "1/1 [==============================] - 4s 4s/step\n",
            "1/1 [==============================] - 4s 4s/step\n",
            "1/1 [==============================] - 4s 4s/step\n",
            "1/1 [==============================] - 4s 4s/step\n",
            "1/1 [==============================] - 2s 2s/step\n"
          ]
        },
        {
          "name": "stderr",
          "output_type": "stream",
          "text": [
            "extracting features from each frames: 1004it [09:37,  1.22it/s]"
          ]
        },
        {
          "name": "stdout",
          "output_type": "stream",
          "text": [
            "1/1 [==============================] - 3s 3s/step\n"
          ]
        },
        {
          "name": "stderr",
          "output_type": "stream",
          "text": [
            "extracting features from each frames: 1008it [09:39,  1.62it/s]"
          ]
        },
        {
          "name": "stdout",
          "output_type": "stream",
          "text": [
            "1/1 [==============================] - 5s 5s/step\n"
          ]
        },
        {
          "name": "stderr",
          "output_type": "stream",
          "text": [
            "extracting features from each frames: 1017it [09:42,  2.71it/s]"
          ]
        },
        {
          "name": "stdout",
          "output_type": "stream",
          "text": [
            "1/1 [==============================] - 5s 5s/step\n"
          ]
        },
        {
          "name": "stderr",
          "output_type": "stream",
          "text": [
            "extracting features from each frames: 1018it [09:42,  2.57it/s]"
          ]
        },
        {
          "name": "stdout",
          "output_type": "stream",
          "text": [
            "1/1 [==============================] - 6s 6s/step\n",
            "1/1 [==============================] - 6s 6s/step\n"
          ]
        },
        {
          "name": "stderr",
          "output_type": "stream",
          "text": [
            "extracting features from each frames: 1019it [09:43,  2.28it/s]"
          ]
        },
        {
          "name": "stdout",
          "output_type": "stream",
          "text": [
            "1/1 [==============================] - 6s 6s/step\n",
            "1/1 [==============================] - 7s 7s/step\n",
            "1/1 [==============================] - 6s 6s/step\n",
            "1/1 [==============================] - 7s 7s/step\n",
            "1/1 [==============================] - 6s 6s/step\n",
            "1/1 [==============================] - 6s 6s/step\n",
            "1/1 [==============================] - 6s 6s/step\n",
            "1/1 [==============================] - 5s 5s/step\n"
          ]
        },
        {
          "name": "stderr",
          "output_type": "stream",
          "text": [
            "extracting features from each frames: 1021it [09:48,  1.08it/s]"
          ]
        },
        {
          "name": "stdout",
          "output_type": "stream",
          "text": [
            "1/1 [==============================] - 5s 5s/step\n",
            "1/1 [==============================] - 5s 5s/step\n",
            "1/1 [==============================] - 5s 5s/step\n",
            "1/1 [==============================] - 5s 5s/step\n",
            "1/1 [==============================] - 6s 6s/step\n"
          ]
        },
        {
          "name": "stderr",
          "output_type": "stream",
          "text": [
            "extracting features from each frames: 1025it [09:49,  1.47it/s]"
          ]
        },
        {
          "name": "stdout",
          "output_type": "stream",
          "text": [
            "1/1 [==============================] - 5s 5s/step\n",
            "1/1 [==============================] - 5s 5s/step\n",
            "1/1 [==============================] - 5s 5s/step\n",
            "1/1 [==============================] - 4s 4s/step\n",
            "1/1 [==============================] - 5s 5s/step\n"
          ]
        },
        {
          "name": "stderr",
          "output_type": "stream",
          "text": [
            "extracting features from each frames: 1030it [09:53,  1.31it/s]"
          ]
        },
        {
          "name": "stdout",
          "output_type": "stream",
          "text": [
            "1/1 [==============================] - 5s 5s/step\n",
            "1/1 [==============================] - 6s 6s/step\n"
          ]
        },
        {
          "name": "stderr",
          "output_type": "stream",
          "text": [
            "extracting features from each frames: 1039it [09:55,  2.64it/s]"
          ]
        },
        {
          "name": "stdout",
          "output_type": "stream",
          "text": [
            "1/1 [==============================] - 6s 6s/step\n"
          ]
        },
        {
          "name": "stderr",
          "output_type": "stream",
          "text": [
            "extracting features from each frames: 1040it [09:55,  2.75it/s]"
          ]
        },
        {
          "name": "stdout",
          "output_type": "stream",
          "text": [
            "1/1 [==============================] - 5s 5s/step\n",
            "1/1 [==============================] - 6s 6s/step\n",
            "1/1 [==============================] - 6s 6s/step\n",
            "1/1 [==============================] - 6s 6s/step\n",
            "1/1 [==============================] - 5s 5s/step\n",
            "1/1 [==============================] - 6s 6s/step\n",
            "1/1 [==============================] - 6s 6s/step\n",
            "1/1 [==============================] - 5s 5s/step\n"
          ]
        },
        {
          "name": "stderr",
          "output_type": "stream",
          "text": [
            "extracting features from each frames: 1043it [10:00,  1.40it/s]"
          ]
        },
        {
          "name": "stdout",
          "output_type": "stream",
          "text": [
            "1/1 [==============================] - 5s 5s/step\n",
            "1/1 [==============================] - 6s 6s/step\n",
            "1/1 [==============================] - 5s 5s/step\n",
            "1/1 [==============================] - 5s 5s/step\n",
            "1/1 [==============================] - 5s 5s/step\n",
            "1/1 [==============================] - 4s 4s/step\n",
            "1/1 [==============================] - 4s 4s/step\n",
            "1/1 [==============================] - 5s 5s/step\n"
          ]
        },
        {
          "name": "stderr",
          "output_type": "stream",
          "text": [
            "extracting features from each frames: 1049it [10:04,  1.40it/s]"
          ]
        },
        {
          "name": "stdout",
          "output_type": "stream",
          "text": [
            "1/1 [==============================] - 5s 5s/step\n"
          ]
        },
        {
          "name": "stderr",
          "output_type": "stream",
          "text": [
            "extracting features from each frames: 1058it [10:06,  2.47it/s]"
          ]
        },
        {
          "name": "stdout",
          "output_type": "stream",
          "text": [
            "1/1 [==============================] - 6s 6s/step\n"
          ]
        },
        {
          "name": "stderr",
          "output_type": "stream",
          "text": [
            "extracting features from each frames: 1059it [10:06,  2.23it/s]"
          ]
        },
        {
          "name": "stdout",
          "output_type": "stream",
          "text": [
            "1/1 [==============================] - 6s 6s/step\n",
            "1/1 [==============================] - 6s 6s/step\n",
            "1/1 [==============================] - 6s 6s/step\n"
          ]
        },
        {
          "name": "stderr",
          "output_type": "stream",
          "text": [
            "extracting features from each frames: 1060it [10:07,  2.24it/s]"
          ]
        },
        {
          "name": "stdout",
          "output_type": "stream",
          "text": [
            "1/1 [==============================] - 6s 6s/step\n",
            "1/1 [==============================] - 6s 6s/step\n"
          ]
        },
        {
          "name": "stderr",
          "output_type": "stream",
          "text": [
            "extracting features from each frames: 1061it [10:07,  2.38it/s]"
          ]
        },
        {
          "name": "stdout",
          "output_type": "stream",
          "text": [
            "1/1 [==============================] - 5s 5s/step\n"
          ]
        },
        {
          "name": "stderr",
          "output_type": "stream",
          "text": [
            "extracting features from each frames: 1065it [10:07,  3.64it/s]"
          ]
        },
        {
          "name": "stdout",
          "output_type": "stream",
          "text": [
            "1/1 [==============================] - 5s 5s/step\n",
            "1/1 [==============================] - 6s 6s/step\n",
            "1/1 [==============================] - 6s 6s/step\n",
            "1/1 [==============================] - 6s 6s/step\n",
            "1/1 [==============================] - 5s 5s/step\n",
            "1/1 [==============================] - 5s 5s/step\n",
            "1/1 [==============================] - 6s 6s/step\n",
            "1/1 [==============================] - 6s 6s/step\n",
            "1/1 [==============================] - 6s 6s/step\n",
            "1/1 [==============================] - 5s 5s/step\n",
            "1/1 [==============================] - 5s 5s/step\n",
            "1/1 [==============================] - 4s 4s/step\n",
            "1/1 [==============================] - 2s 2s/step\n"
          ]
        },
        {
          "name": "stderr",
          "output_type": "stream",
          "text": [
            "extracting features from each frames: 1067it [10:14,  1.05it/s]"
          ]
        },
        {
          "name": "stdout",
          "output_type": "stream",
          "text": [
            "1/1 [==============================] - 5s 5s/step\n"
          ]
        },
        {
          "name": "stderr",
          "output_type": "stream",
          "text": [
            "extracting features from each frames: 1079it [10:19,  1.90it/s]"
          ]
        },
        {
          "name": "stdout",
          "output_type": "stream",
          "text": [
            "1/1 [==============================] - 6s 6s/step\n"
          ]
        },
        {
          "name": "stderr",
          "output_type": "stream",
          "text": [
            "extracting features from each frames: 1080it [10:19,  1.80it/s]"
          ]
        },
        {
          "name": "stdout",
          "output_type": "stream",
          "text": [
            "1/1 [==============================] - 6s 6s/step\n",
            "1/1 [==============================] - 6s 6s/step\n",
            "1/1 [==============================] - 6s 6s/step\n",
            "1/1 [==============================] - 6s 6s/step\n",
            "1/1 [==============================] - 6s 6s/step\n",
            "1/1 [==============================] - 6s 6s/step\n",
            "1/1 [==============================] - 6s 6s/step\n",
            "1/1 [==============================] - 6s 6s/step\n",
            "1/1 [==============================] - 6s 6s/step\n",
            "1/1 [==============================] - 4s 4s/step\n"
          ]
        },
        {
          "name": "stderr",
          "output_type": "stream",
          "text": [
            "extracting features from each frames: 1082it [10:24,  1.15it/s]"
          ]
        },
        {
          "name": "stdout",
          "output_type": "stream",
          "text": [
            "1/1 [==============================] - 5s 5s/step\n",
            "1/1 [==============================] - 5s 5s/step\n"
          ]
        },
        {
          "name": "stderr",
          "output_type": "stream",
          "text": [
            "extracting features from each frames: 1091it [10:25,  2.11it/s]"
          ]
        },
        {
          "name": "stdout",
          "output_type": "stream",
          "text": [
            "1/1 [==============================] - 6s 6s/step\n"
          ]
        },
        {
          "name": "stderr",
          "output_type": "stream",
          "text": [
            "extracting features from each frames: 1093it [10:26,  2.10it/s]"
          ]
        },
        {
          "name": "stdout",
          "output_type": "stream",
          "text": [
            "1/1 [==============================] - 6s 6s/step\n",
            "1/1 [==============================] - 6s 6s/step\n",
            "1/1 [==============================] - 6s 6s/step\n",
            "1/1 [==============================] - 6s 6s/step\n",
            "1/1 [==============================] - 7s 7s/step\n"
          ]
        },
        {
          "name": "stderr",
          "output_type": "stream",
          "text": [
            "extracting features from each frames: 1094it [10:27,  1.85it/s]"
          ]
        },
        {
          "name": "stdout",
          "output_type": "stream",
          "text": [
            "1/1 [==============================] - 7s 7s/step\n",
            "1/1 [==============================] - 6s 6s/step\n",
            "1/1 [==============================] - 5s 5s/step\n",
            "1/1 [==============================] - 5s 5s/step\n",
            "1/1 [==============================] - 5s 5s/step\n"
          ]
        },
        {
          "name": "stderr",
          "output_type": "stream",
          "text": [
            "extracting features from each frames: 1098it [10:31,  1.47it/s]"
          ]
        },
        {
          "name": "stdout",
          "output_type": "stream",
          "text": [
            "1/1 [==============================] - 5s 5s/step\n",
            "1/1 [==============================] - 5s 5s/step\n",
            "1/1 [==============================] - 5s 5s/step\n",
            "1/1 [==============================] - 6s 6s/step\n",
            "1/1 [==============================] - 6s 6s/step\n"
          ]
        },
        {
          "name": "stderr",
          "output_type": "stream",
          "text": [
            "extracting features from each frames: 1100it [10:33,  1.32it/s]"
          ]
        },
        {
          "name": "stdout",
          "output_type": "stream",
          "text": [
            "1/1 [==============================] - 6s 6s/step\n",
            "1/1 [==============================] - 5s 5s/step\n",
            "1/1 [==============================] - 5s 5s/step\n",
            "1/1 [==============================] - 6s 6s/step\n",
            "1/1 [==============================] - 5s 5s/step\n",
            "1/1 [==============================] - 6s 6s/step\n",
            "1/1 [==============================] - 5s 5s/step\n",
            "1/1 [==============================] - 5s 5s/step\n",
            "1/1 [==============================] - 6s 6s/step\n",
            "1/1 [==============================] - 5s 5s/step\n",
            "1/1 [==============================] - 6s 6s/step\n",
            "1/1 [==============================] - 5s 5s/step\n"
          ]
        },
        {
          "name": "stderr",
          "output_type": "stream",
          "text": [
            "extracting features from each frames: 1110it [10:40,  1.42it/s]"
          ]
        },
        {
          "name": "stdout",
          "output_type": "stream",
          "text": [
            "1/1 [==============================] - 3s 3s/step\n",
            "1/1 [==============================] - 3s 3s/step\n",
            "1/1 [==============================] - 4s 4s/step\n"
          ]
        },
        {
          "name": "stderr",
          "output_type": "stream",
          "text": [
            "extracting features from each frames: 1115it [10:43,  1.54it/s]"
          ]
        },
        {
          "name": "stdout",
          "output_type": "stream",
          "text": [
            "1/1 [==============================] - 5s 5s/step\n"
          ]
        },
        {
          "name": "stderr",
          "output_type": "stream",
          "text": [
            "extracting features from each frames: 1118it [10:43,  1.87it/s]"
          ]
        },
        {
          "name": "stdout",
          "output_type": "stream",
          "text": [
            "1/1 [==============================] - 5s 5s/step\n",
            "1/1 [==============================] - 5s 5s/step\n",
            "1/1 [==============================] - 5s 5s/step\n",
            "1/1 [==============================] - 5s 5s/step\n"
          ]
        },
        {
          "name": "stderr",
          "output_type": "stream",
          "text": [
            "extracting features from each frames: 1125it [10:45,  2.45it/s]"
          ]
        },
        {
          "name": "stdout",
          "output_type": "stream",
          "text": [
            "1/1 [==============================] - 5s 5s/step\n",
            "1/1 [==============================] - 6s 6s/step\n",
            "1/1 [==============================] - 6s 6s/step\n",
            "1/1 [==============================] - 6s 6s/step\n",
            "1/1 [==============================] - 6s 6s/step\n",
            "1/1 [==============================] - 6s 6s/step\n",
            "1/1 [==============================] - 6s 6s/step\n",
            "1/1 [==============================] - 5s 5s/step\n",
            "1/1 [==============================] - 6s 6s/step\n",
            "1/1 [==============================] - 6s 6s/step\n"
          ]
        },
        {
          "name": "stderr",
          "output_type": "stream",
          "text": [
            "extracting features from each frames: 1130it [10:51,  1.52it/s]"
          ]
        },
        {
          "name": "stdout",
          "output_type": "stream",
          "text": [
            "1/1 [==============================] - 6s 6s/step\n"
          ]
        },
        {
          "name": "stderr",
          "output_type": "stream",
          "text": [
            "extracting features from each frames: 1138it [10:51,  2.58it/s]"
          ]
        },
        {
          "name": "stdout",
          "output_type": "stream",
          "text": [
            "1/1 [==============================] - 6s 6s/step\n",
            "1/1 [==============================] - 5s 5s/step\n"
          ]
        },
        {
          "name": "stderr",
          "output_type": "stream",
          "text": [
            "extracting features from each frames: 1141it [10:53,  2.51it/s]"
          ]
        },
        {
          "name": "stdout",
          "output_type": "stream",
          "text": [
            "1/1 [==============================] - 5s 5s/step\n",
            "1/1 [==============================] - 5s 5s/step\n"
          ]
        },
        {
          "name": "stderr",
          "output_type": "stream",
          "text": [
            "extracting features from each frames: 1143it [10:55,  1.85it/s]"
          ]
        },
        {
          "name": "stdout",
          "output_type": "stream",
          "text": [
            "1/1 [==============================] - 6s 6s/step\n",
            "1/1 [==============================] - 7s 7s/step\n",
            "1/1 [==============================] - 6s 6s/step\n",
            "1/1 [==============================] - 6s 6s/step\n",
            "1/1 [==============================] - 6s 6s/step\n",
            "1/1 [==============================] - 6s 6s/step\n",
            "1/1 [==============================] - 6s 6s/step\n",
            "1/1 [==============================] - 6s 6s/step\n",
            "1/1 [==============================] - 5s 5s/step\n",
            "1/1 [==============================] - 4s 4s/step\n",
            "1/1 [==============================] - 3s 3s/step\n"
          ]
        },
        {
          "name": "stderr",
          "output_type": "stream",
          "text": [
            "extracting features from each frames: 1146it [11:01,  1.14it/s]"
          ]
        },
        {
          "name": "stdout",
          "output_type": "stream",
          "text": [
            "1/1 [==============================] - 4s 4s/step\n"
          ]
        },
        {
          "name": "stderr",
          "output_type": "stream",
          "text": [
            "extracting features from each frames: 1155it [11:02,  2.36it/s]"
          ]
        },
        {
          "name": "stdout",
          "output_type": "stream",
          "text": [
            "1/1 [==============================] - 6s 6s/step\n",
            "1/1 [==============================] - 6s 6s/step\n"
          ]
        },
        {
          "name": "stderr",
          "output_type": "stream",
          "text": [
            "extracting features from each frames: 1156it [11:04,  1.86it/s]"
          ]
        },
        {
          "name": "stdout",
          "output_type": "stream",
          "text": [
            "1/1 [==============================] - 6s 6s/step\n",
            "1/1 [==============================] - ETA: 0s"
          ]
        },
        {
          "name": "stderr",
          "output_type": "stream",
          "text": [
            "extracting features from each frames: 1157it [11:04,  2.00it/s]"
          ]
        },
        {
          "name": "stdout",
          "output_type": "stream",
          "text": [
            "1/1 [==============================] - 6s 6s/step\n",
            "1/1 [==============================] - 6s 6s/step\n",
            "1/1 [==============================] - 5s 5s/step\n",
            "1/1 [==============================] - 6s 6s/step\n"
          ]
        },
        {
          "name": "stderr",
          "output_type": "stream",
          "text": [
            "extracting features from each frames: 1159it [11:04,  2.39it/s]"
          ]
        },
        {
          "name": "stdout",
          "output_type": "stream",
          "text": [
            "1/1 [==============================] - 5s 5s/step\n",
            "1/1 [==============================] - 5s 5s/step\n",
            "1/1 [==============================] - 5s 5s/step\n",
            "1/1 [==============================] - 5s 5s/step\n",
            "1/1 [==============================] - 6s 6s/step\n",
            "1/1 [==============================] - 5s 5s/step\n",
            "1/1 [==============================] - 6s 6s/step\n",
            "1/1 [==============================] - 6s 6s/step\n",
            "1/1 [==============================] - 6s 6s/step\n",
            "1/1 [==============================] - 6s 6s/step\n",
            "1/1 [==============================] - 6s 6s/step\n"
          ]
        },
        {
          "name": "stderr",
          "output_type": "stream",
          "text": [
            "extracting features from each frames: 1163it [11:11,  1.10it/s]"
          ]
        },
        {
          "name": "stdout",
          "output_type": "stream",
          "text": [
            "1/1 [==============================] - 5s 5s/step\n",
            "1/1 [==============================] - 5s 5s/step\n",
            "1/1 [==============================] - 3s 3s/step\n",
            "1/1 [==============================] - 3s 3s/step\n"
          ]
        },
        {
          "name": "stderr",
          "output_type": "stream",
          "text": [
            "extracting features from each frames: 1167it [11:15,  1.08it/s]"
          ]
        },
        {
          "name": "stdout",
          "output_type": "stream",
          "text": [
            "1/1 [==============================] - 4s 4s/step\n"
          ]
        },
        {
          "name": "stderr",
          "output_type": "stream",
          "text": [
            "extracting features from each frames: 1172it [11:15,  1.84it/s]"
          ]
        },
        {
          "name": "stdout",
          "output_type": "stream",
          "text": [
            "1/1 [==============================] - 4s 4s/step\n",
            "1/1 [==============================] - 4s 4s/step\n",
            "1/1 [==============================] - 4s 4s/step\n",
            "1/1 [==============================] - 4s 4s/step\n",
            "1/1 [==============================] - 4s 4s/step\n"
          ]
        },
        {
          "name": "stderr",
          "output_type": "stream",
          "text": [
            "extracting features from each frames: 1177it [11:16,  2.46it/s]"
          ]
        },
        {
          "name": "stdout",
          "output_type": "stream",
          "text": [
            "1/1 [==============================] - 6s 6s/step\n",
            "1/1 [==============================] - 6s 6s/step\n",
            "1/1 [==============================] - 6s 6s/step\n",
            "1/1 [==============================] - 7s 7s/step\n"
          ]
        },
        {
          "name": "stderr",
          "output_type": "stream",
          "text": [
            "extracting features from each frames: 1184it [11:22,  1.74it/s]"
          ]
        },
        {
          "name": "stdout",
          "output_type": "stream",
          "text": [
            "1/1 [==============================] - 6s 6s/step\n",
            "1/1 [==============================] - 6s 6s/step\n",
            "1/1 [==============================] - 6s 6s/step\n",
            "1/1 [==============================] - 6s 6s/step\n",
            "1/1 [==============================] - 6s 6s/step\n",
            "1/1 [==============================] - 6s 6s/step\n",
            "1/1 [==============================] - 6s 6s/step\n",
            "1/1 [==============================] - 4s 4s/step\n"
          ]
        },
        {
          "name": "stderr",
          "output_type": "stream",
          "text": [
            "extracting features from each frames: 1188it [11:26,  1.49it/s]"
          ]
        },
        {
          "name": "stdout",
          "output_type": "stream",
          "text": [
            "1/1 [==============================] - 5s 5s/step\n"
          ]
        },
        {
          "name": "stderr",
          "output_type": "stream",
          "text": [
            "extracting features from each frames: 1196it [11:27,  2.39it/s]"
          ]
        },
        {
          "name": "stdout",
          "output_type": "stream",
          "text": [
            "1/1 [==============================] - 5s 5s/step\n",
            "1/1 [==============================] - 6s 6s/step\n"
          ]
        },
        {
          "name": "stderr",
          "output_type": "stream",
          "text": [
            "extracting features from each frames: 1197it [11:28,  2.33it/s]"
          ]
        },
        {
          "name": "stdout",
          "output_type": "stream",
          "text": [
            "1/1 [==============================] - 6s 6s/step\n",
            "1/1 [==============================] - 6s 6s/step\n",
            "1/1 [==============================] - 6s 6s/step\n",
            "1/1 [==============================] - 6s 6s/step\n",
            "1/1 [==============================] - 6s 6s/step\n",
            "1/1 [==============================] - 6s 6s/step\n",
            "1/1 [==============================] - 5s 5s/step\n",
            "1/1 [==============================] - 5s 5s/step\n"
          ]
        },
        {
          "name": "stderr",
          "output_type": "stream",
          "text": [
            "extracting features from each frames: 1198it [11:33,  1.13it/s]"
          ]
        },
        {
          "name": "stdout",
          "output_type": "stream",
          "text": [
            "1/1 [==============================] - 6s 6s/step\n"
          ]
        },
        {
          "name": "stderr",
          "output_type": "stream",
          "text": [
            "extracting features from each frames: 1207it [11:33,  2.38it/s]"
          ]
        },
        {
          "name": "stdout",
          "output_type": "stream",
          "text": [
            "1/1 [==============================] - 5s 5s/step\n",
            "1/1 [==============================] - 6s 6s/step\n",
            "1/1 [==============================] - 6s 6s/step\n",
            "1/1 [==============================] - 6s 6s/step\n",
            "1/1 [==============================] - 6s 6s/step\n",
            "1/1 [==============================] - 6s 6s/step\n",
            "1/1 [==============================] - 5s 5s/step\n",
            "1/1 [==============================] - 5s 5s/step\n",
            "1/1 [==============================] - 5s 5s/step\n",
            "1/1 [==============================] - 4s 4s/step\n",
            "1/1 [==============================] - 4s 4s/step\n"
          ]
        },
        {
          "name": "stderr",
          "output_type": "stream",
          "text": [
            "extracting features from each frames: 1208it [11:38,  1.23it/s]"
          ]
        },
        {
          "name": "stdout",
          "output_type": "stream",
          "text": [
            "1/1 [==============================] - 4s 4s/step\n",
            "1/1 [==============================] - 4s 4s/step\n"
          ]
        },
        {
          "name": "stderr",
          "output_type": "stream",
          "text": [
            "extracting features from each frames: 1211it [11:40,  1.40it/s]"
          ]
        },
        {
          "name": "stdout",
          "output_type": "stream",
          "text": [
            "1/1 [==============================] - 5s 5s/step\n"
          ]
        },
        {
          "name": "stderr",
          "output_type": "stream",
          "text": [
            "extracting features from each frames: 1221it [11:42,  2.38it/s]"
          ]
        },
        {
          "name": "stdout",
          "output_type": "stream",
          "text": [
            "1/1 [==============================] - 5s 5s/step\n",
            "1/1 [==============================] - 5s 5s/step\n"
          ]
        },
        {
          "name": "stderr",
          "output_type": "stream",
          "text": [
            "extracting features from each frames: 1222it [11:42,  2.23it/s]"
          ]
        },
        {
          "name": "stdout",
          "output_type": "stream",
          "text": [
            "1/1 [==============================] - 5s 5s/step\n"
          ]
        },
        {
          "name": "stderr",
          "output_type": "stream",
          "text": [
            "extracting features from each frames: 1223it [11:43,  2.31it/s]"
          ]
        },
        {
          "name": "stdout",
          "output_type": "stream",
          "text": [
            "1/1 [==============================] - 6s 6s/step\n"
          ]
        },
        {
          "name": "stderr",
          "output_type": "stream",
          "text": [
            "extracting features from each frames: 1225it [11:43,  2.55it/s]"
          ]
        },
        {
          "name": "stdout",
          "output_type": "stream",
          "text": [
            "1/1 [==============================] - 6s 6s/step\n",
            "1/1 [==============================] - 6s 6s/step\n",
            "1/1 [==============================] - 6s 6s/step\n",
            "1/1 [==============================] - 6s 6s/step\n",
            "1/1 [==============================] - 6s 6s/step\n",
            "1/1 [==============================] - 6s 6s/step\n",
            "1/1 [==============================] - 5s 5s/step\n",
            "1/1 [==============================] - 5s 5s/step\n",
            "1/1 [==============================] - 5s 5s/step\n",
            "1/1 [==============================] - 5s 5s/step\n",
            "1/1 [==============================] - 5s 5s/step\n"
          ]
        },
        {
          "name": "stderr",
          "output_type": "stream",
          "text": [
            "extracting features from each frames: 1226it [11:49,  1.10s/it]"
          ]
        },
        {
          "name": "stdout",
          "output_type": "stream",
          "text": [
            "1/1 [==============================] - 4s 4s/step\n",
            "1/1 [==============================] - 3s 3s/step\n"
          ]
        },
        {
          "name": "stderr",
          "output_type": "stream",
          "text": [
            "extracting features from each frames: 1228it [11:50,  1.08it/s]"
          ]
        },
        {
          "name": "stdout",
          "output_type": "stream",
          "text": [
            "1/1 [==============================] - 4s 4s/step\n"
          ]
        },
        {
          "name": "stderr",
          "output_type": "stream",
          "text": [
            "extracting features from each frames: 1233it [11:53,  1.29it/s]"
          ]
        },
        {
          "name": "stdout",
          "output_type": "stream",
          "text": [
            "1/1 [==============================] - 5s 5s/step\n",
            "1/1 [==============================] - 4s 4s/step\n",
            "1/1 [==============================] - 5s 5s/step\n"
          ]
        },
        {
          "name": "stderr",
          "output_type": "stream",
          "text": [
            "extracting features from each frames: 1241it [11:53,  3.39it/s]"
          ]
        },
        {
          "name": "stdout",
          "output_type": "stream",
          "text": [
            "1/1 [==============================] - 5s 5s/step\n"
          ]
        },
        {
          "name": "stderr",
          "output_type": "stream",
          "text": [
            "extracting features from each frames: 1242it [11:54,  3.06it/s]"
          ]
        },
        {
          "name": "stdout",
          "output_type": "stream",
          "text": [
            "1/1 [==============================] - 5s 5s/step\n",
            "1/1 [==============================] - 6s 6s/step\n"
          ]
        },
        {
          "name": "stderr",
          "output_type": "stream",
          "text": [
            "extracting features from each frames: 1244it [11:56,  2.20it/s]"
          ]
        },
        {
          "name": "stdout",
          "output_type": "stream",
          "text": [
            "1/1 [==============================] - 5s 5s/step\n",
            "1/1 [==============================] - 5s 5s/step\n"
          ]
        },
        {
          "name": "stderr",
          "output_type": "stream",
          "text": [
            "extracting features from each frames: 1247it [11:56,  2.72it/s]"
          ]
        },
        {
          "name": "stdout",
          "output_type": "stream",
          "text": [
            "1/1 [==============================] - 5s 5s/step\n",
            "1/1 [==============================] - 6s 6s/step\n",
            "1/1 [==============================] - 6s 6s/step\n",
            "1/1 [==============================] - 6s 6s/step\n",
            "1/1 [==============================] - 6s 6s/step\n",
            "1/1 [==============================] - 7s 7s/step\n",
            "1/1 [==============================] - 6s 6s/step\n",
            "1/1 [==============================] - 5s 5s/step\n",
            "1/1 [==============================] - 5s 5s/step\n",
            "1/1 [==============================] - 5s 5s/step\n"
          ]
        },
        {
          "name": "stderr",
          "output_type": "stream",
          "text": [
            "extracting features from each frames: 1248it [12:02,  1.06s/it]"
          ]
        },
        {
          "name": "stdout",
          "output_type": "stream",
          "text": [
            "1/1 [==============================] - 5s 5s/step\n"
          ]
        },
        {
          "name": "stderr",
          "output_type": "stream",
          "text": [
            "extracting features from each frames: 1249it [12:03,  1.12s/it]"
          ]
        },
        {
          "name": "stdout",
          "output_type": "stream",
          "text": [
            "1/1 [==============================] - 5s 5s/step\n",
            "1/1 [==============================] - 5s 5s/step\n",
            "1/1 [==============================] - 6s 6s/step\n",
            "1/1 [==============================] - 5s 5s/step\n",
            "1/1 [==============================] - 6s 6s/step\n",
            "1/1 [==============================] - 5s 5s/step\n",
            "1/1 [==============================] - 5s 5s/step\n",
            "1/1 [==============================] - 5s 5s/step\n",
            "1/1 [==============================] - 5s 5s/step\n"
          ]
        },
        {
          "name": "stderr",
          "output_type": "stream",
          "text": [
            "extracting features from each frames: 1258it [12:07,  1.54it/s]"
          ]
        },
        {
          "name": "stdout",
          "output_type": "stream",
          "text": [
            "1/1 [==============================] - 5s 5s/step\n",
            "1/1 [==============================] - 5s 5s/step\n",
            "1/1 [==============================] - 5s 5s/step\n",
            "1/1 [==============================] - 5s 5s/step\n",
            "1/1 [==============================] - 5s 5s/step\n"
          ]
        },
        {
          "name": "stderr",
          "output_type": "stream",
          "text": [
            "extracting features from each frames: 1263it [12:11,  1.42it/s]"
          ]
        },
        {
          "name": "stdout",
          "output_type": "stream",
          "text": [
            "1/1 [==============================] - 5s 5s/step\n",
            "1/1 [==============================] - 4s 4s/step\n"
          ]
        },
        {
          "name": "stderr",
          "output_type": "stream",
          "text": [
            "extracting features from each frames: 1265it [12:12,  1.55it/s]"
          ]
        },
        {
          "name": "stdout",
          "output_type": "stream",
          "text": [
            "1/1 [==============================] - 4s 4s/step\n"
          ]
        },
        {
          "name": "stderr",
          "output_type": "stream",
          "text": [
            "extracting features from each frames: 1266it [12:12,  1.66it/s]"
          ]
        },
        {
          "name": "stdout",
          "output_type": "stream",
          "text": [
            "1/1 [==============================] - 4s 4s/step\n",
            "1/1 [==============================] - 5s 5s/step\n"
          ]
        },
        {
          "name": "stderr",
          "output_type": "stream",
          "text": [
            "extracting features from each frames: 1277it [12:14,  2.80it/s]"
          ]
        },
        {
          "name": "stdout",
          "output_type": "stream",
          "text": [
            "1/1 [==============================] - 4s 4s/step\n"
          ]
        },
        {
          "name": "stderr",
          "output_type": "stream",
          "text": [
            "extracting features from each frames: 1278it [12:14,  2.84it/s]"
          ]
        },
        {
          "name": "stdout",
          "output_type": "stream",
          "text": [
            "1/1 [==============================] - 6s 6s/step\n",
            "1/1 [==============================] - 6s 6s/step\n",
            "1/1 [==============================] - 6s 6s/step\n",
            "1/1 [==============================] - 7s 7s/step\n"
          ]
        },
        {
          "name": "stderr",
          "output_type": "stream",
          "text": [
            "extracting features from each frames: 1279it [12:18,  1.33it/s]"
          ]
        },
        {
          "name": "stdout",
          "output_type": "stream",
          "text": [
            "1/1 [==============================] - 6s 6s/step\n",
            "1/1 [==============================] - 7s 7s/step\n",
            "1/1 [==============================] - 6s 6s/step\n",
            "1/1 [==============================] - 6s 6s/step\n",
            "1/1 [==============================] - 6s 6s/step\n",
            "1/1 [==============================] - 5s 5s/step\n",
            "1/1 [==============================] - 5s 5s/step\n",
            "1/1 [==============================] - 3s 3s/step\n",
            "1/1 [==============================] - 3s 3s/step\n",
            "1/1 [==============================] - 3s 3s/step\n",
            "1/1 [==============================] - 2s 2s/step\n"
          ]
        },
        {
          "name": "stderr",
          "output_type": "stream",
          "text": [
            "extracting features from each frames: 1293it [12:24,  1.74it/s]\n"
          ]
        }
      ],
      "source": [
        "#apply the feature extractor on each frames previously\n",
        "feature_extractor = utility.build_feature_extractor(IMG_SIZE) #create feature extractor object\n",
        "with ThreadPoolExecutor(max_workers=N_CPU_CORES) as executor:\n",
        "  #run the feature extraction in parallel \n",
        "  videos_frames_features = tqdm(executor.map(feature_extractor.predict,videos_frames),desc=\"extracting features from each frames\")\n",
        "  videos_frames_features = np.array(list(videos_frames_features))\n"
      ]
    },
    {
      "cell_type": "code",
      "execution_count": 12,
      "metadata": {
        "colab": {
          "base_uri": "https://localhost:8080/"
        },
        "id": "wIeStCuFALOe",
        "outputId": "8b4aff3e-b17c-4d40-c83e-c3747ba8eaad"
      },
      "outputs": [
        {
          "name": "stdout",
          "output_type": "stream",
          "text": [
            "The dataset we have has the following shape: (1293, 20, 2048)\n"
          ]
        }
      ],
      "source": [
        "print(f\"The dataset we have has the following shape: {videos_frames_features.shape}\")"
      ]
    },
    {
      "cell_type": "markdown",
      "metadata": {},
      "source": [
        "## 2.3 Encode labels using labelencoder\n",
        "Replace activity labels (Pushups, ApplyEyeMakeup,...etc) by integers."
      ]
    },
    {
      "cell_type": "code",
      "execution_count": 11,
      "metadata": {},
      "outputs": [
        {
          "name": "stdout",
          "output_type": "stream",
          "text": [
            "['ApplyEyeMakeup', 'BabyCrawling', 'Biking', 'Billiards', 'BrushingTeeth', 'PizzaTossing', 'PushUps', 'Swing', 'TrampolineJumping', 'Typing']\n"
          ]
        }
      ],
      "source": [
        "label_processor = tf.keras.layers.StringLookup(num_oov_indices=0, vocabulary=np.unique(dataset[\"Label\"]))\n",
        "print(label_processor.get_vocabulary())\n",
        "\n",
        "labels = dataset[\"Label\"].values\n",
        "labels = label_processor(labels[..., None]).numpy()"
      ]
    },
    {
      "cell_type": "markdown",
      "metadata": {
        "id": "atqJMW2EX2wr"
      },
      "source": [
        "## 2.4 Divide the data into train and test"
      ]
    },
    {
      "cell_type": "code",
      "execution_count": 14,
      "metadata": {},
      "outputs": [],
      "source": [
        "#define all the variables to be used\n",
        "N = dataset.shape[0]\n",
        "N_CLASSES = np.unique(dataset[\"Label\"])\n",
        "X_train, X_test, y_train, y_test = train_test_split(\n",
        "    videos_frames_features,labels,\n",
        "    test_size=TEST_SIZE_RATIO,random_state=N)"
      ]
    },
    {
      "cell_type": "code",
      "execution_count": 15,
      "metadata": {
        "colab": {
          "base_uri": "https://localhost:8080/",
          "height": 487
        },
        "id": "Q-wyVol3a77h",
        "outputId": "cc13c377-786d-4829-81a2-85275625d67a"
      },
      "outputs": [
        {
          "data": {
            "image/png": "[encoded data removed]",
            "text/plain": [
              "<Figure size 800x800 with 2 Axes>"
            ]
          },
          "metadata": {},
          "output_type": "display_data"
        }
      ],
      "source": [
        "plt.figure(figsize=(8,8))\n",
        "\n",
        "dataset_train,dataset_test = train_test_split(dataset,test_size=TEST_SIZE_RATIO,random_state=N)\n",
        "#first subplot\n",
        "plt.subplot(121)\n",
        "plt.title(\"# of Videos per class - Training set\")\n",
        "ax1 = sns.countplot(data=dataset_train,y='Label',palette=\"tab10\",\n",
        "                    order=dataset_train['Label'].value_counts(ascending=False).index);\n",
        "plt.xticks(rotation=90)\n",
        "\n",
        "#second subplot\n",
        "plt.subplot(122)\n",
        "plt.title(\"# of Videos per class - Test set\")\n",
        "ax2 = sns.countplot(data=dataset_test,y='Label',palette=\"tab10\",\n",
        "                    order=dataset_test['Label'].value_counts(ascending=False).index)\n",
        "plt.xticks(rotation=90)\n",
        "plt.tight_layout()\n",
        "for i,j in zip(ax1.containers,ax2.containers):\n",
        "    ax1.bar_label(i)\n",
        "    ax2.bar_label(j)\n"
      ]
    },
    {
      "cell_type": "markdown",
      "metadata": {
        "id": "Vm8JXZmdoy0v"
      },
      "source": [
        "# **3.Training sequence models**"
      ]
    },
    {
      "cell_type": "markdown",
      "metadata": {
        "id": "XUtM_8IKaKpU"
      },
      "source": [
        "## 3.1 GRU"
      ]
    },
    {
      "cell_type": "code",
      "execution_count": 16,
      "metadata": {
        "colab": {
          "base_uri": "https://localhost:8080/"
        },
        "id": "I8w7T6-Co1xg",
        "outputId": "c2400ad6-15ed-4177-b156-97112bc6e2b2"
      },
      "outputs": [
        {
          "name": "stdout",
          "output_type": "stream",
          "text": [
            "Model: \"model\"\n",
            "_________________________________________________________________\n",
            " Layer (type)                Output Shape              Param #   \n",
            "=================================================================\n",
            " input_1 (InputLayer)        [(None, 20, 2048)]        0         \n",
            "                                                                 \n",
            " gru (GRU)                   (None, 20, 16)            99168     \n",
            "                                                                 \n",
            " gru_1 (GRU)                 (None, 8)                 624       \n",
            "                                                                 \n",
            " dropout (Dropout)           (None, 8)                 0         \n",
            "                                                                 \n",
            " dense (Dense)               (None, 8)                 72        \n",
            "                                                                 \n",
            " dense_1 (Dense)             (None, 10)                90        \n",
            "                                                                 \n",
            "=================================================================\n",
            "Total params: 99954 (390.45 KB)\n",
            "Trainable params: 99954 (390.45 KB)\n",
            "Non-trainable params: 0 (0.00 Byte)\n",
            "_________________________________________________________________\n",
            "None\n"
          ]
        }
      ],
      "source": [
        "gru_model = utility.get_sequence_model(\"GRU\",label_processor,MAX_SEQ_LENGTH,NUM_FEATURES)\n",
        "print(gru_model.summary())\n"
      ]
    },
    {
      "cell_type": "code",
      "execution_count": 17,
      "metadata": {
        "colab": {
          "base_uri": "https://localhost:8080/"
        },
        "id": "sF9TzEz9_7V9",
        "outputId": "3feeed0e-0087-4df3-e151-f8cc3e94f8b8"
      },
      "outputs": [
        {
          "name": "stdout",
          "output_type": "stream",
          "text": [
            "Epoch 1/40\n",
            "23/23 [==============================] - 4s 77ms/step - loss: 2.1876 - accuracy: 0.1757 - val_loss: 1.9529 - val_accuracy: 0.3023\n",
            "Epoch 2/40\n",
            "23/23 [==============================] - 1s 41ms/step - loss: 1.9142 - accuracy: 0.3596 - val_loss: 1.7705 - val_accuracy: 0.5145\n",
            "Epoch 3/40\n",
            "23/23 [==============================] - 1s 33ms/step - loss: 1.7621 - accuracy: 0.4163 - val_loss: 1.6410 - val_accuracy: 0.5113\n",
            "Epoch 4/40\n",
            "23/23 [==============================] - 1s 45ms/step - loss: 1.6479 - accuracy: 0.4592 - val_loss: 1.5288 - val_accuracy: 0.5402\n",
            "Epoch 5/40\n",
            "23/23 [==============================] - 1s 36ms/step - loss: 1.5391 - accuracy: 0.5422 - val_loss: 1.4376 - val_accuracy: 0.5981\n",
            "Epoch 6/40\n",
            "23/23 [==============================] - 1s 24ms/step - loss: 1.4368 - accuracy: 0.5726 - val_loss: 1.3203 - val_accuracy: 0.6334\n",
            "Epoch 7/40\n",
            "23/23 [==============================] - 1s 22ms/step - loss: 1.3435 - accuracy: 0.5920 - val_loss: 1.2263 - val_accuracy: 0.6624\n",
            "Epoch 8/40\n",
            "23/23 [==============================] - 1s 22ms/step - loss: 1.2526 - accuracy: 0.6279 - val_loss: 1.1877 - val_accuracy: 0.6399\n",
            "Epoch 9/40\n",
            "23/23 [==============================] - 0s 21ms/step - loss: 1.1845 - accuracy: 0.6404 - val_loss: 1.0755 - val_accuracy: 0.6849\n",
            "Epoch 10/40\n",
            "23/23 [==============================] - 1s 37ms/step - loss: 1.1414 - accuracy: 0.6404 - val_loss: 1.0084 - val_accuracy: 0.7588\n",
            "Epoch 11/40\n",
            "23/23 [==============================] - 0s 21ms/step - loss: 1.0707 - accuracy: 0.6791 - val_loss: 0.9494 - val_accuracy: 0.7428\n",
            "Epoch 12/40\n",
            "23/23 [==============================] - 1s 42ms/step - loss: 1.0210 - accuracy: 0.6957 - val_loss: 0.8964 - val_accuracy: 0.7846\n",
            "Epoch 13/40\n",
            "23/23 [==============================] - 1s 37ms/step - loss: 1.0009 - accuracy: 0.6777 - val_loss: 0.8490 - val_accuracy: 0.7653\n",
            "Epoch 14/40\n",
            "23/23 [==============================] - 1s 26ms/step - loss: 0.9267 - accuracy: 0.7012 - val_loss: 0.8030 - val_accuracy: 0.8071\n",
            "Epoch 15/40\n",
            "23/23 [==============================] - 1s 38ms/step - loss: 0.9043 - accuracy: 0.7151 - val_loss: 0.7897 - val_accuracy: 0.8006\n",
            "Epoch 16/40\n",
            "23/23 [==============================] - 1s 26ms/step - loss: 0.8852 - accuracy: 0.7248 - val_loss: 0.7195 - val_accuracy: 0.8039\n",
            "Epoch 17/40\n",
            "23/23 [==============================] - 1s 24ms/step - loss: 0.7833 - accuracy: 0.7497 - val_loss: 0.6712 - val_accuracy: 0.8296\n",
            "Epoch 18/40\n",
            "23/23 [==============================] - 1s 25ms/step - loss: 0.7666 - accuracy: 0.7580 - val_loss: 0.6411 - val_accuracy: 0.8264\n",
            "Epoch 19/40\n",
            "23/23 [==============================] - 1s 30ms/step - loss: 0.7842 - accuracy: 0.7607 - val_loss: 0.6096 - val_accuracy: 0.8328\n",
            "Epoch 20/40\n",
            "23/23 [==============================] - 1s 25ms/step - loss: 0.7387 - accuracy: 0.7732 - val_loss: 0.6061 - val_accuracy: 0.8071\n",
            "Epoch 21/40\n",
            "23/23 [==============================] - 1s 33ms/step - loss: 0.7064 - accuracy: 0.7566 - val_loss: 0.5389 - val_accuracy: 0.8392\n",
            "Epoch 22/40\n",
            "23/23 [==============================] - 1s 27ms/step - loss: 0.6588 - accuracy: 0.7911 - val_loss: 0.5292 - val_accuracy: 0.8328\n",
            "Epoch 23/40\n",
            "23/23 [==============================] - 1s 33ms/step - loss: 0.6642 - accuracy: 0.7690 - val_loss: 0.5129 - val_accuracy: 0.8424\n",
            "Epoch 24/40\n",
            "23/23 [==============================] - 1s 26ms/step - loss: 0.6330 - accuracy: 0.7690 - val_loss: 0.4794 - val_accuracy: 0.8553\n",
            "Epoch 25/40\n",
            "23/23 [==============================] - 1s 29ms/step - loss: 0.6371 - accuracy: 0.7787 - val_loss: 0.4627 - val_accuracy: 0.8489\n",
            "Epoch 26/40\n",
            "23/23 [==============================] - 1s 31ms/step - loss: 0.5788 - accuracy: 0.7967 - val_loss: 0.4483 - val_accuracy: 0.8360\n",
            "Epoch 27/40\n",
            "23/23 [==============================] - 1s 29ms/step - loss: 0.5712 - accuracy: 0.8119 - val_loss: 0.4290 - val_accuracy: 0.8360\n",
            "Epoch 28/40\n",
            "23/23 [==============================] - 1s 36ms/step - loss: 0.5544 - accuracy: 0.7884 - val_loss: 0.3861 - val_accuracy: 0.8457\n",
            "Epoch 29/40\n",
            "23/23 [==============================] - 1s 28ms/step - loss: 0.5641 - accuracy: 0.7981 - val_loss: 0.3998 - val_accuracy: 0.8392\n",
            "Epoch 30/40\n",
            "23/23 [==============================] - 1s 32ms/step - loss: 0.5405 - accuracy: 0.7884 - val_loss: 0.3968 - val_accuracy: 0.8296\n",
            "Epoch 31/40\n",
            "23/23 [==============================] - 1s 37ms/step - loss: 0.5285 - accuracy: 0.8077 - val_loss: 0.3717 - val_accuracy: 0.8392\n",
            "Epoch 32/40\n",
            "23/23 [==============================] - 1s 23ms/step - loss: 0.5282 - accuracy: 0.8091 - val_loss: 0.3521 - val_accuracy: 0.8521\n",
            "Epoch 33/40\n",
            "23/23 [==============================] - 1s 30ms/step - loss: 0.4707 - accuracy: 0.8326 - val_loss: 0.3465 - val_accuracy: 0.8424\n",
            "Epoch 34/40\n",
            "23/23 [==============================] - 1s 33ms/step - loss: 0.4995 - accuracy: 0.8091 - val_loss: 0.3447 - val_accuracy: 0.8714\n",
            "Epoch 35/40\n",
            "23/23 [==============================] - 1s 28ms/step - loss: 0.5312 - accuracy: 0.7911 - val_loss: 0.3632 - val_accuracy: 0.8842\n",
            "Epoch 36/40\n",
            "23/23 [==============================] - 1s 34ms/step - loss: 0.4821 - accuracy: 0.8243 - val_loss: 0.3490 - val_accuracy: 0.8907\n",
            "Epoch 37/40\n",
            "23/23 [==============================] - 1s 33ms/step - loss: 0.4746 - accuracy: 0.8216 - val_loss: 0.3053 - val_accuracy: 0.9260\n",
            "Epoch 38/40\n",
            "23/23 [==============================] - 1s 23ms/step - loss: 0.4166 - accuracy: 0.8672 - val_loss: 0.3101 - val_accuracy: 0.9293\n",
            "Epoch 39/40\n",
            "23/23 [==============================] - 1s 36ms/step - loss: 0.4438 - accuracy: 0.8548 - val_loss: 0.2984 - val_accuracy: 0.9068\n",
            "Epoch 40/40\n",
            "23/23 [==============================] - 1s 26ms/step - loss: 0.4173 - accuracy: 0.8520 - val_loss: 0.3026 - val_accuracy: 0.9132\n",
            "9/9 [==============================] - 0s 8ms/step - loss: 0.2778 - accuracy: 0.9421\n",
            "Test accuracy: 94.21%\n",
            "Training took 32.251914978027344 s\n"
          ]
        }
      ],
      "source": [
        "t1 = time.time()\n",
        "_, gru_model = utility.run_experiment(\"GRU\",label_processor,X_train,y_train,X_test,y_test)\n",
        "gru_t2 = time.time() - t1\n",
        "print(f\"Training took {gru_t2} s\")"
      ]
    },
    {
      "cell_type": "markdown",
      "metadata": {
        "id": "-fPZhM-apRqY"
      },
      "source": [
        "**Prediction**"
      ]
    },
    {
      "cell_type": "code",
      "execution_count": 18,
      "metadata": {
        "colab": {
          "base_uri": "https://localhost:8080/"
        },
        "id": "vlBn6ga5gfR_",
        "outputId": "ed89ba86-1afa-4e7a-bf7f-d8a6a8138d85"
      },
      "outputs": [
        {
          "name": "stdout",
          "output_type": "stream",
          "text": [
            "9/9 [==============================] - 1s 11ms/step\n",
            "              precision    recall  f1-score   support\n",
            "\n",
            "           0       0.97      0.97      0.97        37\n",
            "           1       0.94      0.85      0.89        34\n",
            "           2       1.00      0.96      0.98        23\n",
            "           3       1.00      1.00      1.00        29\n",
            "           4       0.91      0.95      0.93        21\n",
            "           5       0.87      1.00      0.93        26\n",
            "           6       0.95      0.87      0.91        23\n",
            "           7       0.82      1.00      0.90        23\n",
            "           8       1.00      0.82      0.90        22\n",
            "           9       1.00      1.00      1.00        21\n",
            "\n",
            "    accuracy                           0.94       259\n",
            "   macro avg       0.95      0.94      0.94       259\n",
            "weighted avg       0.95      0.94      0.94       259\n",
            "\n"
          ]
        }
      ],
      "source": [
        "y_pred = gru_model.predict(X_test)\n",
        "print(classification_report(y_test,np.argmax(y_pred,axis=1)))"
      ]
    },
    {
      "cell_type": "code",
      "execution_count": 19,
      "metadata": {
        "colab": {
          "base_uri": "https://localhost:8080/",
          "height": 447
        },
        "id": "zm76olGg_H6p",
        "outputId": "20008afd-9057-460b-a367-5bcc64763229"
      },
      "outputs": [
        {
          "data": {
            "text/plain": [
              "<Axes: >"
            ]
          },
          "execution_count": 19,
          "metadata": {},
          "output_type": "execute_result"
        },
        {
          "data": {
            "image/png": "[encoded data removed]",
            "text/plain": [
              "<Figure size 640x480 with 2 Axes>"
            ]
          },
          "metadata": {},
          "output_type": "display_data"
        }
      ],
      "source": [
        "#confusion matrix\n",
        "sns.heatmap(confusion_matrix(y_test,np.argmax(y_pred,axis=1)),cmap=\"viridis\")"
      ]
    },
    {
      "cell_type": "markdown",
      "metadata": {
        "id": "RIcKpHpa3Y9A"
      },
      "source": [
        "## 3.2 LSTM  "
      ]
    },
    {
      "cell_type": "code",
      "execution_count": 24,
      "metadata": {
        "colab": {
          "base_uri": "https://localhost:8080/"
        },
        "id": "m79m_vox3qXu",
        "outputId": "7cc1afec-6eb5-4324-c436-2af358e52e95"
      },
      "outputs": [
        {
          "name": "stdout",
          "output_type": "stream",
          "text": [
            "Model: \"model_3\"\n",
            "_________________________________________________________________\n",
            " Layer (type)                Output Shape              Param #   \n",
            "=================================================================\n",
            " input_4 (InputLayer)        [(None, 20, 2048)]        0         \n",
            "                                                                 \n",
            " lstm_2 (LSTM)               (None, 20, 16)            132160    \n",
            "                                                                 \n",
            " lstm_3 (LSTM)               (None, 8)                 800       \n",
            "                                                                 \n",
            " dropout_3 (Dropout)         (None, 8)                 0         \n",
            "                                                                 \n",
            " dense_6 (Dense)             (None, 8)                 72        \n",
            "                                                                 \n",
            " dense_7 (Dense)             (None, 10)                90        \n",
            "                                                                 \n",
            "=================================================================\n",
            "Total params: 133122 (520.01 KB)\n",
            "Trainable params: 133122 (520.01 KB)\n",
            "Non-trainable params: 0 (0.00 Byte)\n",
            "_________________________________________________________________\n",
            "None\n"
          ]
        }
      ],
      "source": [
        "lstm_model = utility.get_sequence_model(\"LSTM\",label_processor,MAX_SEQ_LENGTH,NUM_FEATURES)\n",
        "print(lstm_model.summary())\n"
      ]
    },
    {
      "cell_type": "code",
      "execution_count": 25,
      "metadata": {
        "colab": {
          "base_uri": "https://localhost:8080/"
        },
        "id": "nNZK68M1krke",
        "outputId": "4da69f7e-43e2-4f29-cc14-d5e914314688"
      },
      "outputs": [
        {
          "name": "stdout",
          "output_type": "stream",
          "text": [
            "Epoch 1/40\n",
            "23/23 [==============================] - 4s 55ms/step - loss: 2.2026 - accuracy: 0.1646 - val_loss: 2.0309 - val_accuracy: 0.3955\n",
            "Epoch 2/40\n",
            "23/23 [==============================] - 1s 36ms/step - loss: 2.0425 - accuracy: 0.2822 - val_loss: 1.8967 - val_accuracy: 0.4373\n",
            "Epoch 3/40\n",
            "23/23 [==============================] - 1s 30ms/step - loss: 1.9179 - accuracy: 0.3499 - val_loss: 1.7827 - val_accuracy: 0.4630\n",
            "Epoch 4/40\n",
            "23/23 [==============================] - 1s 24ms/step - loss: 1.8017 - accuracy: 0.4343 - val_loss: 1.6547 - val_accuracy: 0.6077\n",
            "Epoch 5/40\n",
            "23/23 [==============================] - 1s 25ms/step - loss: 1.6873 - accuracy: 0.4398 - val_loss: 1.5700 - val_accuracy: 0.5981\n",
            "Epoch 6/40\n",
            "23/23 [==============================] - 1s 41ms/step - loss: 1.6001 - accuracy: 0.5035 - val_loss: 1.5447 - val_accuracy: 0.7010\n",
            "Epoch 7/40\n",
            "23/23 [==============================] - 1s 36ms/step - loss: 1.5276 - accuracy: 0.5477 - val_loss: 1.4741 - val_accuracy: 0.6752\n",
            "Epoch 8/40\n",
            "23/23 [==============================] - 1s 38ms/step - loss: 1.4508 - accuracy: 0.5588 - val_loss: 1.3236 - val_accuracy: 0.7042\n",
            "Epoch 9/40\n",
            "23/23 [==============================] - 1s 35ms/step - loss: 1.3933 - accuracy: 0.5906 - val_loss: 1.3651 - val_accuracy: 0.6592\n",
            "Epoch 10/40\n",
            "23/23 [==============================] - 1s 37ms/step - loss: 1.3449 - accuracy: 0.5809 - val_loss: 1.1756 - val_accuracy: 0.7492\n",
            "Epoch 11/40\n",
            "23/23 [==============================] - 1s 31ms/step - loss: 1.1974 - accuracy: 0.6266 - val_loss: 1.0474 - val_accuracy: 0.7781\n",
            "Epoch 12/40\n",
            "23/23 [==============================] - 1s 38ms/step - loss: 1.1728 - accuracy: 0.6376 - val_loss: 1.0378 - val_accuracy: 0.7621\n",
            "Epoch 13/40\n",
            "23/23 [==============================] - 1s 33ms/step - loss: 1.0833 - accuracy: 0.6694 - val_loss: 0.9893 - val_accuracy: 0.7363\n",
            "Epoch 14/40\n",
            "23/23 [==============================] - 1s 22ms/step - loss: 1.0610 - accuracy: 0.6625 - val_loss: 1.0686 - val_accuracy: 0.7428\n",
            "Epoch 15/40\n",
            "23/23 [==============================] - 1s 25ms/step - loss: 1.0433 - accuracy: 0.6653 - val_loss: 0.8632 - val_accuracy: 0.7653\n",
            "Epoch 16/40\n",
            "23/23 [==============================] - 1s 29ms/step - loss: 0.9955 - accuracy: 0.6791 - val_loss: 0.8327 - val_accuracy: 0.7685\n",
            "Epoch 17/40\n",
            "23/23 [==============================] - 1s 28ms/step - loss: 0.9567 - accuracy: 0.6846 - val_loss: 0.8481 - val_accuracy: 0.8135\n",
            "Epoch 18/40\n",
            "23/23 [==============================] - 1s 28ms/step - loss: 0.9277 - accuracy: 0.6929 - val_loss: 0.8052 - val_accuracy: 0.8006\n",
            "Epoch 19/40\n",
            "23/23 [==============================] - 1s 32ms/step - loss: 0.9283 - accuracy: 0.7068 - val_loss: 0.8134 - val_accuracy: 0.8553\n",
            "Epoch 20/40\n",
            "23/23 [==============================] - 1s 35ms/step - loss: 0.8427 - accuracy: 0.7178 - val_loss: 0.7836 - val_accuracy: 0.7942\n",
            "Epoch 21/40\n",
            "23/23 [==============================] - 1s 39ms/step - loss: 0.8163 - accuracy: 0.7331 - val_loss: 0.6915 - val_accuracy: 0.8232\n",
            "Epoch 22/40\n",
            "23/23 [==============================] - 1s 34ms/step - loss: 0.8138 - accuracy: 0.7317 - val_loss: 0.6749 - val_accuracy: 0.8553\n",
            "Epoch 23/40\n",
            "23/23 [==============================] - 1s 25ms/step - loss: 0.7851 - accuracy: 0.7469 - val_loss: 0.6816 - val_accuracy: 0.8746\n",
            "Epoch 24/40\n",
            "23/23 [==============================] - 1s 25ms/step - loss: 0.7469 - accuracy: 0.7580 - val_loss: 0.5552 - val_accuracy: 0.8617\n",
            "Epoch 25/40\n",
            "23/23 [==============================] - 1s 27ms/step - loss: 0.7750 - accuracy: 0.7372 - val_loss: 0.6330 - val_accuracy: 0.8810\n",
            "Epoch 26/40\n",
            "23/23 [==============================] - 1s 27ms/step - loss: 0.7284 - accuracy: 0.7607 - val_loss: 0.6129 - val_accuracy: 0.8232\n",
            "Epoch 27/40\n",
            "23/23 [==============================] - 1s 29ms/step - loss: 0.6912 - accuracy: 0.8105 - val_loss: 0.6075 - val_accuracy: 0.8360\n",
            "Epoch 28/40\n",
            "23/23 [==============================] - 1s 32ms/step - loss: 0.6456 - accuracy: 0.7953 - val_loss: 0.5558 - val_accuracy: 0.9035\n",
            "Epoch 29/40\n",
            "23/23 [==============================] - 1s 30ms/step - loss: 0.6391 - accuracy: 0.8036 - val_loss: 0.5303 - val_accuracy: 0.9132\n",
            "Epoch 30/40\n",
            "23/23 [==============================] - 1s 23ms/step - loss: 0.7223 - accuracy: 0.7746 - val_loss: 0.9954 - val_accuracy: 0.7910\n",
            "Epoch 31/40\n",
            "23/23 [==============================] - 1s 25ms/step - loss: 0.9346 - accuracy: 0.7137 - val_loss: 0.6249 - val_accuracy: 0.8810\n",
            "Epoch 32/40\n",
            "23/23 [==============================] - 1s 25ms/step - loss: 0.6784 - accuracy: 0.8091 - val_loss: 0.4485 - val_accuracy: 0.9260\n",
            "Epoch 33/40\n",
            "23/23 [==============================] - 1s 31ms/step - loss: 0.6247 - accuracy: 0.8008 - val_loss: 0.4654 - val_accuracy: 0.9293\n",
            "Epoch 34/40\n",
            "23/23 [==============================] - 1s 32ms/step - loss: 0.5803 - accuracy: 0.8271 - val_loss: 0.4767 - val_accuracy: 0.9228\n",
            "Epoch 35/40\n",
            "23/23 [==============================] - 1s 35ms/step - loss: 0.5493 - accuracy: 0.8423 - val_loss: 0.4436 - val_accuracy: 0.9293\n",
            "Epoch 36/40\n",
            "23/23 [==============================] - 1s 27ms/step - loss: 0.5127 - accuracy: 0.8575 - val_loss: 0.4502 - val_accuracy: 0.9228\n",
            "Epoch 37/40\n",
            "23/23 [==============================] - 1s 32ms/step - loss: 0.5671 - accuracy: 0.8133 - val_loss: 0.4057 - val_accuracy: 0.9421\n",
            "Epoch 38/40\n",
            "23/23 [==============================] - 1s 35ms/step - loss: 0.5204 - accuracy: 0.8451 - val_loss: 0.4235 - val_accuracy: 0.9357\n",
            "Epoch 39/40\n",
            "23/23 [==============================] - 1s 32ms/step - loss: 0.5092 - accuracy: 0.8658 - val_loss: 0.3969 - val_accuracy: 0.9453\n",
            "Epoch 40/40\n",
            "23/23 [==============================] - 1s 37ms/step - loss: 0.5377 - accuracy: 0.8188 - val_loss: 0.3675 - val_accuracy: 0.9421\n",
            "9/9 [==============================] - 0s 10ms/step - loss: 0.3077 - accuracy: 0.9653\n",
            "Test accuracy: 96.53%\n",
            "Training of LSTM took 32.448158740997314\n"
          ]
        }
      ],
      "source": [
        "t1 = time.time()\n",
        "_, lstm_model = utility.run_experiment(\"LSTM\",label_processor,X_train,y_train,X_test,y_test)\n",
        "lstm_t2 = time.time() - t1\n",
        "print(f\"Training of LSTM took {lstm_t2}\")"
      ]
    },
    {
      "cell_type": "code",
      "execution_count": 26,
      "metadata": {
        "colab": {
          "base_uri": "https://localhost:8080/"
        },
        "id": "RbeiOQZ6eSkc",
        "outputId": "49d6de20-897b-4749-c861-e2e0ea7456ef"
      },
      "outputs": [
        {
          "name": "stdout",
          "output_type": "stream",
          "text": [
            "9/9 [==============================] - 1s 9ms/step\n",
            "              precision    recall  f1-score   support\n",
            "\n",
            "           0       0.97      1.00      0.99        37\n",
            "           1       0.94      0.88      0.91        34\n",
            "           2       0.92      1.00      0.96        23\n",
            "           3       1.00      1.00      1.00        29\n",
            "           4       0.95      0.95      0.95        21\n",
            "           5       0.92      0.92      0.92        26\n",
            "           6       0.95      0.91      0.93        23\n",
            "           7       1.00      1.00      1.00        23\n",
            "           8       1.00      1.00      1.00        22\n",
            "           9       1.00      1.00      1.00        21\n",
            "\n",
            "    accuracy                           0.97       259\n",
            "   macro avg       0.97      0.97      0.97       259\n",
            "weighted avg       0.97      0.97      0.96       259\n",
            "\n"
          ]
        }
      ],
      "source": [
        "y_pred_lstm = lstm_model.predict(X_test)\n",
        "print(classification_report(y_test,np.argmax(y_pred_lstm,axis=1)))"
      ]
    },
    {
      "cell_type": "code",
      "execution_count": 27,
      "metadata": {
        "colab": {
          "base_uri": "https://localhost:8080/",
          "height": 447
        },
        "id": "kQSrot4u_d4_",
        "outputId": "115a674f-08b6-4b37-a491-bcf62c6ce71f"
      },
      "outputs": [
        {
          "data": {
            "text/plain": [
              "<Axes: >"
            ]
          },
          "execution_count": 27,
          "metadata": {},
          "output_type": "execute_result"
        },
        {
          "data": {
            "image/png": "[encoded data removed]",
            "text/plain": [
              "<Figure size 640x480 with 2 Axes>"
            ]
          },
          "metadata": {},
          "output_type": "display_data"
        }
      ],
      "source": [
        "#confusion matrix\n",
        "sns.heatmap(confusion_matrix(y_test,np.argmax(y_pred_lstm,axis=1)),cmap=\"viridis\")"
      ]
    },
    {
      "cell_type": "markdown",
      "metadata": {
        "id": "y9_9O88R5PId"
      },
      "source": [
        "## 3.3 BI-LSTM"
      ]
    },
    {
      "cell_type": "code",
      "execution_count": 83,
      "metadata": {
        "colab": {
          "base_uri": "https://localhost:8080/"
        },
        "id": "cAKdWEuEl5Gr",
        "outputId": "8b1fe321-5c0e-4134-f8cd-0d91ab1c407c"
      },
      "outputs": [
        {
          "name": "stdout",
          "output_type": "stream",
          "text": [
            "Model: \"model_5\"\n",
            "_________________________________________________________________\n",
            " Layer (type)                Output Shape              Param #   \n",
            "=================================================================\n",
            " input_14 (InputLayer)       [(None, 20, 2048)]        0         \n",
            "                                                                 \n",
            " bidirectional (Bidirection  (None, 20, 32)            264320    \n",
            " al)                                                             \n",
            "                                                                 \n",
            " bidirectional_1 (Bidirecti  (None, 16)                2624      \n",
            " onal)                                                           \n",
            "                                                                 \n",
            " dropout_5 (Dropout)         (None, 16)                0         \n",
            "                                                                 \n",
            " dense_10 (Dense)            (None, 8)                 136       \n",
            "                                                                 \n",
            " dense_11 (Dense)            (None, 10)                90        \n",
            "                                                                 \n",
            "=================================================================\n",
            "Total params: 267170 (1.02 MB)\n",
            "Trainable params: 267170 (1.02 MB)\n",
            "Non-trainable params: 0 (0.00 Byte)\n",
            "_________________________________________________________________\n",
            "None\n"
          ]
        }
      ],
      "source": [
        "bilstm_model = utility.get_sequence_model(\"BILSTM\",label_processor,MAX_SEQ_LENGTH,NUM_FEATURES)\n",
        "print(bilstm_model.summary())"
      ]
    },
    {
      "cell_type": "code",
      "execution_count": 28,
      "metadata": {
        "colab": {
          "base_uri": "https://localhost:8080/"
        },
        "id": "Rz0VQa_c5R6A",
        "outputId": "98230749-ec45-4c3a-c913-c45bfa24463e"
      },
      "outputs": [
        {
          "name": "stdout",
          "output_type": "stream",
          "text": [
            "Epoch 1/40\n",
            "23/23 [==============================] - 7s 96ms/step - loss: 2.1275 - accuracy: 0.2268 - val_loss: 1.9292 - val_accuracy: 0.4534\n",
            "Epoch 2/40\n",
            "23/23 [==============================] - 1s 46ms/step - loss: 1.8210 - accuracy: 0.4329 - val_loss: 1.6030 - val_accuracy: 0.5788\n",
            "Epoch 3/40\n",
            "23/23 [==============================] - 1s 36ms/step - loss: 1.6230 - accuracy: 0.5090 - val_loss: 1.4119 - val_accuracy: 0.6270\n",
            "Epoch 4/40\n",
            "23/23 [==============================] - 1s 51ms/step - loss: 1.4404 - accuracy: 0.5781 - val_loss: 1.2141 - val_accuracy: 0.7878\n",
            "Epoch 5/40\n",
            "23/23 [==============================] - 1s 45ms/step - loss: 1.2787 - accuracy: 0.6473 - val_loss: 1.0741 - val_accuracy: 0.7942\n",
            "Epoch 6/40\n",
            "23/23 [==============================] - 1s 43ms/step - loss: 1.1823 - accuracy: 0.6556 - val_loss: 1.0084 - val_accuracy: 0.8135\n",
            "Epoch 7/40\n",
            "23/23 [==============================] - 1s 34ms/step - loss: 1.1960 - accuracy: 0.6404 - val_loss: 0.9401 - val_accuracy: 0.7846\n",
            "Epoch 8/40\n",
            "23/23 [==============================] - 1s 36ms/step - loss: 1.0380 - accuracy: 0.6943 - val_loss: 0.8179 - val_accuracy: 0.8778\n",
            "Epoch 9/40\n",
            "23/23 [==============================] - 1s 43ms/step - loss: 0.9300 - accuracy: 0.7469 - val_loss: 0.7245 - val_accuracy: 0.8553\n",
            "Epoch 10/40\n",
            "23/23 [==============================] - 1s 35ms/step - loss: 0.8159 - accuracy: 0.7732 - val_loss: 0.6847 - val_accuracy: 0.8199\n",
            "Epoch 11/40\n",
            "23/23 [==============================] - 1s 40ms/step - loss: 0.7568 - accuracy: 0.7828 - val_loss: 0.5792 - val_accuracy: 0.8939\n",
            "Epoch 12/40\n",
            "23/23 [==============================] - 1s 44ms/step - loss: 0.6787 - accuracy: 0.8437 - val_loss: 0.6308 - val_accuracy: 0.8232\n",
            "Epoch 13/40\n",
            "23/23 [==============================] - 1s 42ms/step - loss: 0.6982 - accuracy: 0.8230 - val_loss: 0.5951 - val_accuracy: 0.8907\n",
            "Epoch 14/40\n",
            "23/23 [==============================] - 1s 48ms/step - loss: 0.6740 - accuracy: 0.8271 - val_loss: 0.5442 - val_accuracy: 0.8842\n",
            "Epoch 15/40\n",
            "23/23 [==============================] - 1s 44ms/step - loss: 0.6394 - accuracy: 0.8575 - val_loss: 0.5185 - val_accuracy: 0.9003\n",
            "Epoch 16/40\n",
            "23/23 [==============================] - 1s 34ms/step - loss: 0.6126 - accuracy: 0.8589 - val_loss: 0.5782 - val_accuracy: 0.8424\n",
            "Epoch 17/40\n",
            "23/23 [==============================] - 1s 37ms/step - loss: 0.5595 - accuracy: 0.8631 - val_loss: 0.4105 - val_accuracy: 0.9325\n",
            "Epoch 18/40\n",
            "23/23 [==============================] - 1s 36ms/step - loss: 0.4681 - accuracy: 0.9059 - val_loss: 0.3522 - val_accuracy: 0.9293\n",
            "Epoch 19/40\n",
            "23/23 [==============================] - 1s 35ms/step - loss: 0.4414 - accuracy: 0.9087 - val_loss: 0.3091 - val_accuracy: 0.9518\n",
            "Epoch 20/40\n",
            "23/23 [==============================] - 1s 35ms/step - loss: 0.4304 - accuracy: 0.9059 - val_loss: 0.4073 - val_accuracy: 0.9003\n",
            "Epoch 21/40\n",
            "23/23 [==============================] - 1s 32ms/step - loss: 0.4923 - accuracy: 0.8755 - val_loss: 0.2993 - val_accuracy: 0.9421\n",
            "Epoch 22/40\n",
            "23/23 [==============================] - 1s 44ms/step - loss: 0.3599 - accuracy: 0.9225 - val_loss: 0.2321 - val_accuracy: 0.9646\n",
            "Epoch 23/40\n",
            "23/23 [==============================] - 1s 42ms/step - loss: 0.3408 - accuracy: 0.9295 - val_loss: 0.3787 - val_accuracy: 0.9068\n",
            "Epoch 24/40\n",
            "23/23 [==============================] - 1s 45ms/step - loss: 0.3949 - accuracy: 0.9170 - val_loss: 0.2527 - val_accuracy: 0.9325\n",
            "Epoch 25/40\n",
            "23/23 [==============================] - 1s 44ms/step - loss: 0.3239 - accuracy: 0.9281 - val_loss: 0.2297 - val_accuracy: 0.9518\n",
            "Epoch 26/40\n",
            "23/23 [==============================] - 1s 43ms/step - loss: 0.2739 - accuracy: 0.9599 - val_loss: 0.2192 - val_accuracy: 0.9453\n",
            "Epoch 27/40\n",
            "23/23 [==============================] - 1s 31ms/step - loss: 0.2989 - accuracy: 0.9308 - val_loss: 0.2776 - val_accuracy: 0.9293\n",
            "Epoch 28/40\n",
            "23/23 [==============================] - 1s 33ms/step - loss: 0.3182 - accuracy: 0.9322 - val_loss: 0.5257 - val_accuracy: 0.8553\n",
            "Epoch 29/40\n",
            "23/23 [==============================] - 1s 37ms/step - loss: 0.4005 - accuracy: 0.9018 - val_loss: 0.3675 - val_accuracy: 0.9035\n",
            "Epoch 30/40\n",
            "23/23 [==============================] - 1s 36ms/step - loss: 0.3209 - accuracy: 0.9142 - val_loss: 0.3169 - val_accuracy: 0.9196\n",
            "Epoch 31/40\n",
            "23/23 [==============================] - 1s 44ms/step - loss: 0.3013 - accuracy: 0.9253 - val_loss: 0.2122 - val_accuracy: 0.9453\n",
            "Epoch 32/40\n",
            "23/23 [==============================] - 1s 40ms/step - loss: 0.2460 - accuracy: 0.9474 - val_loss: 0.1994 - val_accuracy: 0.9453\n",
            "Epoch 33/40\n",
            "23/23 [==============================] - 1s 50ms/step - loss: 0.2391 - accuracy: 0.9461 - val_loss: 0.1869 - val_accuracy: 0.9486\n",
            "Epoch 34/40\n",
            "23/23 [==============================] - 1s 48ms/step - loss: 0.2967 - accuracy: 0.9225 - val_loss: 0.2364 - val_accuracy: 0.9196\n",
            "Epoch 35/40\n",
            "23/23 [==============================] - 1s 51ms/step - loss: 0.2288 - accuracy: 0.9447 - val_loss: 0.1285 - val_accuracy: 0.9614\n",
            "Epoch 36/40\n",
            "23/23 [==============================] - 1s 42ms/step - loss: 0.1732 - accuracy: 0.9710 - val_loss: 0.1204 - val_accuracy: 0.9711\n",
            "Epoch 37/40\n",
            "23/23 [==============================] - 1s 41ms/step - loss: 0.1927 - accuracy: 0.9488 - val_loss: 0.1227 - val_accuracy: 0.9678\n",
            "Epoch 38/40\n",
            "23/23 [==============================] - 1s 32ms/step - loss: 0.1658 - accuracy: 0.9682 - val_loss: 0.1306 - val_accuracy: 0.9646\n",
            "Epoch 39/40\n",
            "23/23 [==============================] - 1s 44ms/step - loss: 0.1676 - accuracy: 0.9682 - val_loss: 0.1406 - val_accuracy: 0.9678\n",
            "Epoch 40/40\n",
            "23/23 [==============================] - 1s 35ms/step - loss: 0.1580 - accuracy: 0.9613 - val_loss: 0.1501 - val_accuracy: 0.9614\n",
            "9/9 [==============================] - 0s 17ms/step - loss: 0.1427 - accuracy: 0.9653\n",
            "Test accuracy: 96.53%\n",
            "Training of BILSTM took : 44.66366791725159 s\n"
          ]
        }
      ],
      "source": [
        "t1 = time.time()\n",
        "_, bilstm_model = utility.run_experiment(\"BILSTM\",label_processor,X_train,y_train,X_test,y_test)\n",
        "blstm_t2 = time.time() - t1\n",
        "print(f'Training of BILSTM took : {blstm_t2} s')"
      ]
    },
    {
      "cell_type": "code",
      "execution_count": 29,
      "metadata": {
        "colab": {
          "base_uri": "https://localhost:8080/"
        },
        "id": "j1rP-pbGi2ce",
        "outputId": "8fc0ba0b-8c96-401c-ea28-1d7491cc7724"
      },
      "outputs": [
        {
          "name": "stdout",
          "output_type": "stream",
          "text": [
            "9/9 [==============================] - 1s 15ms/step\n",
            "              precision    recall  f1-score   support\n",
            "\n",
            "           0       0.95      0.97      0.96        37\n",
            "           1       0.94      0.91      0.93        34\n",
            "           2       1.00      1.00      1.00        23\n",
            "           3       1.00      1.00      1.00        29\n",
            "           4       0.90      0.86      0.88        21\n",
            "           5       1.00      0.96      0.98        26\n",
            "           6       0.92      0.96      0.94        23\n",
            "           7       0.96      1.00      0.98        23\n",
            "           8       1.00      1.00      1.00        22\n",
            "           9       1.00      1.00      1.00        21\n",
            "\n",
            "    accuracy                           0.97       259\n",
            "   macro avg       0.97      0.97      0.97       259\n",
            "weighted avg       0.97      0.97      0.97       259\n",
            "\n"
          ]
        }
      ],
      "source": [
        "y_pred_bilstm = bilstm_model.predict(X_test)\n",
        "print(classification_report(y_test,np.argmax(y_pred_bilstm,axis=1)))"
      ]
    },
    {
      "cell_type": "code",
      "execution_count": 30,
      "metadata": {
        "colab": {
          "base_uri": "https://localhost:8080/",
          "height": 447
        },
        "id": "A77YHr1F_ylh",
        "outputId": "f96ce7be-1407-4ad4-deb7-969e7804ef94"
      },
      "outputs": [
        {
          "data": {
            "text/plain": [
              "<Axes: >"
            ]
          },
          "execution_count": 30,
          "metadata": {},
          "output_type": "execute_result"
        },
        {
          "data": {
            "image/png": "[encoded data removed]",
            "text/plain": [
              "<Figure size 640x480 with 2 Axes>"
            ]
          },
          "metadata": {},
          "output_type": "display_data"
        }
      ],
      "source": [
        "sns.heatmap(confusion_matrix(y_test,np.argmax(y_pred_bilstm,axis=1)),cmap=\"viridis\")"
      ]
    },
    {
      "cell_type": "markdown",
      "metadata": {
        "id": "VH9uckbj3Noc"
      },
      "source": [
        "# **4.Results**\n"
      ]
    },
    {
      "cell_type": "markdown",
      "metadata": {
        "id": "xHStmISO4Hnp"
      },
      "source": [
        "**Testing the model using a random video downloaded from internet**"
      ]
    },
    {
      "cell_type": "markdown",
      "metadata": {
        "id": "csnmfqjI4L_4"
      },
      "source": [
        "The test video downloaded from the internet shows a man doing pushups\n"
      ]
    },
    {
      "cell_type": "code",
      "execution_count": 31,
      "metadata": {
        "id": "8lbI0Qs4Giw-"
      },
      "outputs": [],
      "source": [
        "test_online_video_path = \"test/PushUp.mp4\""
      ]
    },
    {
      "cell_type": "code",
      "execution_count": 33,
      "metadata": {},
      "outputs": [
        {
          "name": "stdout",
          "output_type": "stream",
          "text": [
            "1/1 [==============================] - 2s 2s/step\n",
            "1/1 [==============================] - 0s 19ms/step\n",
            "PushUps: 82.93%\n",
            "BabyCrawling:  9.50%\n",
            "Billiards:  2.41%\n",
            "TrampolineJumping:  1.97%\n",
            "PizzaTossing:  1.47%\n",
            "Swing:  1.16%\n",
            "BrushingTeeth:  0.31%\n",
            "Biking:  0.15%\n",
            "Typing:  0.09%\n",
            "ApplyEyeMakeup:  0.00%\n"
          ]
        }
      ],
      "source": [
        "frames = utility.load_video(test_online_video_path)\n",
        "class_vocab = label_processor.get_vocabulary()\n",
        "frame_features = feature_extractor.predict(frames).reshape(1,20,2048)\n",
        "probabilities = gru_model.predict(frame_features)[0]\n",
        "max_label = class_vocab[np.argsort(probabilities)[-1]]\n",
        "for i in np.argsort(probabilities)[::-1]:\n",
        "    print(f\"{class_vocab[i]}: {probabilities[i] * 100:5.2f}%\")"
      ]
    },
    {
      "cell_type": "markdown",
      "metadata": {
        "id": "jzsLDprYGwM_"
      },
      "source": [
        "**Comment:**"
      ]
    },
    {
      "cell_type": "markdown",
      "metadata": {
        "id": "HOfyZLFv5ihH"
      },
      "source": [
        "From the training and testing accuracy results of our trained models (LSTM, GRU, and BILSTM), it's clear they excel in classifying human activities. Assessing the confusion matrices for each model, we notice values being 0 almost everywhere around the diagonal, showcasing remarkable performance. Yet, considering the training duration, BILSTM takes nearly double the time of LSTM and GRU models. Consequently, we'll opt for **LSTM** as our deployment model for production."
      ]
    },
    {
      "cell_type": "code",
      "execution_count": null,
      "metadata": {
        "id": "8AORGJAeER-l"
      },
      "outputs": [],
      "source": [
        "#save the model to be deployed in production"
      ]
    },
    {
      "cell_type": "code",
      "execution_count": 34,
      "metadata": {
        "colab": {
          "base_uri": "https://localhost:8080/"
        },
        "id": "5GhMHYP4s8wq",
        "outputId": "f24cba5a-4fb3-472a-c852-873b26d127e6"
      },
      "outputs": [],
      "source": [
        "lstm_model.save(\"models/final_model.h5\")"
      ]
    }
  ],
  "metadata": {
    "accelerator": "GPU",
    "colab": {
      "provenance": []
    },
    "kernelspec": {
      "display_name": "Python 3",
      "name": "python3"
    },
    "language_info": {
      "codemirror_mode": {
        "name": "ipython",
        "version": 3
      },
      "file_extension": ".py",
      "mimetype": "text/x-python",
      "name": "python",
      "nbconvert_exporter": "python",
      "pygments_lexer": "ipython3",
      "version": "3.8.10"
    }
  },
  "nbformat": 4,
  "nbformat_minor": 0
}

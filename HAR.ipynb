{
  "cells": [
    {
      "cell_type": "markdown",
      "metadata": {
        "id": "uMQoWI7kzxfl"
      },
      "source": [
        "**HUMAN ACTIVITY RECOGNITION**\n",
        "\n",
        "\n",
        "\n",
        "\n"
      ]
    },
    {
      "cell_type": "markdown",
      "metadata": {
        "id": "EEtO9YeSJI7f"
      },
      "source": [
        "This project is about building a Human Activity recognition  system to be deployed in a web application.                                                For computing resources constraints, we used only 10 classes from [UCF-101](https://www.crcv.ucf.edu/data/UCF101.php)."
      ]
    },
    {
      "cell_type": "markdown",
      "metadata": {
        "id": "pwKFOvgCxsUD"
      },
      "source": [
        "Import the necessary libraries"
      ]
    },
    {
      "cell_type": "code",
      "execution_count": 101,
      "metadata": {
        "id": "pSLYEhc64m9M"
      },
      "outputs": [],
      "source": [
        "import numpy as np\n",
        "import pandas as pd\n",
        "import matplotlib.pyplot as plt\n",
        "import os\n",
        "import pickle\n",
        "import time\n",
        "import keras\n",
        "import tensorflow as tf\n",
        "import seaborn as sns\n",
        "import os\n",
        "import warnings\n",
        "warnings.filterwarnings(action=\"ignore\")\n",
        "from sklearn.metrics import classification_report,confusion_matrix\n",
        "from sklearn.model_selection import train_test_split\n",
        "from utility import utility\n",
        "from typing import Optional, Tuple, List\n",
        "from concurrent.futures import ThreadPoolExecutor\n",
        "from tqdm import tqdm\n"
      ]
    },
    {
      "cell_type": "code",
      "execution_count": 45,
      "metadata": {
        "id": "wDzMeZsD6gic"
      },
      "outputs": [],
      "source": [
        "BASE_PATH = 'dataset/' #the folder that already contains the videos of interest\n",
        "IMG_SIZE = 224 # SIZE of each frame\n",
        "N_CPU_CORES = os.cpu_count() -1 # the number of cpu to use for paralization \n",
        "TEST_SIZE_RATIO = 0.2\n",
        "IMG_SIZE = 224 #frame size\n",
        "BATCH_SIZE = 64\n",
        "EPOCHS = 40\n",
        "#N_CLASSES = np.unique(dataset_train[\"Label\"])\n",
        "\n",
        "\n",
        "MAX_SEQ_LENGTH = 20 #max number of frame to collect per videos\n",
        "NUM_FEATURES = 2048  #size of the feature embedding resulting from convolution\n",
        "\n",
        "\n"
      ]
    },
    {
      "cell_type": "markdown",
      "metadata": {
        "id": "nK5lShRPH8Wz"
      },
      "source": [
        "# **1. Overview of the data**"
      ]
    },
    {
      "cell_type": "markdown",
      "metadata": {
        "id": "G26H4wAWH_eY"
      },
      "source": [
        "To accomplish this task, we developed a function that go through the folders, extracting various characteristics such as **frame count, frames per second (fps), and duration** for each video and return them as a Dataframe object."
      ]
    },
    {
      "cell_type": "code",
      "execution_count": 97,
      "metadata": {
        "id": "UKuMv6sf9tCH"
      },
      "outputs": [],
      "source": [
        "#get an overview of the dataset\n",
        "dataset = utility.reading_data(base_path)"
      ]
    },
    {
      "cell_type": "code",
      "execution_count": 35,
      "metadata": {
        "colab": {
          "base_uri": "https://localhost:8080/",
          "height": 206
        },
        "id": "WQEHneTxJshX",
        "outputId": "fa457c3d-3e80-4970-a98c-0cdc9545ef88"
      },
      "outputs": [
        {
          "data": {
            "text/html": [
              "<div>\n",
              "<style scoped>\n",
              "    .dataframe tbody tr th:only-of-type {\n",
              "        vertical-align: middle;\n",
              "    }\n",
              "\n",
              "    .dataframe tbody tr th {\n",
              "        vertical-align: top;\n",
              "    }\n",
              "\n",
              "    .dataframe thead th {\n",
              "        text-align: right;\n",
              "    }\n",
              "</style>\n",
              "<table border=\"1\" class=\"dataframe\">\n",
              "  <thead>\n",
              "    <tr style=\"text-align: right;\">\n",
              "      <th></th>\n",
              "      <th>Label</th>\n",
              "      <th>video_path</th>\n",
              "      <th>Frame_count</th>\n",
              "      <th>fps</th>\n",
              "      <th>Duration (s)</th>\n",
              "    </tr>\n",
              "  </thead>\n",
              "  <tbody>\n",
              "    <tr>\n",
              "      <th>0</th>\n",
              "      <td>TrampolineJumping</td>\n",
              "      <td>dataset/TrampolineJumping/v_TrampolineJumping_...</td>\n",
              "      <td>201</td>\n",
              "      <td>29.97003</td>\n",
              "      <td>6.706700</td>\n",
              "    </tr>\n",
              "    <tr>\n",
              "      <th>1</th>\n",
              "      <td>TrampolineJumping</td>\n",
              "      <td>dataset/TrampolineJumping/v_TrampolineJumping_...</td>\n",
              "      <td>151</td>\n",
              "      <td>29.97003</td>\n",
              "      <td>5.038367</td>\n",
              "    </tr>\n",
              "    <tr>\n",
              "      <th>2</th>\n",
              "      <td>TrampolineJumping</td>\n",
              "      <td>dataset/TrampolineJumping/v_TrampolineJumping_...</td>\n",
              "      <td>151</td>\n",
              "      <td>29.97003</td>\n",
              "      <td>5.038367</td>\n",
              "    </tr>\n",
              "    <tr>\n",
              "      <th>3</th>\n",
              "      <td>TrampolineJumping</td>\n",
              "      <td>dataset/TrampolineJumping/v_TrampolineJumping_...</td>\n",
              "      <td>296</td>\n",
              "      <td>29.97003</td>\n",
              "      <td>9.876533</td>\n",
              "    </tr>\n",
              "    <tr>\n",
              "      <th>4</th>\n",
              "      <td>TrampolineJumping</td>\n",
              "      <td>dataset/TrampolineJumping/v_TrampolineJumping_...</td>\n",
              "      <td>187</td>\n",
              "      <td>29.97003</td>\n",
              "      <td>6.239567</td>\n",
              "    </tr>\n",
              "  </tbody>\n",
              "</table>\n",
              "</div>"
            ],
            "text/plain": [
              "               Label                                         video_path  \\\n",
              "0  TrampolineJumping  dataset/TrampolineJumping/v_TrampolineJumping_...   \n",
              "1  TrampolineJumping  dataset/TrampolineJumping/v_TrampolineJumping_...   \n",
              "2  TrampolineJumping  dataset/TrampolineJumping/v_TrampolineJumping_...   \n",
              "3  TrampolineJumping  dataset/TrampolineJumping/v_TrampolineJumping_...   \n",
              "4  TrampolineJumping  dataset/TrampolineJumping/v_TrampolineJumping_...   \n",
              "\n",
              "   Frame_count       fps  Duration (s)  \n",
              "0          201  29.97003      6.706700  \n",
              "1          151  29.97003      5.038367  \n",
              "2          151  29.97003      5.038367  \n",
              "3          296  29.97003      9.876533  \n",
              "4          187  29.97003      6.239567  "
            ]
          },
          "execution_count": 35,
          "metadata": {},
          "output_type": "execute_result"
        }
      ],
      "source": [
        "dataset.head()"
      ]
    },
    {
      "cell_type": "code",
      "execution_count": 36,
      "metadata": {
        "colab": {
          "base_uri": "https://localhost:8080/"
        },
        "id": "hgd2shLIAvRH",
        "outputId": "7c39575e-2d76-4719-a38e-00807e6045e0"
      },
      "outputs": [
        {
          "data": {
            "text/plain": [
              "10"
            ]
          },
          "execution_count": 36,
          "metadata": {},
          "output_type": "execute_result"
        }
      ],
      "source": [
        "number_classes = len(dataset[\"Label\"].unique())\n",
        "number_classes"
      ]
    },
    {
      "cell_type": "markdown",
      "metadata": {
        "id": "NUEnBMWUKnx9"
      },
      "source": [
        "Are we dealing with an imbalanced dataset ?"
      ]
    },
    {
      "cell_type": "code",
      "execution_count": 37,
      "metadata": {
        "colab": {
          "base_uri": "https://localhost:8080/"
        },
        "id": "waxKIKCxB8Me",
        "outputId": "d0e7ac70-cbf1-4163-9557-a6575947af7c"
      },
      "outputs": [
        {
          "name": "stdout",
          "output_type": "stream",
          "text": [
            "Percentage of video per classes\n"
          ]
        },
        {
          "data": {
            "text/plain": [
              "Label\n",
              "ApplyEyeMakeup       0.112142\n",
              "BabyCrawling         0.102088\n",
              "Biking               0.103635\n",
              "Billiards            0.116009\n",
              "BrushingTeeth        0.101315\n",
              "PizzaTossing         0.087394\n",
              "PushUps              0.078886\n",
              "Swing                0.101315\n",
              "TrampolineJumping    0.092034\n",
              "Typing               0.105182\n",
              "Name: video_path, dtype: float64"
            ]
          },
          "execution_count": 37,
          "metadata": {},
          "output_type": "execute_result"
        }
      ],
      "source": [
        "print(\"Percentage of video per classes\")\n",
        "dataset.groupby(\"Label\").count()[\"video_path\"] / dataset.shape[0]"
      ]
    },
    {
      "cell_type": "markdown",
      "metadata": {
        "id": "PbjxDA6yPNMC"
      },
      "source": [
        "# **2.Preparing the data**"
      ]
    },
    {
      "cell_type": "markdown",
      "metadata": {
        "id": "TomPjWPnU8ID"
      },
      "source": [
        "## 2.1 Utility functions"
      ]
    },
    {
      "cell_type": "markdown",
      "metadata": {
        "id": "zfJIssSvPR99"
      },
      "source": [
        "To achieve that, we will define some utility functions that will make our job easier."
      ]
    },
    {
      "cell_type": "markdown",
      "metadata": {
        "id": "NSHuWDr2dSKd"
      },
      "source": [
        "## 2.2 Feature extraction using a pre-trained CNN\n",
        "\n",
        "\n",
        "\n"
      ]
    },
    {
      "cell_type": "code",
      "execution_count": 38,
      "metadata": {
        "id": "hwlhjBevo71Z"
      },
      "outputs": [
        {
          "name": "stderr",
          "output_type": "stream",
          "text": [
            "extracting frames from videos: 17it [00:00, 166.49it/s]"
          ]
        },
        {
          "name": "stderr",
          "output_type": "stream",
          "text": [
            "extracting frames from videos: 1293it [00:05, 230.17it/s]\n"
          ]
        }
      ],
      "source": [
        "with ThreadPoolExecutor(max_workers=N_CPU_CORES) as executor:\n",
        "  #load the videos in parallel on mutiple threads\n",
        "  frames = tqdm(executor.map(utility.load_video,dataset['video_path']),desc=\"extracting frames from videos\")\n",
        "  #save the frames as dataframe\n",
        "  videos_frames = np.array(list(frames))\n",
        "   \n"
      ]
    },
    {
      "cell_type": "code",
      "execution_count": null,
      "metadata": {
        "colab": {
          "base_uri": "https://localhost:8080/"
        },
        "id": "ocPwnk1R-DA9",
        "outputId": "692cfb84-824c-446e-84e1-c3274db5a3c5"
      },
      "outputs": [],
      "source": [
        "#apply the feature extractor on each frames previously\n",
        "feature_extractor = utility.build_feature_extractor(IMG_SIZE) #create feature extractor object\n",
        "with ThreadPoolExecutor(max_workers=N_CPU_CORES) as executor:\n",
        "  #run the feature extraction in parallel \n",
        "  videos_frames_features = tqdm(executor.map(feature_extractor.predict,videos_frames),desc=\"extracting features from each frames\")\n",
        "  videos_frames_features = np.array(list(videos_frames_features))\n"
      ]
    },
    {
      "cell_type": "code",
      "execution_count": 44,
      "metadata": {
        "colab": {
          "base_uri": "https://localhost:8080/"
        },
        "id": "wIeStCuFALOe",
        "outputId": "8b4aff3e-b17c-4d40-c83e-c3747ba8eaad"
      },
      "outputs": [
        {
          "name": "stdout",
          "output_type": "stream",
          "text": [
            "The dataset we have has the following shape: (1293, 20, 2048)\n"
          ]
        }
      ],
      "source": [
        "print(f\"The dataset we have has the following shape: {videos_frames_features.shape}\")"
      ]
    },
    {
      "cell_type": "markdown",
      "metadata": {},
      "source": [
        "## 2.3 Encode labels using labelencoder\n",
        "Replace activity labels (Pushups, ApplyEyeMakeup,...etc) by integers."
      ]
    },
    {
      "cell_type": "code",
      "execution_count": 48,
      "metadata": {},
      "outputs": [
        {
          "name": "stdout",
          "output_type": "stream",
          "text": [
            "['ApplyEyeMakeup', 'BabyCrawling', 'Biking', 'Billiards', 'BrushingTeeth', 'PizzaTossing', 'PushUps', 'Swing', 'TrampolineJumping', 'Typing']\n"
          ]
        }
      ],
      "source": [
        "label_processor = tf.keras.layers.StringLookup(num_oov_indices=0, vocabulary=np.unique(dataset[\"Label\"]))\n",
        "print(label_processor.get_vocabulary())\n",
        "\n",
        "labels = dataset[\"Label\"].values\n",
        "labels = label_processor(labels[..., None]).numpy()"
      ]
    },
    {
      "cell_type": "markdown",
      "metadata": {
        "id": "atqJMW2EX2wr"
      },
      "source": [
        "## 2.4 Divide the data into train and test"
      ]
    },
    {
      "cell_type": "code",
      "execution_count": 50,
      "metadata": {},
      "outputs": [],
      "source": [
        "#define all the variables to be used\n",
        "N = dataset.shape[0]\n",
        "N_CLASSES = np.unique(dataset[\"Label\"])\n",
        "X_train, X_test, y_train, y_test = train_test_split(\n",
        "    videos_frames_features,labels,\n",
        "    test_size=TEST_SIZE_RATIO,random_state=N)"
      ]
    },
    {
      "cell_type": "code",
      "execution_count": 69,
      "metadata": {
        "colab": {
          "base_uri": "https://localhost:8080/",
          "height": 487
        },
        "id": "Q-wyVol3a77h",
        "outputId": "cc13c377-786d-4829-81a2-85275625d67a"
      },
      "outputs": [
        {
          "data": {
            "image/png": "[encoded data removed]",
            "text/plain": [
              "<Figure size 800x800 with 2 Axes>"
            ]
          },
          "metadata": {},
          "output_type": "display_data"
        }
      ],
      "source": [
        "plt.figure(figsize=(8,8))\n",
        "\n",
        "dataset_train,dataset_test = train_test_split(dataset,test_size=TEST_SIZE_RATIO,random_state=N)\n",
        "#first subplot\n",
        "plt.subplot(121)\n",
        "plt.title(\"# of Videos per class - Training set\")\n",
        "ax1 = sns.countplot(data=dataset_train,y='Label',palette=\"tab10\",\n",
        "                    order=dataset_train['Label'].value_counts(ascending=False).index);\n",
        "plt.xticks(rotation=90)\n",
        "\n",
        "#second subplot\n",
        "plt.subplot(122)\n",
        "plt.title(\"# of Videos per class - Test set\")\n",
        "ax2 = sns.countplot(data=dataset_test,y='Label',palette=\"tab10\",\n",
        "                    order=dataset_test['Label'].value_counts(ascending=False).index)\n",
        "plt.xticks(rotation=90)\n",
        "plt.tight_layout()\n",
        "for i,j in zip(ax1.containers,ax2.containers):\n",
        "    ax1.bar_label(i)\n",
        "    ax2.bar_label(j)\n"
      ]
    },
    {
      "cell_type": "markdown",
      "metadata": {
        "id": "oH0IB5LraxPj"
      },
      "source": [
        "## 2.5 Apply everything defined so far"
      ]
    },
    {
      "cell_type": "code",
      "execution_count": 47,
      "metadata": {
        "colab": {
          "base_uri": "https://localhost:8080/"
        },
        "id": "dv8sUewjs-F7",
        "outputId": "d8e53fbb-6944-42c0-d3bc-0650c0b83e27"
      },
      "outputs": [
        {
          "name": "stdout",
          "output_type": "stream",
          "text": [
            "Written object\n"
          ]
        }
      ],
      "source": [
        "# Serialization to avoid preparing the data after each run\n",
        "#since it's time and resouces consuming\n",
        "with open(\"models/video_frames_features.pickle\", \"wb\") as outfile:\n",
        "    pickle.dump(videos_frames_features, outfile)\n",
        "print(\"Written object\")\n"
      ]
    },
    {
      "cell_type": "code",
      "execution_count": null,
      "metadata": {
        "colab": {
          "base_uri": "https://localhost:8080/"
        },
        "id": "qm101AUetDmQ",
        "outputId": "cce7e55e-cdfd-4837-d489-a20960f359a9"
      },
      "outputs": [
        {
          "name": "stdout",
          "output_type": "stream",
          "text": [
            "Read objects\n"
          ]
        }
      ],
      "source": [
        "# DeSerialization\n",
        "with open(\"models/video_frames_features.pickle.pickle\", \"rb\") as infile:\n",
        "  video_frames_features = pickle.load(infile)\n",
        "print(\"Read object\")"
      ]
    },
    {
      "cell_type": "code",
      "execution_count": 106,
      "metadata": {
        "id": "2fbnTK2Rm4VP"
      },
      "outputs": [],
      "source": [
        "class custGRU(keras.Model):\n",
        "    def __init__(self,units_1=16,units_2=8,activation=\"relu\",dropout=0.4,max_seq_length=MAX_SEQ_LENGTH,num_features=NUM_FEATURES,n_classes=N_CLASSES):\n",
        "        super(custGRU,self).__init__()\n",
        "        self.units_1 = units_1\n",
        "        self.units_2 = units_2\n",
        "        self.activation = activation\n",
        "        self.dropout = dropout\n",
        "        self.max_seq_length = max_seq_length\n",
        "        self.num_features = num_features\n",
        "        self.frame_features_input = keras.Input((self.max_seq_length, self.num_features))\n",
        "        self.n_classes= n_classes\n",
        "\n",
        "    def call(self):\n",
        "        x = keras.layers.GRU(\n",
        "            self.units_1,return_sequences=True)(self.frame_features_input)\n",
        "        x = keras.layers.GRU(self.units_2)(x)\n",
        "        x = keras.layers.dropout(self.dropout)(x)\n",
        "        x = keras.layers.Dense(self.units_2,activation=self.activation)(x)\n",
        "        x = keras.layers.Dense(self.n_classes, activation=\"softmax\")(x)\n",
        "        return x"
      ]
    },
    {
      "cell_type": "code",
      "execution_count": 102,
      "metadata": {
        "id": "iLqYWBGSnyRo"
      },
      "outputs": [],
      "source": [
        "gru = custGRU()"
      ]
    },
    {
      "cell_type": "code",
      "execution_count": null,
      "metadata": {
        "colab": {
          "base_uri": "https://localhost:8080/",
          "height": 496
        },
        "id": "UDJWCAXBn_Mx",
        "outputId": "de70ade8-b848-4400-901a-abba35e5ef63"
      },
      "outputs": [],
      "source": [
        "gru.compile(loss=\"sparse_categorical_crossentropy\", optimizer=\"adam\", metrics=[\"accuracy\"])\n",
        "gru.fit(\n",
        "        train_data[0],\n",
        "        train_labels,\n",
        "        validation_split=0.3,\n",
        "        epochs=EPOCHS,\n",
        ")\n"
      ]
    },
    {
      "cell_type": "markdown",
      "metadata": {
        "id": "Vm8JXZmdoy0v"
      },
      "source": [
        "# **3.Training sequence models**"
      ]
    },
    {
      "cell_type": "markdown",
      "metadata": {
        "id": "m-jm4H8OeUFG"
      },
      "source": [
        "Create some utility functions to be used later on"
      ]
    },
    {
      "cell_type": "code",
      "execution_count": 70,
      "metadata": {
        "id": "zymQErnieeBP"
      },
      "outputs": [],
      "source": [
        "MODEL_dict = {\"GRU\":keras.layers.GRU,\"LSTM\":keras.layers.LSTM}"
      ]
    },
    {
      "cell_type": "code",
      "execution_count": 88,
      "metadata": {
        "id": "_0rv-cpFebQ3"
      },
      "outputs": [],
      "source": [
        "def get_sequence_model(model: str, label_processor=label_processor, models_dict=MODEL_dict)->keras.Model:\n",
        "    \"\"\"\n",
        "    Generates a sequence model based on the specified architecture.\n",
        "\n",
        "    Parameters:\n",
        "    - model (str): Name of the model architecture t be built.\n",
        "    - label_processor: Label preprocessor object.\n",
        "    - models_dict: Dictionary containing available model architectures.\n",
        "\n",
        "    Returns:\n",
        "    - Model: Compiled sequence model for training.\n",
        "    \"\"\"\n",
        "    class_vocab = label_processor.get_vocabulary()\n",
        "\n",
        "    frame_features_input = keras.Input((MAX_SEQ_LENGTH, NUM_FEATURES))\n",
        "    #mask_input = keras.Input((MAX_SEQ_LENGTH,), dtype=\"bool\")\n",
        "\n",
        "    #building the Model\n",
        "    if model == \"BILSTM\":\n",
        "          x = keras.layers.Bidirectional(keras.layers.LSTM(16, return_sequences=True))(frame_features_input)\n",
        "          x = keras.layers.Bidirectional(keras.layers.LSTM(8))(x)\n",
        "    else:\n",
        "          x = models_dict[model](16, return_sequences=True)(frame_features_input)\n",
        "          x = models_dict[model](8)(x)\n",
        "    x = keras.layers.Dropout(0.4)(x)\n",
        "    x = keras.layers.Dense(8, activation=\"relu\")(x)\n",
        "    output = keras.layers.Dense(len(class_vocab), activation=\"softmax\")(x)\n",
        "\n",
        "    seq_model = keras.Model(frame_features_input, output)\n",
        "\n",
        "    seq_model.compile(\n",
        "        loss=\"sparse_categorical_crossentropy\", optimizer=\"adam\", metrics=[\"accuracy\"]\n",
        "    )\n",
        "    return seq_model\n",
        "\n",
        "\n",
        "#training function\n",
        "\n",
        "\n",
        "def run_experiment(model: str, epochs: int = EPOCHS) -> Tuple[keras.callbacks.History, keras.Model]:\n",
        "    \"\"\"\n",
        "    Trains a sequence model based on the specified architecture and runs an experiment.\n",
        "\n",
        "    parameters:\n",
        "    - model (str): Name of the model architecture.\n",
        "    - epochs (int): Number of epochs for training (default: EPOCHS).\n",
        "\n",
        "    Returns:\n",
        "    - Tuple[keras.callbacks.History, keras.Model]: Training history and trained model.\n",
        "    \"\"\"\n",
        "    filepath =  \"models/\"+model + \"_classifier\"\n",
        "    checkpoint = keras.callbacks.ModelCheckpoint(\n",
        "        filepath, save_weights_only=True, save_best_only=True, verbose=0\n",
        "    )\n",
        "\n",
        "    seq_model = get_sequence_model(model)\n",
        "\n",
        "    history = seq_model.fit(\n",
        "        X_train,\n",
        "        y_train,\n",
        "        validation_split=0.3,\n",
        "        epochs=epochs,\n",
        "        callbacks=[checkpoint],\n",
        "    )\n",
        "\n",
        "\n",
        "    seq_model.load_weights(filepath)\n",
        "    _, acc = seq_model.evaluate(X_test,y_test)\n",
        "    print(f\"Test accuracy: {round(acc * 100, 2)}%\")\n",
        "\n",
        "    return history, seq_model\n"
      ]
    },
    {
      "cell_type": "markdown",
      "metadata": {
        "id": "XUtM_8IKaKpU"
      },
      "source": [
        "## 3.1 GRU"
      ]
    },
    {
      "cell_type": "code",
      "execution_count": 72,
      "metadata": {
        "colab": {
          "base_uri": "https://localhost:8080/"
        },
        "id": "I8w7T6-Co1xg",
        "outputId": "c2400ad6-15ed-4177-b156-97112bc6e2b2"
      },
      "outputs": [
        {
          "name": "stdout",
          "output_type": "stream",
          "text": [
            "Model: \"model\"\n",
            "_________________________________________________________________\n",
            " Layer (type)                Output Shape              Param #   \n",
            "=================================================================\n",
            " input_9 (InputLayer)        [(None, 20, 2048)]        0         \n",
            "                                                                 \n",
            " gru (GRU)                   (None, 20, 16)            99168     \n",
            "                                                                 \n",
            " gru_1 (GRU)                 (None, 8)                 624       \n",
            "                                                                 \n",
            " dropout (Dropout)           (None, 8)                 0         \n",
            "                                                                 \n",
            " dense (Dense)               (None, 8)                 72        \n",
            "                                                                 \n",
            " dense_1 (Dense)             (None, 10)                90        \n",
            "                                                                 \n",
            "=================================================================\n",
            "Total params: 99954 (390.45 KB)\n",
            "Trainable params: 99954 (390.45 KB)\n",
            "Non-trainable params: 0 (0.00 Byte)\n",
            "_________________________________________________________________\n",
            "None\n"
          ]
        }
      ],
      "source": [
        "gru_model = get_sequence_model(\"GRU\")\n",
        "print(gru_model.summary())\n"
      ]
    },
    {
      "cell_type": "code",
      "execution_count": 75,
      "metadata": {
        "colab": {
          "base_uri": "https://localhost:8080/"
        },
        "id": "sF9TzEz9_7V9",
        "outputId": "3feeed0e-0087-4df3-e151-f8cc3e94f8b8"
      },
      "outputs": [
        {
          "name": "stdout",
          "output_type": "stream",
          "text": [
            "Epoch 1/40\n",
            "23/23 [==============================] - 4s 50ms/step - loss: 2.1322 - accuracy: 0.1853 - val_loss: 1.9276 - val_accuracy: 0.2476\n",
            "Epoch 2/40\n",
            "23/23 [==============================] - 1s 23ms/step - loss: 1.9027 - accuracy: 0.2918 - val_loss: 1.7842 - val_accuracy: 0.4405\n",
            "Epoch 3/40\n",
            "23/23 [==============================] - 0s 21ms/step - loss: 1.7966 - accuracy: 0.3306 - val_loss: 1.6567 - val_accuracy: 0.4630\n",
            "Epoch 4/40\n",
            "23/23 [==============================] - 0s 22ms/step - loss: 1.6869 - accuracy: 0.3970 - val_loss: 1.5210 - val_accuracy: 0.5080\n",
            "Epoch 5/40\n",
            "23/23 [==============================] - 1s 22ms/step - loss: 1.5590 - accuracy: 0.4772 - val_loss: 1.4537 - val_accuracy: 0.5338\n",
            "Epoch 6/40\n",
            "23/23 [==============================] - 0s 20ms/step - loss: 1.4300 - accuracy: 0.5242 - val_loss: 1.3420 - val_accuracy: 0.6849\n",
            "Epoch 7/40\n",
            "23/23 [==============================] - 0s 21ms/step - loss: 1.3801 - accuracy: 0.5297 - val_loss: 1.2656 - val_accuracy: 0.7138\n",
            "Epoch 8/40\n",
            "23/23 [==============================] - 1s 22ms/step - loss: 1.3075 - accuracy: 0.5823 - val_loss: 1.1754 - val_accuracy: 0.7106\n",
            "Epoch 9/40\n",
            "23/23 [==============================] - 0s 22ms/step - loss: 1.2120 - accuracy: 0.6155 - val_loss: 1.0976 - val_accuracy: 0.7588\n",
            "Epoch 10/40\n",
            "23/23 [==============================] - 0s 21ms/step - loss: 1.1194 - accuracy: 0.6888 - val_loss: 1.0214 - val_accuracy: 0.7781\n",
            "Epoch 11/40\n",
            "23/23 [==============================] - 0s 20ms/step - loss: 1.0513 - accuracy: 0.7026 - val_loss: 0.9463 - val_accuracy: 0.8135\n",
            "Epoch 12/40\n",
            "23/23 [==============================] - 0s 22ms/step - loss: 1.0321 - accuracy: 0.6763 - val_loss: 0.8928 - val_accuracy: 0.8392\n",
            "Epoch 13/40\n",
            "23/23 [==============================] - 0s 20ms/step - loss: 0.9557 - accuracy: 0.7137 - val_loss: 0.8785 - val_accuracy: 0.8360\n",
            "Epoch 14/40\n",
            "23/23 [==============================] - 0s 20ms/step - loss: 0.9323 - accuracy: 0.7248 - val_loss: 0.8057 - val_accuracy: 0.8875\n",
            "Epoch 15/40\n",
            "23/23 [==============================] - 0s 21ms/step - loss: 0.8681 - accuracy: 0.7386 - val_loss: 0.7276 - val_accuracy: 0.8939\n",
            "Epoch 16/40\n",
            "23/23 [==============================] - 1s 23ms/step - loss: 0.8009 - accuracy: 0.7981 - val_loss: 0.6836 - val_accuracy: 0.8810\n",
            "Epoch 17/40\n",
            "23/23 [==============================] - 0s 22ms/step - loss: 0.7357 - accuracy: 0.8008 - val_loss: 0.6264 - val_accuracy: 0.9003\n",
            "Epoch 18/40\n",
            "23/23 [==============================] - 0s 20ms/step - loss: 0.7207 - accuracy: 0.8285 - val_loss: 0.6012 - val_accuracy: 0.9100\n",
            "Epoch 19/40\n",
            "23/23 [==============================] - 0s 21ms/step - loss: 0.6897 - accuracy: 0.8299 - val_loss: 0.5846 - val_accuracy: 0.8907\n",
            "Epoch 20/40\n",
            "23/23 [==============================] - 1s 22ms/step - loss: 0.6702 - accuracy: 0.8230 - val_loss: 0.5294 - val_accuracy: 0.8971\n",
            "Epoch 21/40\n",
            "23/23 [==============================] - 0s 21ms/step - loss: 0.6422 - accuracy: 0.8202 - val_loss: 0.4943 - val_accuracy: 0.8875\n",
            "Epoch 22/40\n",
            "23/23 [==============================] - 0s 19ms/step - loss: 0.6297 - accuracy: 0.8271 - val_loss: 0.4952 - val_accuracy: 0.9035\n",
            "Epoch 23/40\n",
            "23/23 [==============================] - 0s 21ms/step - loss: 0.6025 - accuracy: 0.8105 - val_loss: 0.4770 - val_accuracy: 0.8810\n",
            "Epoch 24/40\n",
            "23/23 [==============================] - 0s 19ms/step - loss: 0.6104 - accuracy: 0.7967 - val_loss: 0.4949 - val_accuracy: 0.8842\n",
            "Epoch 25/40\n",
            "23/23 [==============================] - 0s 20ms/step - loss: 0.5502 - accuracy: 0.8520 - val_loss: 0.4599 - val_accuracy: 0.8971\n",
            "Epoch 26/40\n",
            "23/23 [==============================] - 1s 22ms/step - loss: 0.5642 - accuracy: 0.8147 - val_loss: 0.4526 - val_accuracy: 0.8971\n",
            "Epoch 27/40\n",
            "23/23 [==============================] - 1s 22ms/step - loss: 0.5355 - accuracy: 0.8340 - val_loss: 0.4303 - val_accuracy: 0.9132\n",
            "Epoch 28/40\n",
            "23/23 [==============================] - 0s 19ms/step - loss: 0.5526 - accuracy: 0.8105 - val_loss: 0.4429 - val_accuracy: 0.8939\n",
            "Epoch 29/40\n",
            "23/23 [==============================] - 0s 21ms/step - loss: 0.5499 - accuracy: 0.8036 - val_loss: 0.4627 - val_accuracy: 0.8939\n",
            "Epoch 30/40\n",
            "23/23 [==============================] - 0s 20ms/step - loss: 0.5550 - accuracy: 0.8147 - val_loss: 0.4464 - val_accuracy: 0.9068\n",
            "Epoch 31/40\n",
            "23/23 [==============================] - 1s 22ms/step - loss: 0.5527 - accuracy: 0.8091 - val_loss: 0.4649 - val_accuracy: 0.8842\n",
            "Epoch 32/40\n",
            "23/23 [==============================] - 0s 21ms/step - loss: 0.4842 - accuracy: 0.8340 - val_loss: 0.3766 - val_accuracy: 0.9357\n",
            "Epoch 33/40\n",
            "23/23 [==============================] - 1s 25ms/step - loss: 0.4443 - accuracy: 0.8686 - val_loss: 0.3832 - val_accuracy: 0.9228\n",
            "Epoch 34/40\n",
            "23/23 [==============================] - 1s 28ms/step - loss: 0.4594 - accuracy: 0.8534 - val_loss: 0.3522 - val_accuracy: 0.9196\n",
            "Epoch 35/40\n",
            "23/23 [==============================] - 1s 23ms/step - loss: 0.4254 - accuracy: 0.8562 - val_loss: 0.4807 - val_accuracy: 0.9003\n",
            "Epoch 36/40\n",
            "23/23 [==============================] - 1s 22ms/step - loss: 0.5064 - accuracy: 0.8230 - val_loss: 0.3622 - val_accuracy: 0.9164\n",
            "Epoch 37/40\n",
            "23/23 [==============================] - 1s 22ms/step - loss: 0.4417 - accuracy: 0.8465 - val_loss: 0.5048 - val_accuracy: 0.8778\n",
            "Epoch 38/40\n",
            "23/23 [==============================] - 1s 22ms/step - loss: 0.5396 - accuracy: 0.7953 - val_loss: 0.4770 - val_accuracy: 0.8939\n",
            "Epoch 39/40\n",
            "23/23 [==============================] - 1s 23ms/step - loss: 0.5508 - accuracy: 0.8036 - val_loss: 0.4040 - val_accuracy: 0.9068\n",
            "Epoch 40/40\n",
            "23/23 [==============================] - 1s 23ms/step - loss: 0.5052 - accuracy: 0.8160 - val_loss: 0.3609 - val_accuracy: 0.8907\n",
            "9/9 [==============================] - 0s 6ms/step - loss: 0.3815 - accuracy: 0.8958\n",
            "Test accuracy: 89.58%\n",
            "Training took 23.929386138916016 s\n"
          ]
        }
      ],
      "source": [
        "t1 = time.time()\n",
        "_, gru_model = run_experiment(\"GRU\")\n",
        "gru_t2 = time.time() - t1\n",
        "print(f\"Training took {gru_t2} s\")"
      ]
    },
    {
      "cell_type": "markdown",
      "metadata": {
        "id": "-fPZhM-apRqY"
      },
      "source": [
        "**Prediction**"
      ]
    },
    {
      "cell_type": "code",
      "execution_count": 76,
      "metadata": {
        "colab": {
          "base_uri": "https://localhost:8080/"
        },
        "id": "vlBn6ga5gfR_",
        "outputId": "ed89ba86-1afa-4e7a-bf7f-d8a6a8138d85"
      },
      "outputs": [
        {
          "name": "stdout",
          "output_type": "stream",
          "text": [
            "9/9 [==============================] - 1s 9ms/step\n",
            "              precision    recall  f1-score   support\n",
            "\n",
            "           0       1.00      0.95      0.97        37\n",
            "           1       0.85      0.65      0.73        34\n",
            "           2       0.88      1.00      0.94        23\n",
            "           3       0.97      1.00      0.98        29\n",
            "           4       0.95      0.90      0.93        21\n",
            "           5       0.80      0.62      0.70        26\n",
            "           6       1.00      0.96      0.98        23\n",
            "           7       0.85      1.00      0.92        23\n",
            "           8       0.96      1.00      0.98        22\n",
            "           9       0.70      1.00      0.82        21\n",
            "\n",
            "    accuracy                           0.90       259\n",
            "   macro avg       0.90      0.91      0.89       259\n",
            "weighted avg       0.90      0.90      0.89       259\n",
            "\n"
          ]
        }
      ],
      "source": [
        "y_pred = gru_model.predict(X_test)\n",
        "print(classification_report(y_test,np.argmax(y_pred,axis=1)))"
      ]
    },
    {
      "cell_type": "code",
      "execution_count": 77,
      "metadata": {
        "colab": {
          "base_uri": "https://localhost:8080/",
          "height": 447
        },
        "id": "zm76olGg_H6p",
        "outputId": "20008afd-9057-460b-a367-5bcc64763229"
      },
      "outputs": [
        {
          "data": {
            "text/plain": [
              "<Axes: >"
            ]
          },
          "execution_count": 77,
          "metadata": {},
          "output_type": "execute_result"
        },
        {
          "data": {
            "image/png": "[encoded data removed]",
            "text/plain": [
              "<Figure size 640x480 with 2 Axes>"
            ]
          },
          "metadata": {},
          "output_type": "display_data"
        }
      ],
      "source": [
        "#confusion matrix\n",
        "sns.heatmap(confusion_matrix(y_test,np.argmax(y_pred,axis=1)),cmap=\"viridis\")"
      ]
    },
    {
      "cell_type": "markdown",
      "metadata": {
        "id": "RIcKpHpa3Y9A"
      },
      "source": [
        "## 3.2 LSTM  "
      ]
    },
    {
      "cell_type": "code",
      "execution_count": 78,
      "metadata": {
        "colab": {
          "base_uri": "https://localhost:8080/"
        },
        "id": "m79m_vox3qXu",
        "outputId": "7cc1afec-6eb5-4324-c436-2af358e52e95"
      },
      "outputs": [
        {
          "name": "stdout",
          "output_type": "stream",
          "text": [
            "Model: \"model_3\"\n",
            "_________________________________________________________________\n",
            " Layer (type)                Output Shape              Param #   \n",
            "=================================================================\n",
            " input_12 (InputLayer)       [(None, 20, 2048)]        0         \n",
            "                                                                 \n",
            " lstm (LSTM)                 (None, 20, 16)            132160    \n",
            "                                                                 \n",
            " lstm_1 (LSTM)               (None, 8)                 800       \n",
            "                                                                 \n",
            " dropout_3 (Dropout)         (None, 8)                 0         \n",
            "                                                                 \n",
            " dense_6 (Dense)             (None, 8)                 72        \n",
            "                                                                 \n",
            " dense_7 (Dense)             (None, 10)                90        \n",
            "                                                                 \n",
            "=================================================================\n",
            "Total params: 133122 (520.01 KB)\n",
            "Trainable params: 133122 (520.01 KB)\n",
            "Non-trainable params: 0 (0.00 Byte)\n",
            "_________________________________________________________________\n",
            "None\n"
          ]
        }
      ],
      "source": [
        "lstm_model = get_sequence_model(\"LSTM\")\n",
        "print(lstm_model.summary())"
      ]
    },
    {
      "cell_type": "code",
      "execution_count": 79,
      "metadata": {
        "colab": {
          "base_uri": "https://localhost:8080/"
        },
        "id": "nNZK68M1krke",
        "outputId": "4da69f7e-43e2-4f29-cc14-d5e914314688"
      },
      "outputs": [
        {
          "name": "stdout",
          "output_type": "stream",
          "text": [
            "Epoch 1/40\n",
            "23/23 [==============================] - 4s 54ms/step - loss: 2.2492 - accuracy: 0.1770 - val_loss: 2.1729 - val_accuracy: 0.1608\n",
            "Epoch 2/40\n",
            "23/23 [==============================] - 0s 22ms/step - loss: 2.1403 - accuracy: 0.1992 - val_loss: 2.0795 - val_accuracy: 0.2637\n",
            "Epoch 3/40\n",
            "23/23 [==============================] - 0s 20ms/step - loss: 2.0611 - accuracy: 0.2503 - val_loss: 1.9861 - val_accuracy: 0.3987\n",
            "Epoch 4/40\n",
            "23/23 [==============================] - 1s 24ms/step - loss: 1.9301 - accuracy: 0.3665 - val_loss: 1.8271 - val_accuracy: 0.4791\n",
            "Epoch 5/40\n",
            "23/23 [==============================] - 1s 23ms/step - loss: 1.8089 - accuracy: 0.4177 - val_loss: 1.6866 - val_accuracy: 0.5016\n",
            "Epoch 6/40\n",
            "23/23 [==============================] - 1s 24ms/step - loss: 1.7139 - accuracy: 0.4509 - val_loss: 1.5424 - val_accuracy: 0.5305\n",
            "Epoch 7/40\n",
            "23/23 [==============================] - 1s 28ms/step - loss: 1.5813 - accuracy: 0.5090 - val_loss: 1.4658 - val_accuracy: 0.5338\n",
            "Epoch 8/40\n",
            "23/23 [==============================] - 1s 27ms/step - loss: 1.5022 - accuracy: 0.5422 - val_loss: 1.3171 - val_accuracy: 0.7074\n",
            "Epoch 9/40\n",
            "23/23 [==============================] - 1s 25ms/step - loss: 1.3617 - accuracy: 0.6127 - val_loss: 1.3164 - val_accuracy: 0.6945\n",
            "Epoch 10/40\n",
            "23/23 [==============================] - 1s 23ms/step - loss: 1.3227 - accuracy: 0.6044 - val_loss: 1.1527 - val_accuracy: 0.7235\n",
            "Epoch 11/40\n",
            "23/23 [==============================] - 1s 24ms/step - loss: 1.2266 - accuracy: 0.6362 - val_loss: 1.0956 - val_accuracy: 0.7331\n",
            "Epoch 12/40\n",
            "23/23 [==============================] - 0s 21ms/step - loss: 1.2008 - accuracy: 0.6625 - val_loss: 0.9591 - val_accuracy: 0.8489\n",
            "Epoch 13/40\n",
            "23/23 [==============================] - 0s 19ms/step - loss: 1.1745 - accuracy: 0.6542 - val_loss: 0.9446 - val_accuracy: 0.8682\n",
            "Epoch 14/40\n",
            "23/23 [==============================] - 0s 20ms/step - loss: 1.1376 - accuracy: 0.6362 - val_loss: 0.9026 - val_accuracy: 0.8650\n",
            "Epoch 15/40\n",
            "23/23 [==============================] - 0s 20ms/step - loss: 1.0347 - accuracy: 0.6667 - val_loss: 0.8234 - val_accuracy: 0.8778\n",
            "Epoch 16/40\n",
            "23/23 [==============================] - 0s 19ms/step - loss: 0.9298 - accuracy: 0.7151 - val_loss: 0.6959 - val_accuracy: 0.9325\n",
            "Epoch 17/40\n",
            "23/23 [==============================] - 0s 20ms/step - loss: 0.8674 - accuracy: 0.7386 - val_loss: 0.6285 - val_accuracy: 0.9486\n",
            "Epoch 18/40\n",
            "23/23 [==============================] - 0s 19ms/step - loss: 0.8524 - accuracy: 0.7469 - val_loss: 0.7020 - val_accuracy: 0.8939\n",
            "Epoch 19/40\n",
            "23/23 [==============================] - 0s 18ms/step - loss: 0.7513 - accuracy: 0.7815 - val_loss: 0.6340 - val_accuracy: 0.8939\n",
            "Epoch 20/40\n",
            "23/23 [==============================] - 0s 18ms/step - loss: 0.7585 - accuracy: 0.7773 - val_loss: 0.5536 - val_accuracy: 0.9518\n",
            "Epoch 21/40\n",
            "23/23 [==============================] - 0s 20ms/step - loss: 0.7642 - accuracy: 0.7773 - val_loss: 0.8139 - val_accuracy: 0.8392\n",
            "Epoch 22/40\n",
            "23/23 [==============================] - 0s 21ms/step - loss: 0.7597 - accuracy: 0.7676 - val_loss: 0.5679 - val_accuracy: 0.8810\n",
            "Epoch 23/40\n",
            "23/23 [==============================] - 0s 22ms/step - loss: 0.6929 - accuracy: 0.7884 - val_loss: 0.5230 - val_accuracy: 0.9293\n",
            "Epoch 24/40\n",
            "23/23 [==============================] - 0s 20ms/step - loss: 0.6178 - accuracy: 0.8230 - val_loss: 0.4726 - val_accuracy: 0.9260\n",
            "Epoch 25/40\n",
            "23/23 [==============================] - 1s 24ms/step - loss: 0.5697 - accuracy: 0.8423 - val_loss: 0.4220 - val_accuracy: 0.9486\n",
            "Epoch 26/40\n",
            "23/23 [==============================] - 1s 22ms/step - loss: 0.6287 - accuracy: 0.7898 - val_loss: 0.4637 - val_accuracy: 0.9357\n",
            "Epoch 27/40\n",
            "23/23 [==============================] - 1s 22ms/step - loss: 0.6048 - accuracy: 0.8160 - val_loss: 0.4683 - val_accuracy: 0.9100\n",
            "Epoch 28/40\n",
            "23/23 [==============================] - 1s 26ms/step - loss: 0.5593 - accuracy: 0.8409 - val_loss: 0.4171 - val_accuracy: 0.9486\n",
            "Epoch 29/40\n",
            "23/23 [==============================] - 1s 26ms/step - loss: 0.5260 - accuracy: 0.8437 - val_loss: 0.3829 - val_accuracy: 0.9486\n",
            "Epoch 30/40\n",
            "23/23 [==============================] - 0s 22ms/step - loss: 0.5404 - accuracy: 0.8382 - val_loss: 0.4070 - val_accuracy: 0.9357\n",
            "Epoch 31/40\n",
            "23/23 [==============================] - 0s 21ms/step - loss: 0.6055 - accuracy: 0.8230 - val_loss: 0.5488 - val_accuracy: 0.8682\n",
            "Epoch 32/40\n",
            "23/23 [==============================] - 1s 22ms/step - loss: 0.5396 - accuracy: 0.8299 - val_loss: 0.3693 - val_accuracy: 0.9421\n",
            "Epoch 33/40\n",
            "23/23 [==============================] - 1s 23ms/step - loss: 0.5561 - accuracy: 0.8091 - val_loss: 0.4681 - val_accuracy: 0.8939\n",
            "Epoch 34/40\n",
            "23/23 [==============================] - 1s 23ms/step - loss: 0.5492 - accuracy: 0.8340 - val_loss: 0.3970 - val_accuracy: 0.9132\n",
            "Epoch 35/40\n",
            "23/23 [==============================] - 0s 19ms/step - loss: 0.5411 - accuracy: 0.8340 - val_loss: 0.3926 - val_accuracy: 0.9228\n",
            "Epoch 36/40\n",
            "23/23 [==============================] - 0s 20ms/step - loss: 0.4771 - accuracy: 0.8451 - val_loss: 0.3516 - val_accuracy: 0.9453\n",
            "Epoch 37/40\n",
            "23/23 [==============================] - 0s 21ms/step - loss: 0.4896 - accuracy: 0.8299 - val_loss: 0.3447 - val_accuracy: 0.9486\n",
            "Epoch 38/40\n",
            "23/23 [==============================] - 0s 21ms/step - loss: 0.4640 - accuracy: 0.8506 - val_loss: 0.3406 - val_accuracy: 0.9582\n",
            "Epoch 39/40\n",
            "23/23 [==============================] - 0s 19ms/step - loss: 0.5066 - accuracy: 0.8326 - val_loss: 0.4321 - val_accuracy: 0.8585\n",
            "Epoch 40/40\n",
            "23/23 [==============================] - 0s 20ms/step - loss: 0.4741 - accuracy: 0.8451 - val_loss: 0.3290 - val_accuracy: 0.9389\n",
            "9/9 [==============================] - 0s 7ms/step - loss: 0.3360 - accuracy: 0.9344\n",
            "Test accuracy: 93.44%\n",
            "Training of LSTM took 24.087862014770508\n"
          ]
        }
      ],
      "source": [
        "t1 = time.time()\n",
        "_, lstm_model = run_experiment(\"LSTM\")\n",
        "lstm_t2 = time.time() - t1\n",
        "print(f\"Training of LSTM took {lstm_t2}\")"
      ]
    },
    {
      "cell_type": "code",
      "execution_count": 81,
      "metadata": {
        "colab": {
          "base_uri": "https://localhost:8080/"
        },
        "id": "RbeiOQZ6eSkc",
        "outputId": "49d6de20-897b-4749-c861-e2e0ea7456ef"
      },
      "outputs": [
        {
          "name": "stdout",
          "output_type": "stream",
          "text": [
            "9/9 [==============================] - 0s 7ms/step\n",
            "              precision    recall  f1-score   support\n",
            "\n",
            "           0       0.95      0.95      0.95        37\n",
            "           1       0.97      0.82      0.89        34\n",
            "           2       1.00      1.00      1.00        23\n",
            "           3       1.00      1.00      1.00        29\n",
            "           4       0.66      0.90      0.76        21\n",
            "           5       1.00      0.92      0.96        26\n",
            "           6       0.86      0.83      0.84        23\n",
            "           7       0.96      1.00      0.98        23\n",
            "           8       1.00      0.95      0.98        22\n",
            "           9       1.00      1.00      1.00        21\n",
            "\n",
            "    accuracy                           0.93       259\n",
            "   macro avg       0.94      0.94      0.94       259\n",
            "weighted avg       0.94      0.93      0.94       259\n",
            "\n"
          ]
        }
      ],
      "source": [
        "y_pred_lstm = lstm_model.predict(X_test)\n",
        "print(classification_report(y_test,np.argmax(y_pred_lstm,axis=1)))"
      ]
    },
    {
      "cell_type": "code",
      "execution_count": 82,
      "metadata": {
        "colab": {
          "base_uri": "https://localhost:8080/",
          "height": 447
        },
        "id": "kQSrot4u_d4_",
        "outputId": "115a674f-08b6-4b37-a491-bcf62c6ce71f"
      },
      "outputs": [
        {
          "data": {
            "text/plain": [
              "<Axes: >"
            ]
          },
          "execution_count": 82,
          "metadata": {},
          "output_type": "execute_result"
        },
        {
          "data": {
            "image/png": "[encoded data removed]",
            "text/plain": [
              "<Figure size 640x480 with 2 Axes>"
            ]
          },
          "metadata": {},
          "output_type": "display_data"
        }
      ],
      "source": [
        "#confusion matrix\n",
        "sns.heatmap(confusion_matrix(y_test,np.argmax(y_pred_lstm,axis=1)),cmap=\"viridis\")"
      ]
    },
    {
      "cell_type": "markdown",
      "metadata": {
        "id": "y9_9O88R5PId"
      },
      "source": [
        "## 3.3 BI-LSTM"
      ]
    },
    {
      "cell_type": "code",
      "execution_count": 83,
      "metadata": {
        "colab": {
          "base_uri": "https://localhost:8080/"
        },
        "id": "cAKdWEuEl5Gr",
        "outputId": "8b1fe321-5c0e-4134-f8cd-0d91ab1c407c"
      },
      "outputs": [
        {
          "name": "stdout",
          "output_type": "stream",
          "text": [
            "Model: \"model_5\"\n",
            "_________________________________________________________________\n",
            " Layer (type)                Output Shape              Param #   \n",
            "=================================================================\n",
            " input_14 (InputLayer)       [(None, 20, 2048)]        0         \n",
            "                                                                 \n",
            " bidirectional (Bidirection  (None, 20, 32)            264320    \n",
            " al)                                                             \n",
            "                                                                 \n",
            " bidirectional_1 (Bidirecti  (None, 16)                2624      \n",
            " onal)                                                           \n",
            "                                                                 \n",
            " dropout_5 (Dropout)         (None, 16)                0         \n",
            "                                                                 \n",
            " dense_10 (Dense)            (None, 8)                 136       \n",
            "                                                                 \n",
            " dense_11 (Dense)            (None, 10)                90        \n",
            "                                                                 \n",
            "=================================================================\n",
            "Total params: 267170 (1.02 MB)\n",
            "Trainable params: 267170 (1.02 MB)\n",
            "Non-trainable params: 0 (0.00 Byte)\n",
            "_________________________________________________________________\n",
            "None\n"
          ]
        }
      ],
      "source": [
        "bilstm_model = get_sequence_model(\"BILSTM\")\n",
        "print(bilstm_model.summary())"
      ]
    },
    {
      "cell_type": "code",
      "execution_count": 84,
      "metadata": {
        "colab": {
          "base_uri": "https://localhost:8080/"
        },
        "id": "Rz0VQa_c5R6A",
        "outputId": "98230749-ec45-4c3a-c913-c45bfa24463e"
      },
      "outputs": [
        {
          "name": "stdout",
          "output_type": "stream",
          "text": [
            "Epoch 1/40\n",
            "23/23 [==============================] - 8s 99ms/step - loss: 2.1480 - accuracy: 0.2144 - val_loss: 1.9671 - val_accuracy: 0.3955\n",
            "Epoch 2/40\n",
            "23/23 [==============================] - 1s 36ms/step - loss: 1.9428 - accuracy: 0.3596 - val_loss: 1.8275 - val_accuracy: 0.4695\n",
            "Epoch 3/40\n",
            "23/23 [==============================] - 1s 33ms/step - loss: 1.7750 - accuracy: 0.4440 - val_loss: 1.5768 - val_accuracy: 0.4984\n",
            "Epoch 4/40\n",
            "23/23 [==============================] - 1s 32ms/step - loss: 1.5513 - accuracy: 0.4938 - val_loss: 1.3679 - val_accuracy: 0.5113\n",
            "Epoch 5/40\n",
            "23/23 [==============================] - 1s 31ms/step - loss: 1.3782 - accuracy: 0.5408 - val_loss: 1.2149 - val_accuracy: 0.6431\n",
            "Epoch 6/40\n",
            "23/23 [==============================] - 1s 32ms/step - loss: 1.2267 - accuracy: 0.6210 - val_loss: 1.0594 - val_accuracy: 0.7267\n",
            "Epoch 7/40\n",
            "23/23 [==============================] - 1s 36ms/step - loss: 1.0840 - accuracy: 0.6653 - val_loss: 0.9575 - val_accuracy: 0.7331\n",
            "Epoch 8/40\n",
            "23/23 [==============================] - 1s 33ms/step - loss: 0.9905 - accuracy: 0.7123 - val_loss: 0.8503 - val_accuracy: 0.7588\n",
            "Epoch 9/40\n",
            "23/23 [==============================] - 1s 33ms/step - loss: 0.8943 - accuracy: 0.7483 - val_loss: 0.8002 - val_accuracy: 0.8135\n",
            "Epoch 10/40\n",
            "23/23 [==============================] - 1s 31ms/step - loss: 0.7982 - accuracy: 0.7621 - val_loss: 0.6408 - val_accuracy: 0.8682\n",
            "Epoch 11/40\n",
            "23/23 [==============================] - 1s 32ms/step - loss: 0.7141 - accuracy: 0.8119 - val_loss: 0.7307 - val_accuracy: 0.7974\n",
            "Epoch 12/40\n",
            "23/23 [==============================] - 1s 32ms/step - loss: 0.6157 - accuracy: 0.8409 - val_loss: 0.5123 - val_accuracy: 0.8778\n",
            "Epoch 13/40\n",
            "23/23 [==============================] - 1s 31ms/step - loss: 0.5559 - accuracy: 0.8437 - val_loss: 0.4696 - val_accuracy: 0.8746\n",
            "Epoch 14/40\n",
            "23/23 [==============================] - 1s 34ms/step - loss: 0.4926 - accuracy: 0.8811 - val_loss: 0.4513 - val_accuracy: 0.8842\n",
            "Epoch 15/40\n",
            "23/23 [==============================] - 1s 33ms/step - loss: 0.4617 - accuracy: 0.8769 - val_loss: 0.4692 - val_accuracy: 0.8521\n",
            "Epoch 16/40\n",
            "23/23 [==============================] - 1s 33ms/step - loss: 0.4664 - accuracy: 0.8506 - val_loss: 0.4174 - val_accuracy: 0.8842\n",
            "Epoch 17/40\n",
            "23/23 [==============================] - 1s 34ms/step - loss: 0.4008 - accuracy: 0.8963 - val_loss: 0.3231 - val_accuracy: 0.9003\n",
            "Epoch 18/40\n",
            "23/23 [==============================] - 1s 29ms/step - loss: 0.4343 - accuracy: 0.8811 - val_loss: 0.3707 - val_accuracy: 0.8907\n",
            "Epoch 19/40\n",
            "23/23 [==============================] - 1s 32ms/step - loss: 0.3755 - accuracy: 0.8838 - val_loss: 0.3199 - val_accuracy: 0.9035\n",
            "Epoch 20/40\n",
            "23/23 [==============================] - 1s 33ms/step - loss: 0.3390 - accuracy: 0.9018 - val_loss: 0.2645 - val_accuracy: 0.9132\n",
            "Epoch 21/40\n",
            "23/23 [==============================] - 1s 30ms/step - loss: 0.3170 - accuracy: 0.9004 - val_loss: 0.2641 - val_accuracy: 0.9035\n",
            "Epoch 22/40\n",
            "23/23 [==============================] - 1s 29ms/step - loss: 0.2970 - accuracy: 0.9046 - val_loss: 0.3001 - val_accuracy: 0.8907\n",
            "Epoch 23/40\n",
            "23/23 [==============================] - 1s 28ms/step - loss: 0.2817 - accuracy: 0.9087 - val_loss: 0.2547 - val_accuracy: 0.9003\n",
            "Epoch 24/40\n",
            "23/23 [==============================] - 1s 29ms/step - loss: 0.2827 - accuracy: 0.8990 - val_loss: 0.2450 - val_accuracy: 0.9035\n",
            "Epoch 25/40\n",
            "23/23 [==============================] - 1s 26ms/step - loss: 0.2447 - accuracy: 0.9170 - val_loss: 0.2518 - val_accuracy: 0.8907\n",
            "Epoch 26/40\n",
            "23/23 [==============================] - 1s 29ms/step - loss: 0.2534 - accuracy: 0.9198 - val_loss: 0.2442 - val_accuracy: 0.9100\n",
            "Epoch 27/40\n",
            "23/23 [==============================] - 1s 35ms/step - loss: 0.2457 - accuracy: 0.9059 - val_loss: 0.2232 - val_accuracy: 0.9035\n",
            "Epoch 28/40\n",
            "23/23 [==============================] - 1s 40ms/step - loss: 0.2198 - accuracy: 0.9129 - val_loss: 0.2266 - val_accuracy: 0.9035\n",
            "Epoch 29/40\n",
            "23/23 [==============================] - 1s 26ms/step - loss: 0.2389 - accuracy: 0.9059 - val_loss: 0.2556 - val_accuracy: 0.8842\n",
            "Epoch 30/40\n",
            "23/23 [==============================] - 1s 29ms/step - loss: 0.2223 - accuracy: 0.9059 - val_loss: 0.2115 - val_accuracy: 0.9068\n",
            "Epoch 31/40\n",
            "23/23 [==============================] - 1s 26ms/step - loss: 0.2402 - accuracy: 0.9059 - val_loss: 0.2460 - val_accuracy: 0.8939\n",
            "Epoch 32/40\n",
            "23/23 [==============================] - 1s 26ms/step - loss: 0.2136 - accuracy: 0.9156 - val_loss: 0.2481 - val_accuracy: 0.8971\n",
            "Epoch 33/40\n",
            "23/23 [==============================] - 1s 27ms/step - loss: 0.2147 - accuracy: 0.9032 - val_loss: 0.2222 - val_accuracy: 0.9068\n",
            "Epoch 34/40\n",
            "23/23 [==============================] - 1s 35ms/step - loss: 0.2210 - accuracy: 0.8990 - val_loss: 0.2315 - val_accuracy: 0.8971\n",
            "Epoch 35/40\n",
            "23/23 [==============================] - 1s 27ms/step - loss: 0.1878 - accuracy: 0.9308 - val_loss: 0.2310 - val_accuracy: 0.9035\n",
            "Epoch 36/40\n",
            "23/23 [==============================] - 1s 30ms/step - loss: 0.1912 - accuracy: 0.9308 - val_loss: 0.2374 - val_accuracy: 0.9035\n",
            "Epoch 37/40\n",
            "23/23 [==============================] - 1s 29ms/step - loss: 0.1993 - accuracy: 0.9073 - val_loss: 0.2331 - val_accuracy: 0.8939\n",
            "Epoch 38/40\n",
            "23/23 [==============================] - 1s 26ms/step - loss: 0.2148 - accuracy: 0.9059 - val_loss: 0.4014 - val_accuracy: 0.8585\n",
            "Epoch 39/40\n",
            "23/23 [==============================] - 1s 27ms/step - loss: 0.3096 - accuracy: 0.8907 - val_loss: 0.2689 - val_accuracy: 0.8939\n",
            "Epoch 40/40\n",
            "23/23 [==============================] - 1s 26ms/step - loss: 0.3785 - accuracy: 0.8479 - val_loss: 0.4112 - val_accuracy: 0.8553\n",
            "9/9 [==============================] - 0s 9ms/step - loss: 0.2827 - accuracy: 0.8880\n",
            "Test accuracy: 88.8%\n",
            "Training of BILSTM took : 36.409029722213745 s\n"
          ]
        }
      ],
      "source": [
        "t1 = time.time()\n",
        "_, bilstm_model = run_experiment('BILSTM')\n",
        "blstm_t2 = time.time() - t1\n",
        "print(f'Training of BILSTM took : {blstm_t2} s')"
      ]
    },
    {
      "cell_type": "code",
      "execution_count": 85,
      "metadata": {
        "colab": {
          "base_uri": "https://localhost:8080/"
        },
        "id": "j1rP-pbGi2ce",
        "outputId": "8fc0ba0b-8c96-401c-ea28-1d7491cc7724"
      },
      "outputs": [
        {
          "name": "stdout",
          "output_type": "stream",
          "text": [
            "9/9 [==============================] - 1s 11ms/step\n",
            "              precision    recall  f1-score   support\n",
            "\n",
            "           0       0.97      0.95      0.96        37\n",
            "           1       0.97      0.91      0.94        34\n",
            "           2       0.92      1.00      0.96        23\n",
            "           3       1.00      1.00      1.00        29\n",
            "           4       0.87      0.95      0.91        21\n",
            "           5       0.56      0.96      0.70        26\n",
            "           6       0.33      0.04      0.08        23\n",
            "           7       1.00      1.00      1.00        23\n",
            "           8       1.00      1.00      1.00        22\n",
            "           9       1.00      1.00      1.00        21\n",
            "\n",
            "    accuracy                           0.89       259\n",
            "   macro avg       0.86      0.88      0.85       259\n",
            "weighted avg       0.87      0.89      0.86       259\n",
            "\n"
          ]
        }
      ],
      "source": [
        "y_pred_bilstm = bilstm_model.predict(X_test)\n",
        "print(classification_report(y_test,np.argmax(y_pred_bilstm,axis=1)))"
      ]
    },
    {
      "cell_type": "code",
      "execution_count": 86,
      "metadata": {
        "colab": {
          "base_uri": "https://localhost:8080/",
          "height": 447
        },
        "id": "A77YHr1F_ylh",
        "outputId": "f96ce7be-1407-4ad4-deb7-969e7804ef94"
      },
      "outputs": [
        {
          "data": {
            "text/plain": [
              "<Axes: >"
            ]
          },
          "execution_count": 86,
          "metadata": {},
          "output_type": "execute_result"
        },
        {
          "data": {
            "image/png": "[encoded data removed]",
            "text/plain": [
              "<Figure size 640x480 with 2 Axes>"
            ]
          },
          "metadata": {},
          "output_type": "display_data"
        }
      ],
      "source": [
        "sns.heatmap(confusion_matrix(y_test,np.argmax(y_pred_bilstm,axis=1)),cmap=\"viridis\")"
      ]
    },
    {
      "cell_type": "markdown",
      "metadata": {
        "id": "VH9uckbj3Noc"
      },
      "source": [
        "# **4.Results**\n"
      ]
    },
    {
      "cell_type": "markdown",
      "metadata": {
        "id": "xHStmISO4Hnp"
      },
      "source": [
        "**Testing the model using a random video downloaded from internet**"
      ]
    },
    {
      "cell_type": "markdown",
      "metadata": {
        "id": "csnmfqjI4L_4"
      },
      "source": [
        "The test video from the internet shows a man doing pushups\n"
      ]
    },
    {
      "cell_type": "code",
      "execution_count": 120,
      "metadata": {
        "id": "8lbI0Qs4Giw-"
      },
      "outputs": [],
      "source": [
        "test_online_video_path = \"test/PushUp.mp4\""
      ]
    },
    {
      "cell_type": "code",
      "execution_count": 123,
      "metadata": {},
      "outputs": [
        {
          "name": "stdout",
          "output_type": "stream",
          "text": [
            "1/1 [==============================] - 1s 501ms/step\n",
            "1/1 [==============================] - 0s 18ms/step\n",
            "PushUps: 84.77%\n",
            "TrampolineJumping:  5.38%\n",
            "ApplyEyeMakeup:  4.34%\n",
            "Biking:  3.93%\n",
            "Typing:  1.29%\n",
            "Swing:  0.15%\n",
            "BabyCrawling:  0.06%\n",
            "PizzaTossing:  0.05%\n",
            "Billiards:  0.03%\n",
            "BrushingTeeth:  0.01%\n"
          ]
        }
      ],
      "source": [
        "frames = utility.load_video(test_online_video_path)\n",
        "class_vocab = label_processor.get_vocabulary()\n",
        "frame_features = feature_extractor.predict(frames).reshape(1,20,2048)\n",
        "probabilities = gru_model.predict(frame_features)[0]\n",
        "max_label = class_vocab[np.argsort(probabilities)[-1]]\n",
        "for i in np.argsort(probabilities)[::-1]:\n",
        "    print(f\"{class_vocab[i]}: {probabilities[i] * 100:5.2f}%\")"
      ]
    },
    {
      "cell_type": "markdown",
      "metadata": {
        "id": "jzsLDprYGwM_"
      },
      "source": [
        "**Comment:**"
      ]
    },
    {
      "cell_type": "markdown",
      "metadata": {
        "id": "HOfyZLFv5ihH"
      },
      "source": [
        "From the training and testing accuracy results of our trained models (LSTM, GRU, and BILSTM), it's clear they excel in classifying human activities. Assessing the confusion matrices for each model, we notice values being 0 almost everywhere around the diagonal, showcasing remarkable performance. Yet, considering the training duration, BILSTM takes nearly double the time of LSTM and GRU models. Consequently, we'll opt for **LSTM** as our deployment model for production."
      ]
    },
    {
      "cell_type": "code",
      "execution_count": null,
      "metadata": {
        "id": "8AORGJAeER-l"
      },
      "outputs": [],
      "source": [
        "#save the model to be deployed in production"
      ]
    },
    {
      "cell_type": "code",
      "execution_count": null,
      "metadata": {
        "colab": {
          "base_uri": "https://localhost:8080/"
        },
        "id": "5GhMHYP4s8wq",
        "outputId": "f24cba5a-4fb3-472a-c852-873b26d127e6"
      },
      "outputs": [
        {
          "name": "stderr",
          "output_type": "stream",
          "text": [
            "/usr/local/lib/python3.10/dist-packages/keras/src/engine/training.py:3103: UserWarning: You are saving your model as an HDF5 file via `model.save()`. This file format is considered legacy. We recommend using instead the native Keras format, e.g. `model.save('my_model.keras')`.\n",
            "  saving_api.save_model(\n"
          ]
        }
      ],
      "source": [
        "lstm_model.save(\"models/final_model.h5\")"
      ]
    }
  ],
  "metadata": {
    "accelerator": "GPU",
    "colab": {
      "provenance": []
    },
    "kernelspec": {
      "display_name": "Python 3",
      "name": "python3"
    },
    "language_info": {
      "codemirror_mode": {
        "name": "ipython",
        "version": 3
      },
      "file_extension": ".py",
      "mimetype": "text/x-python",
      "name": "python",
      "nbconvert_exporter": "python",
      "pygments_lexer": "ipython3",
      "version": "3.8.10"
    }
  },
  "nbformat": 4,
  "nbformat_minor": 0
}
